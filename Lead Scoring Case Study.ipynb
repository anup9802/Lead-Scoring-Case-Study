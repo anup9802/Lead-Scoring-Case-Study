{
 "cells": [
  {
   "cell_type": "markdown",
   "metadata": {},
   "source": [
    "## Lead Scoring Case Study"
   ]
  },
  {
   "cell_type": "code",
   "execution_count": 1,
   "metadata": {},
   "outputs": [],
   "source": [
    "#importing all the necessary libraries\n",
    "import pandas as pd\n",
    "import numpy as np\n",
    "import matplotlib.pyplot as plt\n",
    "import seaborn as sns\n",
    "\n",
    "from sklearn.model_selection import train_test_split\n",
    "\n",
    "from sklearn.preprocessing import StandardScaler\n",
    "\n",
    "import statsmodels.api as sm\n",
    "\n",
    "from sklearn.linear_model import LogisticRegression\n",
    "\n",
    "from sklearn.feature_selection import RFE\n",
    "from statsmodels.stats.outliers_influence import variance_inflation_factor\n",
    "\n",
    "\n",
    "from sklearn import metrics\n",
    "from sklearn.metrics import confusion_matrix\n",
    "from sklearn.metrics import precision_score, recall_score\n",
    "\n",
    "from sklearn.metrics import precision_recall_curve\n",
    "\n",
    "# Suppressing Warnings\n",
    "import warnings\n",
    "warnings.filterwarnings('ignore')"
   ]
  },
  {
   "cell_type": "code",
   "execution_count": 2,
   "metadata": {},
   "outputs": [
    {
     "name": "stdout",
     "output_type": "stream",
     "text": [
      "Shape of the df: (9240, 37)\n"
     ]
    },
    {
     "data": {
      "text/html": [
       "<div>\n",
       "<style scoped>\n",
       "    .dataframe tbody tr th:only-of-type {\n",
       "        vertical-align: middle;\n",
       "    }\n",
       "\n",
       "    .dataframe tbody tr th {\n",
       "        vertical-align: top;\n",
       "    }\n",
       "\n",
       "    .dataframe thead th {\n",
       "        text-align: right;\n",
       "    }\n",
       "</style>\n",
       "<table border=\"1\" class=\"dataframe\">\n",
       "  <thead>\n",
       "    <tr style=\"text-align: right;\">\n",
       "      <th></th>\n",
       "      <th>Prospect ID</th>\n",
       "      <th>Lead Number</th>\n",
       "      <th>Lead Origin</th>\n",
       "      <th>Lead Source</th>\n",
       "      <th>Do Not Email</th>\n",
       "      <th>Do Not Call</th>\n",
       "      <th>Converted</th>\n",
       "      <th>TotalVisits</th>\n",
       "      <th>Total Time Spent on Website</th>\n",
       "      <th>Page Views Per Visit</th>\n",
       "      <th>...</th>\n",
       "      <th>Get updates on DM Content</th>\n",
       "      <th>Lead Profile</th>\n",
       "      <th>City</th>\n",
       "      <th>Asymmetrique Activity Index</th>\n",
       "      <th>Asymmetrique Profile Index</th>\n",
       "      <th>Asymmetrique Activity Score</th>\n",
       "      <th>Asymmetrique Profile Score</th>\n",
       "      <th>I agree to pay the amount through cheque</th>\n",
       "      <th>A free copy of Mastering The Interview</th>\n",
       "      <th>Last Notable Activity</th>\n",
       "    </tr>\n",
       "  </thead>\n",
       "  <tbody>\n",
       "    <tr>\n",
       "      <th>0</th>\n",
       "      <td>7927b2df-8bba-4d29-b9a2-b6e0beafe620</td>\n",
       "      <td>660737</td>\n",
       "      <td>API</td>\n",
       "      <td>Olark Chat</td>\n",
       "      <td>No</td>\n",
       "      <td>No</td>\n",
       "      <td>0</td>\n",
       "      <td>0.0</td>\n",
       "      <td>0</td>\n",
       "      <td>0.0</td>\n",
       "      <td>...</td>\n",
       "      <td>No</td>\n",
       "      <td>Select</td>\n",
       "      <td>Select</td>\n",
       "      <td>02.Medium</td>\n",
       "      <td>02.Medium</td>\n",
       "      <td>15.0</td>\n",
       "      <td>15.0</td>\n",
       "      <td>No</td>\n",
       "      <td>No</td>\n",
       "      <td>Modified</td>\n",
       "    </tr>\n",
       "    <tr>\n",
       "      <th>1</th>\n",
       "      <td>2a272436-5132-4136-86fa-dcc88c88f482</td>\n",
       "      <td>660728</td>\n",
       "      <td>API</td>\n",
       "      <td>Organic Search</td>\n",
       "      <td>No</td>\n",
       "      <td>No</td>\n",
       "      <td>0</td>\n",
       "      <td>5.0</td>\n",
       "      <td>674</td>\n",
       "      <td>2.5</td>\n",
       "      <td>...</td>\n",
       "      <td>No</td>\n",
       "      <td>Select</td>\n",
       "      <td>Select</td>\n",
       "      <td>02.Medium</td>\n",
       "      <td>02.Medium</td>\n",
       "      <td>15.0</td>\n",
       "      <td>15.0</td>\n",
       "      <td>No</td>\n",
       "      <td>No</td>\n",
       "      <td>Email Opened</td>\n",
       "    </tr>\n",
       "    <tr>\n",
       "      <th>2</th>\n",
       "      <td>8cc8c611-a219-4f35-ad23-fdfd2656bd8a</td>\n",
       "      <td>660727</td>\n",
       "      <td>Landing Page Submission</td>\n",
       "      <td>Direct Traffic</td>\n",
       "      <td>No</td>\n",
       "      <td>No</td>\n",
       "      <td>1</td>\n",
       "      <td>2.0</td>\n",
       "      <td>1532</td>\n",
       "      <td>2.0</td>\n",
       "      <td>...</td>\n",
       "      <td>No</td>\n",
       "      <td>Potential Lead</td>\n",
       "      <td>Mumbai</td>\n",
       "      <td>02.Medium</td>\n",
       "      <td>01.High</td>\n",
       "      <td>14.0</td>\n",
       "      <td>20.0</td>\n",
       "      <td>No</td>\n",
       "      <td>Yes</td>\n",
       "      <td>Email Opened</td>\n",
       "    </tr>\n",
       "  </tbody>\n",
       "</table>\n",
       "<p>3 rows × 37 columns</p>\n",
       "</div>"
      ],
      "text/plain": [
       "                            Prospect ID  Lead Number              Lead Origin  \\\n",
       "0  7927b2df-8bba-4d29-b9a2-b6e0beafe620       660737                      API   \n",
       "1  2a272436-5132-4136-86fa-dcc88c88f482       660728                      API   \n",
       "2  8cc8c611-a219-4f35-ad23-fdfd2656bd8a       660727  Landing Page Submission   \n",
       "\n",
       "      Lead Source Do Not Email Do Not Call  Converted  TotalVisits  \\\n",
       "0      Olark Chat           No          No          0          0.0   \n",
       "1  Organic Search           No          No          0          5.0   \n",
       "2  Direct Traffic           No          No          1          2.0   \n",
       "\n",
       "   Total Time Spent on Website  Page Views Per Visit          ...           \\\n",
       "0                            0                   0.0          ...            \n",
       "1                          674                   2.5          ...            \n",
       "2                         1532                   2.0          ...            \n",
       "\n",
       "  Get updates on DM Content    Lead Profile    City  \\\n",
       "0                        No          Select  Select   \n",
       "1                        No          Select  Select   \n",
       "2                        No  Potential Lead  Mumbai   \n",
       "\n",
       "  Asymmetrique Activity Index Asymmetrique Profile Index  \\\n",
       "0                   02.Medium                  02.Medium   \n",
       "1                   02.Medium                  02.Medium   \n",
       "2                   02.Medium                    01.High   \n",
       "\n",
       "  Asymmetrique Activity Score Asymmetrique Profile Score  \\\n",
       "0                        15.0                       15.0   \n",
       "1                        15.0                       15.0   \n",
       "2                        14.0                       20.0   \n",
       "\n",
       "  I agree to pay the amount through cheque  \\\n",
       "0                                       No   \n",
       "1                                       No   \n",
       "2                                       No   \n",
       "\n",
       "  A free copy of Mastering The Interview Last Notable Activity  \n",
       "0                                     No              Modified  \n",
       "1                                     No          Email Opened  \n",
       "2                                    Yes          Email Opened  \n",
       "\n",
       "[3 rows x 37 columns]"
      ]
     },
     "execution_count": 2,
     "metadata": {},
     "output_type": "execute_result"
    }
   ],
   "source": [
    "#Reading the csv file\n",
    "df = pd.read_csv('Leads.csv')\n",
    "print('Shape of the df:', df.shape)\n",
    "df.head(3)"
   ]
  },
  {
   "cell_type": "code",
   "execution_count": 3,
   "metadata": {},
   "outputs": [
    {
     "data": {
      "text/plain": [
       "0"
      ]
     },
     "execution_count": 3,
     "metadata": {},
     "output_type": "execute_result"
    }
   ],
   "source": [
    "#Checking for duplicate rows\n",
    "sum(df.duplicated(subset = 'Prospect ID'))"
   ]
  },
  {
   "cell_type": "markdown",
   "metadata": {},
   "source": [
    "There is no duplicate row with respect to 'Prospect ID'"
   ]
  },
  {
   "cell_type": "code",
   "execution_count": 4,
   "metadata": {},
   "outputs": [
    {
     "data": {
      "text/html": [
       "<div>\n",
       "<style scoped>\n",
       "    .dataframe tbody tr th:only-of-type {\n",
       "        vertical-align: middle;\n",
       "    }\n",
       "\n",
       "    .dataframe tbody tr th {\n",
       "        vertical-align: top;\n",
       "    }\n",
       "\n",
       "    .dataframe thead th {\n",
       "        text-align: right;\n",
       "    }\n",
       "</style>\n",
       "<table border=\"1\" class=\"dataframe\">\n",
       "  <thead>\n",
       "    <tr style=\"text-align: right;\">\n",
       "      <th></th>\n",
       "      <th>Prospect ID</th>\n",
       "      <th>Lead Number</th>\n",
       "      <th>Lead Origin</th>\n",
       "      <th>Lead Source</th>\n",
       "      <th>Do Not Email</th>\n",
       "      <th>Do Not Call</th>\n",
       "      <th>Converted</th>\n",
       "      <th>TotalVisits</th>\n",
       "      <th>Total Time Spent on Website</th>\n",
       "      <th>Page Views Per Visit</th>\n",
       "      <th>...</th>\n",
       "      <th>Get updates on DM Content</th>\n",
       "      <th>Lead Profile</th>\n",
       "      <th>City</th>\n",
       "      <th>Asymmetrique Activity Index</th>\n",
       "      <th>Asymmetrique Profile Index</th>\n",
       "      <th>Asymmetrique Activity Score</th>\n",
       "      <th>Asymmetrique Profile Score</th>\n",
       "      <th>I agree to pay the amount through cheque</th>\n",
       "      <th>A free copy of Mastering The Interview</th>\n",
       "      <th>Last Notable Activity</th>\n",
       "    </tr>\n",
       "  </thead>\n",
       "  <tbody>\n",
       "    <tr>\n",
       "      <th>count</th>\n",
       "      <td>9240</td>\n",
       "      <td>9240.000000</td>\n",
       "      <td>9240</td>\n",
       "      <td>9204</td>\n",
       "      <td>9240</td>\n",
       "      <td>9240</td>\n",
       "      <td>9240.000000</td>\n",
       "      <td>9103.000000</td>\n",
       "      <td>9240.000000</td>\n",
       "      <td>9103.000000</td>\n",
       "      <td>...</td>\n",
       "      <td>9240</td>\n",
       "      <td>6531</td>\n",
       "      <td>7820</td>\n",
       "      <td>5022</td>\n",
       "      <td>5022</td>\n",
       "      <td>5022.000000</td>\n",
       "      <td>5022.000000</td>\n",
       "      <td>9240</td>\n",
       "      <td>9240</td>\n",
       "      <td>9240</td>\n",
       "    </tr>\n",
       "    <tr>\n",
       "      <th>unique</th>\n",
       "      <td>9240</td>\n",
       "      <td>NaN</td>\n",
       "      <td>5</td>\n",
       "      <td>21</td>\n",
       "      <td>2</td>\n",
       "      <td>2</td>\n",
       "      <td>NaN</td>\n",
       "      <td>NaN</td>\n",
       "      <td>NaN</td>\n",
       "      <td>NaN</td>\n",
       "      <td>...</td>\n",
       "      <td>1</td>\n",
       "      <td>6</td>\n",
       "      <td>7</td>\n",
       "      <td>3</td>\n",
       "      <td>3</td>\n",
       "      <td>NaN</td>\n",
       "      <td>NaN</td>\n",
       "      <td>1</td>\n",
       "      <td>2</td>\n",
       "      <td>16</td>\n",
       "    </tr>\n",
       "    <tr>\n",
       "      <th>top</th>\n",
       "      <td>c4d68ab2-7680-44c6-b654-50bb22fa438a</td>\n",
       "      <td>NaN</td>\n",
       "      <td>Landing Page Submission</td>\n",
       "      <td>Google</td>\n",
       "      <td>No</td>\n",
       "      <td>No</td>\n",
       "      <td>NaN</td>\n",
       "      <td>NaN</td>\n",
       "      <td>NaN</td>\n",
       "      <td>NaN</td>\n",
       "      <td>...</td>\n",
       "      <td>No</td>\n",
       "      <td>Select</td>\n",
       "      <td>Mumbai</td>\n",
       "      <td>02.Medium</td>\n",
       "      <td>02.Medium</td>\n",
       "      <td>NaN</td>\n",
       "      <td>NaN</td>\n",
       "      <td>No</td>\n",
       "      <td>No</td>\n",
       "      <td>Modified</td>\n",
       "    </tr>\n",
       "    <tr>\n",
       "      <th>freq</th>\n",
       "      <td>1</td>\n",
       "      <td>NaN</td>\n",
       "      <td>4886</td>\n",
       "      <td>2868</td>\n",
       "      <td>8506</td>\n",
       "      <td>9238</td>\n",
       "      <td>NaN</td>\n",
       "      <td>NaN</td>\n",
       "      <td>NaN</td>\n",
       "      <td>NaN</td>\n",
       "      <td>...</td>\n",
       "      <td>9240</td>\n",
       "      <td>4146</td>\n",
       "      <td>3222</td>\n",
       "      <td>3839</td>\n",
       "      <td>2788</td>\n",
       "      <td>NaN</td>\n",
       "      <td>NaN</td>\n",
       "      <td>9240</td>\n",
       "      <td>6352</td>\n",
       "      <td>3407</td>\n",
       "    </tr>\n",
       "    <tr>\n",
       "      <th>mean</th>\n",
       "      <td>NaN</td>\n",
       "      <td>617188.435606</td>\n",
       "      <td>NaN</td>\n",
       "      <td>NaN</td>\n",
       "      <td>NaN</td>\n",
       "      <td>NaN</td>\n",
       "      <td>0.385390</td>\n",
       "      <td>3.445238</td>\n",
       "      <td>487.698268</td>\n",
       "      <td>2.362820</td>\n",
       "      <td>...</td>\n",
       "      <td>NaN</td>\n",
       "      <td>NaN</td>\n",
       "      <td>NaN</td>\n",
       "      <td>NaN</td>\n",
       "      <td>NaN</td>\n",
       "      <td>14.306252</td>\n",
       "      <td>16.344883</td>\n",
       "      <td>NaN</td>\n",
       "      <td>NaN</td>\n",
       "      <td>NaN</td>\n",
       "    </tr>\n",
       "    <tr>\n",
       "      <th>std</th>\n",
       "      <td>NaN</td>\n",
       "      <td>23405.995698</td>\n",
       "      <td>NaN</td>\n",
       "      <td>NaN</td>\n",
       "      <td>NaN</td>\n",
       "      <td>NaN</td>\n",
       "      <td>0.486714</td>\n",
       "      <td>4.854853</td>\n",
       "      <td>548.021466</td>\n",
       "      <td>2.161418</td>\n",
       "      <td>...</td>\n",
       "      <td>NaN</td>\n",
       "      <td>NaN</td>\n",
       "      <td>NaN</td>\n",
       "      <td>NaN</td>\n",
       "      <td>NaN</td>\n",
       "      <td>1.386694</td>\n",
       "      <td>1.811395</td>\n",
       "      <td>NaN</td>\n",
       "      <td>NaN</td>\n",
       "      <td>NaN</td>\n",
       "    </tr>\n",
       "    <tr>\n",
       "      <th>min</th>\n",
       "      <td>NaN</td>\n",
       "      <td>579533.000000</td>\n",
       "      <td>NaN</td>\n",
       "      <td>NaN</td>\n",
       "      <td>NaN</td>\n",
       "      <td>NaN</td>\n",
       "      <td>0.000000</td>\n",
       "      <td>0.000000</td>\n",
       "      <td>0.000000</td>\n",
       "      <td>0.000000</td>\n",
       "      <td>...</td>\n",
       "      <td>NaN</td>\n",
       "      <td>NaN</td>\n",
       "      <td>NaN</td>\n",
       "      <td>NaN</td>\n",
       "      <td>NaN</td>\n",
       "      <td>7.000000</td>\n",
       "      <td>11.000000</td>\n",
       "      <td>NaN</td>\n",
       "      <td>NaN</td>\n",
       "      <td>NaN</td>\n",
       "    </tr>\n",
       "    <tr>\n",
       "      <th>25%</th>\n",
       "      <td>NaN</td>\n",
       "      <td>596484.500000</td>\n",
       "      <td>NaN</td>\n",
       "      <td>NaN</td>\n",
       "      <td>NaN</td>\n",
       "      <td>NaN</td>\n",
       "      <td>0.000000</td>\n",
       "      <td>1.000000</td>\n",
       "      <td>12.000000</td>\n",
       "      <td>1.000000</td>\n",
       "      <td>...</td>\n",
       "      <td>NaN</td>\n",
       "      <td>NaN</td>\n",
       "      <td>NaN</td>\n",
       "      <td>NaN</td>\n",
       "      <td>NaN</td>\n",
       "      <td>14.000000</td>\n",
       "      <td>15.000000</td>\n",
       "      <td>NaN</td>\n",
       "      <td>NaN</td>\n",
       "      <td>NaN</td>\n",
       "    </tr>\n",
       "    <tr>\n",
       "      <th>50%</th>\n",
       "      <td>NaN</td>\n",
       "      <td>615479.000000</td>\n",
       "      <td>NaN</td>\n",
       "      <td>NaN</td>\n",
       "      <td>NaN</td>\n",
       "      <td>NaN</td>\n",
       "      <td>0.000000</td>\n",
       "      <td>3.000000</td>\n",
       "      <td>248.000000</td>\n",
       "      <td>2.000000</td>\n",
       "      <td>...</td>\n",
       "      <td>NaN</td>\n",
       "      <td>NaN</td>\n",
       "      <td>NaN</td>\n",
       "      <td>NaN</td>\n",
       "      <td>NaN</td>\n",
       "      <td>14.000000</td>\n",
       "      <td>16.000000</td>\n",
       "      <td>NaN</td>\n",
       "      <td>NaN</td>\n",
       "      <td>NaN</td>\n",
       "    </tr>\n",
       "    <tr>\n",
       "      <th>75%</th>\n",
       "      <td>NaN</td>\n",
       "      <td>637387.250000</td>\n",
       "      <td>NaN</td>\n",
       "      <td>NaN</td>\n",
       "      <td>NaN</td>\n",
       "      <td>NaN</td>\n",
       "      <td>1.000000</td>\n",
       "      <td>5.000000</td>\n",
       "      <td>936.000000</td>\n",
       "      <td>3.000000</td>\n",
       "      <td>...</td>\n",
       "      <td>NaN</td>\n",
       "      <td>NaN</td>\n",
       "      <td>NaN</td>\n",
       "      <td>NaN</td>\n",
       "      <td>NaN</td>\n",
       "      <td>15.000000</td>\n",
       "      <td>18.000000</td>\n",
       "      <td>NaN</td>\n",
       "      <td>NaN</td>\n",
       "      <td>NaN</td>\n",
       "    </tr>\n",
       "    <tr>\n",
       "      <th>max</th>\n",
       "      <td>NaN</td>\n",
       "      <td>660737.000000</td>\n",
       "      <td>NaN</td>\n",
       "      <td>NaN</td>\n",
       "      <td>NaN</td>\n",
       "      <td>NaN</td>\n",
       "      <td>1.000000</td>\n",
       "      <td>251.000000</td>\n",
       "      <td>2272.000000</td>\n",
       "      <td>55.000000</td>\n",
       "      <td>...</td>\n",
       "      <td>NaN</td>\n",
       "      <td>NaN</td>\n",
       "      <td>NaN</td>\n",
       "      <td>NaN</td>\n",
       "      <td>NaN</td>\n",
       "      <td>18.000000</td>\n",
       "      <td>20.000000</td>\n",
       "      <td>NaN</td>\n",
       "      <td>NaN</td>\n",
       "      <td>NaN</td>\n",
       "    </tr>\n",
       "  </tbody>\n",
       "</table>\n",
       "<p>11 rows × 37 columns</p>\n",
       "</div>"
      ],
      "text/plain": [
       "                                 Prospect ID    Lead Number  \\\n",
       "count                                   9240    9240.000000   \n",
       "unique                                  9240            NaN   \n",
       "top     c4d68ab2-7680-44c6-b654-50bb22fa438a            NaN   \n",
       "freq                                       1            NaN   \n",
       "mean                                     NaN  617188.435606   \n",
       "std                                      NaN   23405.995698   \n",
       "min                                      NaN  579533.000000   \n",
       "25%                                      NaN  596484.500000   \n",
       "50%                                      NaN  615479.000000   \n",
       "75%                                      NaN  637387.250000   \n",
       "max                                      NaN  660737.000000   \n",
       "\n",
       "                    Lead Origin Lead Source Do Not Email Do Not Call  \\\n",
       "count                      9240        9204         9240        9240   \n",
       "unique                        5          21            2           2   \n",
       "top     Landing Page Submission      Google           No          No   \n",
       "freq                       4886        2868         8506        9238   \n",
       "mean                        NaN         NaN          NaN         NaN   \n",
       "std                         NaN         NaN          NaN         NaN   \n",
       "min                         NaN         NaN          NaN         NaN   \n",
       "25%                         NaN         NaN          NaN         NaN   \n",
       "50%                         NaN         NaN          NaN         NaN   \n",
       "75%                         NaN         NaN          NaN         NaN   \n",
       "max                         NaN         NaN          NaN         NaN   \n",
       "\n",
       "          Converted  TotalVisits  Total Time Spent on Website  \\\n",
       "count   9240.000000  9103.000000                  9240.000000   \n",
       "unique          NaN          NaN                          NaN   \n",
       "top             NaN          NaN                          NaN   \n",
       "freq            NaN          NaN                          NaN   \n",
       "mean       0.385390     3.445238                   487.698268   \n",
       "std        0.486714     4.854853                   548.021466   \n",
       "min        0.000000     0.000000                     0.000000   \n",
       "25%        0.000000     1.000000                    12.000000   \n",
       "50%        0.000000     3.000000                   248.000000   \n",
       "75%        1.000000     5.000000                   936.000000   \n",
       "max        1.000000   251.000000                  2272.000000   \n",
       "\n",
       "        Page Views Per Visit          ...          Get updates on DM Content  \\\n",
       "count            9103.000000          ...                               9240   \n",
       "unique                   NaN          ...                                  1   \n",
       "top                      NaN          ...                                 No   \n",
       "freq                     NaN          ...                               9240   \n",
       "mean                2.362820          ...                                NaN   \n",
       "std                 2.161418          ...                                NaN   \n",
       "min                 0.000000          ...                                NaN   \n",
       "25%                 1.000000          ...                                NaN   \n",
       "50%                 2.000000          ...                                NaN   \n",
       "75%                 3.000000          ...                                NaN   \n",
       "max                55.000000          ...                                NaN   \n",
       "\n",
       "       Lead Profile    City Asymmetrique Activity Index  \\\n",
       "count          6531    7820                        5022   \n",
       "unique            6       7                           3   \n",
       "top          Select  Mumbai                   02.Medium   \n",
       "freq           4146    3222                        3839   \n",
       "mean            NaN     NaN                         NaN   \n",
       "std             NaN     NaN                         NaN   \n",
       "min             NaN     NaN                         NaN   \n",
       "25%             NaN     NaN                         NaN   \n",
       "50%             NaN     NaN                         NaN   \n",
       "75%             NaN     NaN                         NaN   \n",
       "max             NaN     NaN                         NaN   \n",
       "\n",
       "       Asymmetrique Profile Index Asymmetrique Activity Score  \\\n",
       "count                        5022                 5022.000000   \n",
       "unique                          3                         NaN   \n",
       "top                     02.Medium                         NaN   \n",
       "freq                         2788                         NaN   \n",
       "mean                          NaN                   14.306252   \n",
       "std                           NaN                    1.386694   \n",
       "min                           NaN                    7.000000   \n",
       "25%                           NaN                   14.000000   \n",
       "50%                           NaN                   14.000000   \n",
       "75%                           NaN                   15.000000   \n",
       "max                           NaN                   18.000000   \n",
       "\n",
       "       Asymmetrique Profile Score I agree to pay the amount through cheque  \\\n",
       "count                 5022.000000                                     9240   \n",
       "unique                        NaN                                        1   \n",
       "top                           NaN                                       No   \n",
       "freq                          NaN                                     9240   \n",
       "mean                    16.344883                                      NaN   \n",
       "std                      1.811395                                      NaN   \n",
       "min                     11.000000                                      NaN   \n",
       "25%                     15.000000                                      NaN   \n",
       "50%                     16.000000                                      NaN   \n",
       "75%                     18.000000                                      NaN   \n",
       "max                     20.000000                                      NaN   \n",
       "\n",
       "       A free copy of Mastering The Interview Last Notable Activity  \n",
       "count                                    9240                  9240  \n",
       "unique                                      2                    16  \n",
       "top                                        No              Modified  \n",
       "freq                                     6352                  3407  \n",
       "mean                                      NaN                   NaN  \n",
       "std                                       NaN                   NaN  \n",
       "min                                       NaN                   NaN  \n",
       "25%                                       NaN                   NaN  \n",
       "50%                                       NaN                   NaN  \n",
       "75%                                       NaN                   NaN  \n",
       "max                                       NaN                   NaN  \n",
       "\n",
       "[11 rows x 37 columns]"
      ]
     },
     "execution_count": 4,
     "metadata": {},
     "output_type": "execute_result"
    }
   ],
   "source": [
    "#The statistical insight about the dataframe\n",
    "df.describe(include = 'all')"
   ]
  },
  {
   "cell_type": "code",
   "execution_count": 5,
   "metadata": {},
   "outputs": [
    {
     "name": "stdout",
     "output_type": "stream",
     "text": [
      "['Prospect ID', 'Lead Number', 'Lead Origin', 'Lead Source', 'Do Not Email', 'Do Not Call', 'Converted', 'TotalVisits', 'Total Time Spent on Website', 'Page Views Per Visit', 'Last Activity', 'Country', 'Specialization', 'How did you hear about X Education', 'What is your current occupation', 'What matters most to you in choosing a course', 'Search', 'Magazine', 'Newspaper Article', 'X Education Forums', 'Newspaper', 'Digital Advertisement', 'Through Recommendations', 'Receive More Updates About Our Courses', 'Tags', 'Lead Quality', 'Update me on Supply Chain Content', 'Get updates on DM Content', 'Lead Profile', 'City', 'Asymmetrique Activity Index', 'Asymmetrique Profile Index', 'Asymmetrique Activity Score', 'Asymmetrique Profile Score', 'I agree to pay the amount through cheque', 'A free copy of Mastering The Interview', 'Last Notable Activity']\n"
     ]
    }
   ],
   "source": [
    "#list of columns\n",
    "print(list(df))"
   ]
  },
  {
   "cell_type": "code",
   "execution_count": 6,
   "metadata": {},
   "outputs": [
    {
     "name": "stdout",
     "output_type": "stream",
     "text": [
      "Non-Numerical columns:\n",
      " ['Prospect ID', 'Lead Origin', 'Lead Source', 'Do Not Email', 'Do Not Call', 'Last Activity', 'Country', 'Specialization', 'How did you hear about X Education', 'What is your current occupation', 'What matters most to you in choosing a course', 'Search', 'Magazine', 'Newspaper Article', 'X Education Forums', 'Newspaper', 'Digital Advertisement', 'Through Recommendations', 'Receive More Updates About Our Courses', 'Tags', 'Lead Quality', 'Update me on Supply Chain Content', 'Get updates on DM Content', 'Lead Profile', 'City', 'Asymmetrique Activity Index', 'Asymmetrique Profile Index', 'I agree to pay the amount through cheque', 'A free copy of Mastering The Interview', 'Last Notable Activity']\n",
      "Numerical columns:\n",
      " ['Lead Number', 'Converted', 'TotalVisits', 'Total Time Spent on Website', 'Page Views Per Visit', 'Asymmetrique Activity Score', 'Asymmetrique Profile Score']\n"
     ]
    }
   ],
   "source": [
    "#identify numerical and non-numerical columns automatically\n",
    "NonNumCols = []\n",
    "NumCols = []\n",
    "\n",
    "for col in list(df):\n",
    "    if df[col].dtypes == 'object':\n",
    "        NonNumCols.append(col)\n",
    "    else:\n",
    "        NumCols.append(col)\n",
    "print('Non-Numerical columns:\\n',NonNumCols)\n",
    "\n",
    "print('Numerical columns:\\n',NumCols)"
   ]
  },
  {
   "cell_type": "code",
   "execution_count": 7,
   "metadata": {
    "scrolled": true
   },
   "outputs": [
    {
     "name": "stdout",
     "output_type": "stream",
     "text": [
      "Lead Origin -------------> \n",
      " Landing Page Submission    4886\n",
      "API                        3580\n",
      "Lead Add Form               718\n",
      "Lead Import                  55\n",
      "Quick Add Form                1\n",
      "Name: Lead Origin, dtype: int64\n",
      "Lead Source -------------> \n",
      " Google               2868\n",
      "Direct Traffic       2543\n",
      "Olark Chat           1755\n",
      "Organic Search       1154\n",
      "Reference             534\n",
      "Welingak Website      142\n",
      "Referral Sites        125\n",
      "Facebook               55\n",
      "bing                    6\n",
      "google                  5\n",
      "Click2call              4\n",
      "Live Chat               2\n",
      "Social Media            2\n",
      "Press_Release           2\n",
      "NC_EDM                  1\n",
      "blog                    1\n",
      "youtubechannel          1\n",
      "welearnblog_Home        1\n",
      "WeLearn                 1\n",
      "testone                 1\n",
      "Pay per Click Ads       1\n",
      "Name: Lead Source, dtype: int64\n",
      "Do Not Email -------------> \n",
      " No     8506\n",
      "Yes     734\n",
      "Name: Do Not Email, dtype: int64\n",
      "Do Not Call -------------> \n",
      " No     9238\n",
      "Yes       2\n",
      "Name: Do Not Call, dtype: int64\n",
      "Last Activity -------------> \n",
      " Email Opened                    3437\n",
      "SMS Sent                        2745\n",
      "Olark Chat Conversation          973\n",
      "Page Visited on Website          640\n",
      "Converted to Lead                428\n",
      "Email Bounced                    326\n",
      "Email Link Clicked               267\n",
      "Form Submitted on Website        116\n",
      "Unreachable                       93\n",
      "Unsubscribed                      61\n",
      "Had a Phone Conversation          30\n",
      "Approached upfront                 9\n",
      "View in browser link Clicked       6\n",
      "Email Marked Spam                  2\n",
      "Email Received                     2\n",
      "Resubscribed to emails             1\n",
      "Visited Booth in Tradeshow         1\n",
      "Name: Last Activity, dtype: int64\n",
      "Country -------------> \n",
      " India                   6492\n",
      "United States             69\n",
      "United Arab Emirates      53\n",
      "Singapore                 24\n",
      "Saudi Arabia              21\n",
      "United Kingdom            15\n",
      "Australia                 13\n",
      "Qatar                     10\n",
      "Bahrain                    7\n",
      "Hong Kong                  7\n",
      "Oman                       6\n",
      "France                     6\n",
      "unknown                    5\n",
      "Canada                     4\n",
      "Nigeria                    4\n",
      "Kuwait                     4\n",
      "South Africa               4\n",
      "Germany                    4\n",
      "Sweden                     3\n",
      "Italy                      2\n",
      "Ghana                      2\n",
      "Philippines                2\n",
      "China                      2\n",
      "Belgium                    2\n",
      "Uganda                     2\n",
      "Asia/Pacific Region        2\n",
      "Netherlands                2\n",
      "Bangladesh                 2\n",
      "Indonesia                  1\n",
      "Russia                     1\n",
      "Switzerland                1\n",
      "Vietnam                    1\n",
      "Denmark                    1\n",
      "Kenya                      1\n",
      "Liberia                    1\n",
      "Sri Lanka                  1\n",
      "Tanzania                   1\n",
      "Malaysia                   1\n",
      "Name: Country, dtype: int64\n",
      "Specialization -------------> \n",
      " Select                               1942\n",
      "Finance Management                    976\n",
      "Human Resource Management             848\n",
      "Marketing Management                  838\n",
      "Operations Management                 503\n",
      "Business Administration               403\n",
      "IT Projects Management                366\n",
      "Supply Chain Management               349\n",
      "Banking, Investment And Insurance     338\n",
      "Media and Advertising                 203\n",
      "Travel and Tourism                    203\n",
      "International Business                178\n",
      "Healthcare Management                 159\n",
      "Hospitality Management                114\n",
      "E-COMMERCE                            112\n",
      "Retail Management                     100\n",
      "Rural and Agribusiness                 73\n",
      "E-Business                             57\n",
      "Services Excellence                    40\n",
      "Name: Specialization, dtype: int64\n",
      "How did you hear about X Education -------------> \n",
      " Select                   5043\n",
      "Online Search             808\n",
      "Word Of Mouth             348\n",
      "Student of SomeSchool     310\n",
      "Other                     186\n",
      "Multiple Sources          152\n",
      "Advertisements             70\n",
      "Social Media               67\n",
      "Email                      26\n",
      "SMS                        23\n",
      "Name: How did you hear about X Education, dtype: int64\n",
      "What is your current occupation -------------> \n",
      " Unemployed              5600\n",
      "Working Professional     706\n",
      "Student                  210\n",
      "Other                     16\n",
      "Housewife                 10\n",
      "Businessman                8\n",
      "Name: What is your current occupation, dtype: int64\n",
      "What matters most to you in choosing a course -------------> \n",
      " Better Career Prospects      6528\n",
      "Flexibility & Convenience       2\n",
      "Other                           1\n",
      "Name: What matters most to you in choosing a course, dtype: int64\n",
      "Search -------------> \n",
      " No     9226\n",
      "Yes      14\n",
      "Name: Search, dtype: int64\n",
      "Magazine -------------> \n",
      " No    9240\n",
      "Name: Magazine, dtype: int64\n",
      "Newspaper Article -------------> \n",
      " No     9238\n",
      "Yes       2\n",
      "Name: Newspaper Article, dtype: int64\n",
      "X Education Forums -------------> \n",
      " No     9239\n",
      "Yes       1\n",
      "Name: X Education Forums, dtype: int64\n",
      "Newspaper -------------> \n",
      " No     9239\n",
      "Yes       1\n",
      "Name: Newspaper, dtype: int64\n",
      "Digital Advertisement -------------> \n",
      " No     9236\n",
      "Yes       4\n",
      "Name: Digital Advertisement, dtype: int64\n",
      "Through Recommendations -------------> \n",
      " No     9233\n",
      "Yes       7\n",
      "Name: Through Recommendations, dtype: int64\n",
      "Receive More Updates About Our Courses -------------> \n",
      " No    9240\n",
      "Name: Receive More Updates About Our Courses, dtype: int64\n",
      "Tags -------------> \n",
      " Will revert after reading the email                  2072\n",
      "Ringing                                              1203\n",
      "Interested in other courses                           513\n",
      "Already a student                                     465\n",
      "Closed by Horizzon                                    358\n",
      "switched off                                          240\n",
      "Busy                                                  186\n",
      "Lost to EINS                                          175\n",
      "Not doing further education                           145\n",
      "Interested  in full time MBA                          117\n",
      "Graduation in progress                                111\n",
      "invalid number                                         83\n",
      "Diploma holder (Not Eligible)                          63\n",
      "wrong number given                                     47\n",
      "opp hangup                                             33\n",
      "number not provided                                    27\n",
      "in touch with EINS                                     12\n",
      "Lost to Others                                          7\n",
      "Still Thinking                                          6\n",
      "Want to take admission but has financial problems       6\n",
      "Interested in Next batch                                5\n",
      "In confusion whether part time or DLP                   5\n",
      "Lateral student                                         3\n",
      "University not recognized                               2\n",
      "Shall take in the next coming month                     2\n",
      "Recognition issue (DEC approval)                        1\n",
      "Name: Tags, dtype: int64\n",
      "Lead Quality -------------> \n",
      " Might be             1560\n",
      "Not Sure             1092\n",
      "High in Relevance     637\n",
      "Worst                 601\n",
      "Low in Relevance      583\n",
      "Name: Lead Quality, dtype: int64\n",
      "Update me on Supply Chain Content -------------> \n",
      " No    9240\n",
      "Name: Update me on Supply Chain Content, dtype: int64\n",
      "Get updates on DM Content -------------> \n",
      " No    9240\n",
      "Name: Get updates on DM Content, dtype: int64\n",
      "Lead Profile -------------> \n",
      " Select                         4146\n",
      "Potential Lead                 1613\n",
      "Other Leads                     487\n",
      "Student of SomeSchool           241\n",
      "Lateral Student                  24\n",
      "Dual Specialization Student      20\n",
      "Name: Lead Profile, dtype: int64\n",
      "City -------------> \n",
      " Mumbai                         3222\n",
      "Select                         2249\n",
      "Thane & Outskirts               752\n",
      "Other Cities                    686\n",
      "Other Cities of Maharashtra     457\n",
      "Other Metro Cities              380\n",
      "Tier II Cities                   74\n",
      "Name: City, dtype: int64\n",
      "Asymmetrique Activity Index -------------> \n",
      " 02.Medium    3839\n",
      "01.High       821\n",
      "03.Low        362\n",
      "Name: Asymmetrique Activity Index, dtype: int64\n",
      "Asymmetrique Profile Index -------------> \n",
      " 02.Medium    2788\n",
      "01.High      2203\n",
      "03.Low         31\n",
      "Name: Asymmetrique Profile Index, dtype: int64\n",
      "I agree to pay the amount through cheque -------------> \n",
      " No    9240\n",
      "Name: I agree to pay the amount through cheque, dtype: int64\n",
      "A free copy of Mastering The Interview -------------> \n",
      " No     6352\n",
      "Yes    2888\n",
      "Name: A free copy of Mastering The Interview, dtype: int64\n",
      "Last Notable Activity -------------> \n",
      " Modified                        3407\n",
      "Email Opened                    2827\n",
      "SMS Sent                        2172\n",
      "Page Visited on Website          318\n",
      "Olark Chat Conversation          183\n",
      "Email Link Clicked               173\n",
      "Email Bounced                     60\n",
      "Unsubscribed                      47\n",
      "Unreachable                       32\n",
      "Had a Phone Conversation          14\n",
      "Email Marked Spam                  2\n",
      "Form Submitted on Website          1\n",
      "Email Received                     1\n",
      "View in browser link Clicked       1\n",
      "Approached upfront                 1\n",
      "Resubscribed to emails             1\n",
      "Name: Last Notable Activity, dtype: int64\n"
     ]
    }
   ],
   "source": [
    "#Value counts in each non-num columns\n",
    "NonNumCols_list = NonNumCols.copy()\n",
    "NonNumCols_list.remove('Prospect ID')\n",
    "for i in NonNumCols_list:\n",
    "    print(i, '------------->','\\n', df[i].value_counts())"
   ]
  },
  {
   "cell_type": "code",
   "execution_count": 8,
   "metadata": {},
   "outputs": [
    {
     "name": "stdout",
     "output_type": "stream",
     "text": [
      "Specialization : 1942\n",
      "How did you hear about X Education : 5043\n",
      "Lead Profile : 4146\n",
      "City : 2249\n"
     ]
    }
   ],
   "source": [
    "#Number (non zero) of 'Select' in different columns\n",
    "df_str = df.copy()\n",
    "df_str = df_str.astype(str)\n",
    "lst = list(df_str)\n",
    "for i in lst:\n",
    "    length = len(df_str[df_str[i] == 'Select'])\n",
    "    if length != 0:\n",
    "        print(i, ':', length)"
   ]
  },
  {
   "cell_type": "markdown",
   "metadata": {},
   "source": [
    "### Data Cleaning and EDA"
   ]
  },
  {
   "cell_type": "code",
   "execution_count": 9,
   "metadata": {},
   "outputs": [
    {
     "name": "stdout",
     "output_type": "stream",
     "text": [
      "There is no Select\n"
     ]
    }
   ],
   "source": [
    "#We can see that there are many 'Select' values in multiple columns\n",
    "#Most probably the 'Select' value is coming from a dropdown option, where one needed to chose an option. \n",
    "#So its equivalent to NAN value.\n",
    "#Let's make all the 'Selecet' to NAN\n",
    "df_corrected = df.replace('Select', np.nan)\n",
    "#Below is the checking whether we have any 'Select' left or not\n",
    "df_corrected1 = df_corrected.copy()\n",
    "df_corrected1 = df_corrected1.astype(str)\n",
    "lst = list(df_corrected1)\n",
    "for i in lst:\n",
    "    length = len(df_corrected1[df_corrected1[i] == 'Select'])\n",
    "    if length == 0:\n",
    "        print('There is no Select')\n",
    "        break"
   ]
  },
  {
   "cell_type": "code",
   "execution_count": 10,
   "metadata": {},
   "outputs": [
    {
     "name": "stdout",
     "output_type": "stream",
     "text": [
      "Original DataFrame Shape: (9240, 37)\n",
      "Shape After Dropping: (9240, 32)\n"
     ]
    }
   ],
   "source": [
    "#Let's check whether we have any column with only one unique value. If it is so, we can drop those columns \n",
    "#safely, as these will not have any predictive power\n",
    "df_dropped = df_corrected.loc[:,df_corrected.nunique()!=1]\n",
    "print('Original DataFrame Shape:', df.shape)\n",
    "print('Shape After Dropping:', df_dropped.shape)"
   ]
  },
  {
   "cell_type": "code",
   "execution_count": 11,
   "metadata": {},
   "outputs": [
    {
     "name": "stdout",
     "output_type": "stream",
     "text": [
      "List of clumns with one unique vale:  ['Magazine', 'Receive More Updates About Our Courses', 'Update me on Supply Chain Content', 'Get updates on DM Content', 'I agree to pay the amount through cheque']\n"
     ]
    }
   ],
   "source": [
    "#Let's see what are the columns we have removed in the previous cell\n",
    "single_unique = [x for x in list(df_corrected) if x not in list(df_dropped)]\n",
    "print('List of clumns with one unique vale: ', single_unique)"
   ]
  },
  {
   "cell_type": "markdown",
   "metadata": {},
   "source": [
    "#### Below are the columns where we have extremely high perecentage of only one value. Better to remove these, as these will not have insignificant predictive power."
   ]
  },
  {
   "cell_type": "code",
   "execution_count": 12,
   "metadata": {},
   "outputs": [
    {
     "name": "stdout",
     "output_type": "stream",
     "text": [
      "Percentage of values:\n"
     ]
    },
    {
     "data": {
      "text/plain": [
       "No     99.989177\n",
       "Yes     0.010823\n",
       "Name: X Education Forums, dtype: float64"
      ]
     },
     "execution_count": 12,
     "metadata": {},
     "output_type": "execute_result"
    }
   ],
   "source": [
    "#Checking distribution of values in 'X Education Forums' column\n",
    "print('Percentage of values:')\n",
    "df_dropped['X Education Forums'].value_counts()*100/df_dropped['X Education Forums'].value_counts().sum()"
   ]
  },
  {
   "cell_type": "code",
   "execution_count": 13,
   "metadata": {},
   "outputs": [
    {
     "name": "stdout",
     "output_type": "stream",
     "text": [
      "Percentage of values:\n"
     ]
    },
    {
     "data": {
      "text/plain": [
       "No     99.848485\n",
       "Yes     0.151515\n",
       "Name: Search, dtype: float64"
      ]
     },
     "execution_count": 13,
     "metadata": {},
     "output_type": "execute_result"
    }
   ],
   "source": [
    "#Checking distribution of values in 'Search' column\n",
    "print('Percentage of values:')\n",
    "df_dropped['Search'].value_counts()*100/df_dropped['Search'].value_counts().sum()"
   ]
  },
  {
   "cell_type": "code",
   "execution_count": 14,
   "metadata": {},
   "outputs": [
    {
     "name": "stdout",
     "output_type": "stream",
     "text": [
      "Percentage of values:\n"
     ]
    },
    {
     "data": {
      "text/plain": [
       "No     99.978355\n",
       "Yes     0.021645\n",
       "Name: Newspaper Article, dtype: float64"
      ]
     },
     "execution_count": 14,
     "metadata": {},
     "output_type": "execute_result"
    }
   ],
   "source": [
    "#Checking distribution of values in 'Newspaper Article' column\n",
    "print('Percentage of values:')\n",
    "df_dropped['Newspaper Article'].value_counts()*100/df_dropped['Newspaper Article'].value_counts().sum()"
   ]
  },
  {
   "cell_type": "code",
   "execution_count": 15,
   "metadata": {
    "scrolled": true
   },
   "outputs": [
    {
     "name": "stdout",
     "output_type": "stream",
     "text": [
      "Percentage of values:\n"
     ]
    },
    {
     "data": {
      "text/plain": [
       "No     99.989177\n",
       "Yes     0.010823\n",
       "Name: Newspaper, dtype: float64"
      ]
     },
     "execution_count": 15,
     "metadata": {},
     "output_type": "execute_result"
    }
   ],
   "source": [
    "#Checking distribution of values in 'Newspaper' column\n",
    "print('Percentage of values:')\n",
    "df_dropped['Newspaper'].value_counts()*100/df_dropped['Newspaper'].value_counts().sum()"
   ]
  },
  {
   "cell_type": "code",
   "execution_count": 16,
   "metadata": {},
   "outputs": [
    {
     "name": "stdout",
     "output_type": "stream",
     "text": [
      "Percentage of values:\n"
     ]
    },
    {
     "data": {
      "text/plain": [
       "No     99.924242\n",
       "Yes     0.075758\n",
       "Name: Through Recommendations, dtype: float64"
      ]
     },
     "execution_count": 16,
     "metadata": {},
     "output_type": "execute_result"
    }
   ],
   "source": [
    "#Checking distribution of values in 'Through Recommendations' column\n",
    "print('Percentage of values:')\n",
    "df_dropped['Through Recommendations'].value_counts()*100/df_dropped['Through Recommendations'].value_counts().sum()"
   ]
  },
  {
   "cell_type": "code",
   "execution_count": 17,
   "metadata": {},
   "outputs": [
    {
     "name": "stdout",
     "output_type": "stream",
     "text": [
      "Percentage of values:\n"
     ]
    },
    {
     "data": {
      "text/plain": [
       "No     99.95671\n",
       "Yes     0.04329\n",
       "Name: Digital Advertisement, dtype: float64"
      ]
     },
     "execution_count": 17,
     "metadata": {},
     "output_type": "execute_result"
    }
   ],
   "source": [
    "#Checking distribution of values in 'Digital Advertisement' column\n",
    "print('Percentage of values:')\n",
    "df_dropped['Digital Advertisement'].value_counts()*100/df_dropped['Digital Advertisement'].value_counts().sum()"
   ]
  },
  {
   "cell_type": "code",
   "execution_count": 18,
   "metadata": {},
   "outputs": [
    {
     "name": "stdout",
     "output_type": "stream",
     "text": [
      "Original DataFrame Shape: (9240, 37)\n",
      "Shape After Dropping: (9240, 26)\n"
     ]
    }
   ],
   "source": [
    "#Let's dropp the above columns\n",
    "df_dropped.drop(['X Education Forums', 'Search', 'Newspaper Article', 'Newspaper', 'Through Recommendations', 'Digital Advertisement'], axis = 1, inplace = True)\n",
    "print('Original DataFrame Shape:', df.shape)\n",
    "print('Shape After Dropping:', df_dropped.shape)"
   ]
  },
  {
   "cell_type": "code",
   "execution_count": 19,
   "metadata": {},
   "outputs": [
    {
     "name": "stdout",
     "output_type": "stream",
     "text": [
      "Original DataFrame Shape: (9240, 37)\n",
      "Shape After Dropping: (9240, 25)\n"
     ]
    }
   ],
   "source": [
    "#'Prospect ID': A unique ID with which the customer is identified.\n",
    "#So 'Prospect ID' should not have any impact on our modelling and we can remove this column\n",
    "df_dropped = df_dropped.drop('Prospect ID', axis = 1)\n",
    "print('Original DataFrame Shape:', df.shape)\n",
    "print('Shape After Dropping:', df_dropped.shape)"
   ]
  },
  {
   "cell_type": "code",
   "execution_count": 20,
   "metadata": {},
   "outputs": [
    {
     "data": {
      "text/html": [
       "<div>\n",
       "<style scoped>\n",
       "    .dataframe tbody tr th:only-of-type {\n",
       "        vertical-align: middle;\n",
       "    }\n",
       "\n",
       "    .dataframe tbody tr th {\n",
       "        vertical-align: top;\n",
       "    }\n",
       "\n",
       "    .dataframe thead th {\n",
       "        text-align: right;\n",
       "    }\n",
       "</style>\n",
       "<table border=\"1\" class=\"dataframe\">\n",
       "  <thead>\n",
       "    <tr style=\"text-align: right;\">\n",
       "      <th></th>\n",
       "      <th>columns</th>\n",
       "      <th>% null</th>\n",
       "    </tr>\n",
       "  </thead>\n",
       "  <tbody>\n",
       "    <tr>\n",
       "      <th>2</th>\n",
       "      <td>Lead Source</td>\n",
       "      <td>0.389610</td>\n",
       "    </tr>\n",
       "    <tr>\n",
       "      <th>6</th>\n",
       "      <td>TotalVisits</td>\n",
       "      <td>1.482684</td>\n",
       "    </tr>\n",
       "    <tr>\n",
       "      <th>8</th>\n",
       "      <td>Page Views Per Visit</td>\n",
       "      <td>1.482684</td>\n",
       "    </tr>\n",
       "    <tr>\n",
       "      <th>9</th>\n",
       "      <td>Last Activity</td>\n",
       "      <td>1.114719</td>\n",
       "    </tr>\n",
       "    <tr>\n",
       "      <th>10</th>\n",
       "      <td>Country</td>\n",
       "      <td>26.634199</td>\n",
       "    </tr>\n",
       "    <tr>\n",
       "      <th>11</th>\n",
       "      <td>Specialization</td>\n",
       "      <td>36.580087</td>\n",
       "    </tr>\n",
       "    <tr>\n",
       "      <th>12</th>\n",
       "      <td>How did you hear about X Education</td>\n",
       "      <td>78.463203</td>\n",
       "    </tr>\n",
       "    <tr>\n",
       "      <th>13</th>\n",
       "      <td>What is your current occupation</td>\n",
       "      <td>29.112554</td>\n",
       "    </tr>\n",
       "    <tr>\n",
       "      <th>14</th>\n",
       "      <td>What matters most to you in choosing a course</td>\n",
       "      <td>29.318182</td>\n",
       "    </tr>\n",
       "    <tr>\n",
       "      <th>15</th>\n",
       "      <td>Tags</td>\n",
       "      <td>36.287879</td>\n",
       "    </tr>\n",
       "    <tr>\n",
       "      <th>16</th>\n",
       "      <td>Lead Quality</td>\n",
       "      <td>51.590909</td>\n",
       "    </tr>\n",
       "    <tr>\n",
       "      <th>17</th>\n",
       "      <td>Lead Profile</td>\n",
       "      <td>74.188312</td>\n",
       "    </tr>\n",
       "    <tr>\n",
       "      <th>18</th>\n",
       "      <td>City</td>\n",
       "      <td>39.707792</td>\n",
       "    </tr>\n",
       "    <tr>\n",
       "      <th>19</th>\n",
       "      <td>Asymmetrique Activity Index</td>\n",
       "      <td>45.649351</td>\n",
       "    </tr>\n",
       "    <tr>\n",
       "      <th>20</th>\n",
       "      <td>Asymmetrique Profile Index</td>\n",
       "      <td>45.649351</td>\n",
       "    </tr>\n",
       "    <tr>\n",
       "      <th>21</th>\n",
       "      <td>Asymmetrique Activity Score</td>\n",
       "      <td>45.649351</td>\n",
       "    </tr>\n",
       "    <tr>\n",
       "      <th>22</th>\n",
       "      <td>Asymmetrique Profile Score</td>\n",
       "      <td>45.649351</td>\n",
       "    </tr>\n",
       "  </tbody>\n",
       "</table>\n",
       "</div>"
      ],
      "text/plain": [
       "                                          columns     % null\n",
       "2                                     Lead Source   0.389610\n",
       "6                                     TotalVisits   1.482684\n",
       "8                            Page Views Per Visit   1.482684\n",
       "9                                   Last Activity   1.114719\n",
       "10                                        Country  26.634199\n",
       "11                                 Specialization  36.580087\n",
       "12             How did you hear about X Education  78.463203\n",
       "13                What is your current occupation  29.112554\n",
       "14  What matters most to you in choosing a course  29.318182\n",
       "15                                           Tags  36.287879\n",
       "16                                   Lead Quality  51.590909\n",
       "17                                   Lead Profile  74.188312\n",
       "18                                           City  39.707792\n",
       "19                    Asymmetrique Activity Index  45.649351\n",
       "20                     Asymmetrique Profile Index  45.649351\n",
       "21                    Asymmetrique Activity Score  45.649351\n",
       "22                     Asymmetrique Profile Score  45.649351"
      ]
     },
     "execution_count": 20,
     "metadata": {},
     "output_type": "execute_result"
    }
   ],
   "source": [
    "#percentage of null values (non zero) in differend columns\n",
    "col_list = list(df_dropped)\n",
    "null = []\n",
    "for i in df_dropped.isnull().sum()*100/df.shape[0]:\n",
    "    null.append(i)\n",
    "data = {'columns': col_list, '% null': null}\n",
    "df_null = pd.DataFrame(data)\n",
    "df_null[df_null['% null'] != 0]"
   ]
  },
  {
   "cell_type": "code",
   "execution_count": 21,
   "metadata": {},
   "outputs": [
    {
     "data": {
      "image/png": "[encoded data removed]",
      "text/plain": [
       "<Figure size 936x576 with 4 Axes>"
      ]
     },
     "metadata": {
      "needs_background": "light"
     },
     "output_type": "display_data"
    }
   ],
   "source": [
    "#'How did you hear about X Education' and 'Lead Profile' are with very high (>70%) null values.\n",
    "#Let's see how important these columns are\n",
    "fig = plt.figure(figsize=(13,8))\n",
    "\n",
    "plt.subplot(2,2,1)\n",
    "df_dropped[df_dropped['Converted'] == 1]['How did you hear about X Education'].value_counts(normalize=True).plot(kind=\"bar\")\n",
    "plt.title('How did you hear about X Education, when Converted = 1')\n",
    "\n",
    "plt.subplot(2,2,2)\n",
    "df_dropped[df_dropped['Converted'] == 0]['How did you hear about X Education'].value_counts(normalize=True).plot(kind=\"bar\")\n",
    "plt.title('How did you hear about X Education, when Converted = 0')\n",
    "\n",
    "plt.subplot(2,2,3)\n",
    "df_dropped[df_dropped['Converted'] == 1]['Lead Profile'].value_counts(normalize=True).plot(kind=\"bar\")\n",
    "plt.title('Lead Profile, when Converted = 1')\n",
    "\n",
    "plt.subplot(2,2,4)\n",
    "df_dropped[df_dropped['Converted'] == 0]['Lead Profile'].value_counts(normalize=True).plot(kind=\"bar\")\n",
    "plt.title('Lead Profile, when Converted = 0')\n",
    "\n",
    "plt.subplots_adjust(wspace = .7, hspace = 1)"
   ]
  },
  {
   "cell_type": "markdown",
   "metadata": {},
   "source": [
    "* From the plots above we can see that there is no correlation between 'Converted' and 'How did you hear about X Education' variables. For example, irrespective of whether a lead is converted or not the normalized value of 'Online Search' and 'Word of Mouth' are same (for Converted = 1 & 0). So we can drop the 'How did you hear about X Education' column safely.\n",
    "* Interestingly, the 'Lead Profile' has a good correlation with the 'Converetd' variable. There is a higher chance of 'Potential Lead's to get converetd (=1)."
   ]
  },
  {
   "cell_type": "code",
   "execution_count": 22,
   "metadata": {},
   "outputs": [
    {
     "name": "stdout",
     "output_type": "stream",
     "text": [
      "Original DataFrame Shape: (9240, 37)\n",
      "Shape After Dropping: (9240, 24)\n"
     ]
    }
   ],
   "source": [
    "#Dropping the 'How did you hear about X Education' column\n",
    "df_dropped = df_dropped.drop('How did you hear about X Education', axis = 1)\n",
    "print('Original DataFrame Shape:', df.shape)\n",
    "print('Shape After Dropping:', df_dropped.shape)"
   ]
  },
  {
   "cell_type": "code",
   "execution_count": 23,
   "metadata": {},
   "outputs": [],
   "source": [
    "#Althogh the 'Lead Profile' has very good correlation but it has very high null value (74.2%) and we dont have any good strategy\n",
    "#to impute all these missing values. So, better to drop this column also\n",
    "df_dropped.drop('Lead Profile', axis = 1, inplace = True)"
   ]
  },
  {
   "cell_type": "code",
   "execution_count": 24,
   "metadata": {
    "scrolled": true
   },
   "outputs": [
    {
     "data": {
      "text/plain": [
       "India                   95.766337\n",
       "United States            1.017849\n",
       "United Arab Emirates     0.781826\n",
       "Singapore                0.354035\n",
       "Saudi Arabia             0.309780\n",
       "United Kingdom           0.221272\n",
       "Australia                0.191769\n",
       "Qatar                    0.147514\n",
       "Bahrain                  0.103260\n",
       "Hong Kong                0.103260\n",
       "Oman                     0.088509\n",
       "France                   0.088509\n",
       "unknown                  0.073757\n",
       "Canada                   0.059006\n",
       "Nigeria                  0.059006\n",
       "Kuwait                   0.059006\n",
       "South Africa             0.059006\n",
       "Germany                  0.059006\n",
       "Sweden                   0.044254\n",
       "Italy                    0.029503\n",
       "Ghana                    0.029503\n",
       "Philippines              0.029503\n",
       "China                    0.029503\n",
       "Belgium                  0.029503\n",
       "Uganda                   0.029503\n",
       "Asia/Pacific Region      0.029503\n",
       "Netherlands              0.029503\n",
       "Bangladesh               0.029503\n",
       "Indonesia                0.014751\n",
       "Russia                   0.014751\n",
       "Switzerland              0.014751\n",
       "Vietnam                  0.014751\n",
       "Denmark                  0.014751\n",
       "Kenya                    0.014751\n",
       "Liberia                  0.014751\n",
       "Sri Lanka                0.014751\n",
       "Tanzania                 0.014751\n",
       "Malaysia                 0.014751\n",
       "Name: Country, dtype: float64"
      ]
     },
     "execution_count": 24,
     "metadata": {},
     "output_type": "execute_result"
    }
   ],
   "source": [
    "#'Country' column has 26.6% missing values\n",
    "#Let's see distribution of countries\n",
    "df_dropped['Country'].value_counts(normalize=True)*100"
   ]
  },
  {
   "cell_type": "markdown",
   "metadata": {},
   "source": [
    "Almost all values (~96%) are India. So, it would be a logical thing to impute the missing values in 'Country' column by the most frequent value India."
   ]
  },
  {
   "cell_type": "code",
   "execution_count": 25,
   "metadata": {},
   "outputs": [
    {
     "data": {
      "text/plain": [
       "False"
      ]
     },
     "execution_count": 25,
     "metadata": {},
     "output_type": "execute_result"
    }
   ],
   "source": [
    "#Imputing the missing values in 'Country' column\n",
    "df_dropped['Country'] = df_dropped['Country'].replace(np.nan, 'India')\n",
    "df_dropped['Country'].isnull().values.any() #Checking null values in the 'Country' column"
   ]
  },
  {
   "cell_type": "markdown",
   "metadata": {},
   "source": [
    "Now there is no NAN value in the 'Country' column"
   ]
  },
  {
   "cell_type": "code",
   "execution_count": 26,
   "metadata": {},
   "outputs": [
    {
     "name": "stdout",
     "output_type": "stream",
     "text": [
      "\u001b[1m Specialization \u001b[1m\n",
      "Unique values: [nan 'Business Administration' 'Media and Advertising'\n",
      " 'Supply Chain Management' 'IT Projects Management' 'Finance Management'\n",
      " 'Travel and Tourism' 'Human Resource Management' 'Marketing Management'\n",
      " 'Banking, Investment And Insurance' 'International Business' 'E-COMMERCE'\n",
      " 'Operations Management' 'Retail Management' 'Services Excellence'\n",
      " 'Hospitality Management' 'Rural and Agribusiness' 'Healthcare Management'\n",
      " 'E-Business']\n"
     ]
    },
    {
     "data": {
      "image/png": "[encoded data removed]",
      "text/plain": [
       "<Figure size 864x216 with 2 Axes>"
      ]
     },
     "metadata": {
      "needs_background": "light"
     },
     "output_type": "display_data"
    }
   ],
   "source": [
    "#Now let's see the 'Specialization' (36.6% NAN) column\n",
    "print('\\033[1m Specialization \\033[1m')\n",
    "\n",
    "print('Unique values:', df_dropped['Specialization'].unique())\n",
    "\n",
    "fig = plt.figure(figsize=(12,3))\n",
    "\n",
    "plt.subplot(1,2,1)\n",
    "df_dropped[df_dropped['Converted'] == 1]['Specialization'].value_counts(normalize=True).plot(kind='bar')\n",
    "plt.title('Specialization (normalized), when Converted = 1')\n",
    "\n",
    "plt.subplot(1,2,2)\n",
    "df_dropped[df_dropped['Converted'] == 0]['Specialization'].value_counts(normalize=True).plot(kind='bar')\n",
    "plt.title('Specialization (normalized), when Converted = 0')\n",
    "\n",
    "plt.subplots_adjust(wspace = 0.2)"
   ]
  },
  {
   "cell_type": "code",
   "execution_count": 27,
   "metadata": {},
   "outputs": [
    {
     "data": {
      "text/plain": [
       "False"
      ]
     },
     "execution_count": 27,
     "metadata": {},
     "output_type": "execute_result"
    }
   ],
   "source": [
    "#Here in case of the 'Specialization' column, the distribution of values are same in case of Converted = 0 & 1\n",
    "#The most frequent value is 'Finance Management' and the second most frequent one is 'Human Resource Management'\n",
    "#These two values are so similar in number it might be risky to impute the missing value by only either of the two.\n",
    "#That is why a better strategy would be to create a new value 'Unknown' and replace the NAN values with it.\n",
    "df_dropped['Specialization'].fillna('Unknown', inplace = True)\n",
    "df_dropped['Specialization'].isnull().values.any() #Checking null values in the 'Specialization' column"
   ]
  },
  {
   "cell_type": "code",
   "execution_count": 28,
   "metadata": {},
   "outputs": [
    {
     "name": "stdout",
     "output_type": "stream",
     "text": [
      "\u001b[1m What is your current occupation \u001b[1m\n",
      "Unique values: ['Unemployed' 'Student' nan 'Working Professional' 'Businessman' 'Other'\n",
      " 'Housewife']\n"
     ]
    },
    {
     "data": {
      "image/png": "[encoded data removed]",
      "text/plain": [
       "<Figure size 864x216 with 2 Axes>"
      ]
     },
     "metadata": {
      "needs_background": "light"
     },
     "output_type": "display_data"
    }
   ],
   "source": [
    "#'What is your current occupation' columns has ~29% null values\n",
    "print('\\033[1m What is your current occupation \\033[1m')\n",
    "\n",
    "print('Unique values:', df_dropped['What is your current occupation'].unique())\n",
    "\n",
    "fig = plt.figure(figsize=(12,3))\n",
    "\n",
    "plt.subplot(1,2,1)\n",
    "df_dropped[df_dropped['Converted'] == 1]['What is your current occupation'].value_counts(normalize=True).plot(kind='bar')\n",
    "plt.title('What is your current occupation (normalized), when Converted = 1')\n",
    "\n",
    "plt.subplot(1,2,2)\n",
    "df_dropped[df_dropped['Converted'] == 0]['What is your current occupation'].value_counts(normalize=True).plot(kind='bar')\n",
    "plt.title('What is your current occupation (normalized), when Converted = 0')\n",
    "\n",
    "plt.subplots_adjust(wspace = 2)"
   ]
  },
  {
   "cell_type": "markdown",
   "metadata": {},
   "source": [
    "Here 'Unemployed' is the most frequent value in the 'What is your current occupation' column and also we can see that irrespective of a lead is converetd or not, the 'Uneployed' value is the dominating. So, it is quite possible that this column will not be of much value for our modelling. For the time being we will impute the missing values with 'Uneployed' and move ahead"
   ]
  },
  {
   "cell_type": "code",
   "execution_count": 29,
   "metadata": {},
   "outputs": [
    {
     "data": {
      "text/plain": [
       "False"
      ]
     },
     "execution_count": 29,
     "metadata": {},
     "output_type": "execute_result"
    }
   ],
   "source": [
    "#Imputing null values in 'What is your current occupation' column\n",
    "df_dropped['What is your current occupation'] = df_dropped['What is your current occupation'].replace(np.nan, 'Uneployed')\n",
    "df_dropped['What is your current occupation'].isnull().values.any() #Checking null values in the 'What is your current occupation' column"
   ]
  },
  {
   "cell_type": "code",
   "execution_count": 30,
   "metadata": {},
   "outputs": [
    {
     "name": "stdout",
     "output_type": "stream",
     "text": [
      "Normalized Unique Values: \n",
      " Better Career Prospects      99.954065\n",
      "Flexibility & Convenience     0.030623\n",
      "Other                         0.015312\n",
      "Name: What matters most to you in choosing a course, dtype: float64\n"
     ]
    }
   ],
   "source": [
    "#'What matters most to you in choosing a course' has ~29% null values\n",
    "print('Normalized Unique Values:', '\\n', df_dropped['What matters most to you in choosing a course'].value_counts(normalize= True)*100)"
   ]
  },
  {
   "cell_type": "markdown",
   "metadata": {},
   "source": [
    "Almost 100% value is 'Better Career Prospects'. Surely this columne will not have any significant impact on our modelling. So, better to drop this column to reduce the dimensionality."
   ]
  },
  {
   "cell_type": "code",
   "execution_count": 31,
   "metadata": {},
   "outputs": [
    {
     "name": "stdout",
     "output_type": "stream",
     "text": [
      "Original DataFrame Shape: (9240, 37)\n",
      "Shape After Dropping: (9240, 22)\n"
     ]
    }
   ],
   "source": [
    "#Dropping the 'What matters most to you in choosing a course' column\n",
    "df_dropped = df_dropped.drop('What matters most to you in choosing a course', axis = 1)\n",
    "print('Original DataFrame Shape:', df.shape)\n",
    "print('Shape After Dropping:', df_dropped.shape)"
   ]
  },
  {
   "cell_type": "code",
   "execution_count": 32,
   "metadata": {},
   "outputs": [
    {
     "name": "stdout",
     "output_type": "stream",
     "text": [
      "\u001b[1m Tags \u001b[1m\n",
      "Unique values: ['Interested in other courses' 'Ringing'\n",
      " 'Will revert after reading the email' nan 'Lost to EINS'\n",
      " 'In confusion whether part time or DLP' 'Busy' 'switched off'\n",
      " 'in touch with EINS' 'Already a student' 'Diploma holder (Not Eligible)'\n",
      " 'Graduation in progress' 'Closed by Horizzon' 'number not provided'\n",
      " 'opp hangup' 'Not doing further education' 'invalid number'\n",
      " 'wrong number given' 'Interested  in full time MBA' 'Still Thinking'\n",
      " 'Lost to Others' 'Shall take in the next coming month' 'Lateral student'\n",
      " 'Interested in Next batch' 'Recognition issue (DEC approval)'\n",
      " 'Want to take admission but has financial problems'\n",
      " 'University not recognized']\n"
     ]
    },
    {
     "data": {
      "image/png": "[encoded data removed]",
      "text/plain": [
       "<Figure size 1440x288 with 3 Axes>"
      ]
     },
     "metadata": {
      "needs_background": "light"
     },
     "output_type": "display_data"
    }
   ],
   "source": [
    "#The 'Tags' column has ~36% null values\n",
    "print('\\033[1m Tags \\033[1m')\n",
    "\n",
    "print('Unique values:', df_dropped['Tags'].unique())\n",
    "\n",
    "fig = plt.figure(figsize=(20,4))\n",
    "\n",
    "plt.subplot(1,3,1)\n",
    "df_dropped['Tags'].value_counts().plot(kind='bar')\n",
    "plt.title('Tags')\n",
    "\n",
    "plt.subplot(1,3,2)\n",
    "df_dropped[df_dropped['Converted'] == 1]['Tags'].value_counts(normalize=True).plot(kind='bar')\n",
    "plt.title('Tags (normalized), when Converted = 1')\n",
    "\n",
    "plt.subplot(1,3,3)\n",
    "df_dropped[df_dropped['Converted'] == 0]['Tags'].value_counts(normalize=True).plot(kind='bar')\n",
    "plt.title('Tags (normalized), when Converted = 0')\n",
    "\n",
    "plt.subplots_adjust(wspace = 0.2)"
   ]
  },
  {
   "cell_type": "markdown",
   "metadata": {},
   "source": [
    "This is an interesting column:\n",
    "1. We have ~36% null values\n",
    "2. 'Will revert after reading the email' is the most frequent value and the second most frequent value is 'Ringing'\n",
    "3. When 'Converetd' = 1, ~70% cases the value is 'Will revert after reading the email' and when 'Converetd' = 0, ~35% cases the column value is 'Ringing'\n",
    "\n",
    "Clearly this column has huge predictive power."
   ]
  },
  {
   "cell_type": "code",
   "execution_count": 33,
   "metadata": {},
   "outputs": [
    {
     "name": "stdout",
     "output_type": "stream",
     "text": [
      "Distribution of Will revert after reading the email, with respect to the Converted column \n",
      " 1    96.862934\n",
      "0     3.137066\n",
      "Name: Converted, dtype: float64\n",
      "Ringing, with respect to the Converted column \n",
      " 0    97.173732\n",
      "1     2.826268\n",
      "Name: Converted, dtype: float64\n"
     ]
    }
   ],
   "source": [
    "#Let's see the distribution of the 'Will revert after reading the email' and 'Ringing'\n",
    "print('Distribution of Will revert after reading the email, with respect to the Converted column', '\\n', df_dropped[df_dropped['Tags'] == 'Will revert after reading the email']['Converted'].value_counts(normalize = True)*100)\n",
    "print('Ringing, with respect to the Converted column', '\\n', df_dropped[df_dropped['Tags'] == 'Ringing']['Converted'].value_counts(normalize = True)*100)"
   ]
  },
  {
   "cell_type": "markdown",
   "metadata": {},
   "source": [
    "So, ~97% of the 'Will revert after reading the email' values fall in the Converted = 1 category.\n",
    "And coincidentally, 97% of the 'Ringing' values fall in the Converted = 0 value. "
   ]
  },
  {
   "cell_type": "code",
   "execution_count": 34,
   "metadata": {},
   "outputs": [
    {
     "data": {
      "text/plain": [
       "False"
      ]
     },
     "execution_count": 34,
     "metadata": {},
     "output_type": "execute_result"
    }
   ],
   "source": [
    "#Without any bias, let's creat a new value 'Unknown'\n",
    "df_dropped['Tags'].fillna(\"Unknown\", inplace = True)\n",
    "df_dropped['Tags'].isnull().values.any() #Checking null values in the 'Tags' column"
   ]
  },
  {
   "cell_type": "code",
   "execution_count": 35,
   "metadata": {},
   "outputs": [
    {
     "name": "stdout",
     "output_type": "stream",
     "text": [
      "\u001b[1m Lead Quality \u001b[1m\n",
      "Unique values: ['Low in Relevance' nan 'Might be' 'Not Sure' 'Worst' 'High in Relevance']\n"
     ]
    },
    {
     "data": {
      "image/png": "[encoded data removed]",
      "text/plain": [
       "<Figure size 1440x288 with 3 Axes>"
      ]
     },
     "metadata": {
      "needs_background": "light"
     },
     "output_type": "display_data"
    }
   ],
   "source": [
    "#Let's move to the 'Lead Quality' column now, it has ~52% null values\n",
    "print('\\033[1m Lead Quality \\033[1m')\n",
    "\n",
    "print('Unique values:', df_dropped['Lead Quality'].unique())\n",
    "\n",
    "fig = plt.figure(figsize=(20,4))\n",
    "\n",
    "plt.subplot(1,3,1)\n",
    "df_dropped['Lead Quality'].value_counts().plot(kind='bar')\n",
    "plt.title('Lead Quality')\n",
    "\n",
    "plt.subplot(1,3,2)\n",
    "df_dropped[df_dropped['Converted'] == 1]['Lead Quality'].value_counts(normalize=True).plot(kind='bar')\n",
    "plt.title('Lead Quality (normalized), when Converted = 1')\n",
    "\n",
    "plt.subplot(1,3,3)\n",
    "df_dropped[df_dropped['Converted'] == 0]['Lead Quality'].value_counts(normalize=True).plot(kind='bar')\n",
    "plt.title('Lead Quality (normalized), when Converted = 0')\n",
    "\n",
    "plt.subplots_adjust(wspace = 0.2)"
   ]
  },
  {
   "cell_type": "code",
   "execution_count": 36,
   "metadata": {},
   "outputs": [
    {
     "name": "stdout",
     "output_type": "stream",
     "text": [
      "Might be, with respect to the Converted column \n",
      " 1    75.576923\n",
      "0    24.423077\n",
      "Name: Converted, dtype: float64\n",
      "Not Sure, with respect to the Converted column \n",
      " 0    75.641026\n",
      "1    24.358974\n",
      "Name: Converted, dtype: float64\n"
     ]
    }
   ],
   "source": [
    "#Let's see the distribution of the 'Might be' and 'Not Sure'\n",
    "print('Might be, with respect to the Converted column', '\\n', df_dropped[df_dropped['Lead Quality'] == 'Might be']['Converted'].value_counts(normalize = True)*100)\n",
    "print('Not Sure, with respect to the Converted column', '\\n', df_dropped[df_dropped['Lead Quality'] == 'Not Sure']['Converted'].value_counts(normalize = True)*100)"
   ]
  },
  {
   "cell_type": "code",
   "execution_count": 37,
   "metadata": {},
   "outputs": [
    {
     "data": {
      "text/plain": [
       "False"
      ]
     },
     "execution_count": 37,
     "metadata": {},
     "output_type": "execute_result"
    }
   ],
   "source": [
    "#Without any bias, let's creat a new value 'Unknown'\n",
    "df_dropped['Lead Quality'].fillna(\"Unknown\", inplace = True)\n",
    "df_dropped['Lead Quality'].isnull().values.any() #Checking null values in the 'Lead Quality' column"
   ]
  },
  {
   "cell_type": "code",
   "execution_count": 38,
   "metadata": {},
   "outputs": [
    {
     "name": "stdout",
     "output_type": "stream",
     "text": [
      "\u001b[1m City \u001b[1m\n",
      "Unique values: [nan 'Mumbai' 'Thane & Outskirts' 'Other Metro Cities' 'Other Cities'\n",
      " 'Other Cities of Maharashtra' 'Tier II Cities']\n"
     ]
    },
    {
     "data": {
      "image/png": "[encoded data removed]",
      "text/plain": [
       "<Figure size 1440x288 with 3 Axes>"
      ]
     },
     "metadata": {
      "needs_background": "light"
     },
     "output_type": "display_data"
    }
   ],
   "source": [
    "#The 'City' column has ~40% null values\n",
    "print('\\033[1m City \\033[1m')\n",
    "\n",
    "print('Unique values:', df_dropped['City'].unique())\n",
    "\n",
    "fig = plt.figure(figsize=(20,4))\n",
    "\n",
    "plt.subplot(1,3,1)\n",
    "df_dropped['City'].value_counts().plot(kind='bar')\n",
    "plt.title('City')\n",
    "\n",
    "plt.subplot(1,3,2)\n",
    "df_dropped[df_dropped['Converted'] == 1]['City'].value_counts(normalize=True).plot(kind='bar')\n",
    "plt.title('City (normalized), when Converted = 1')\n",
    "\n",
    "plt.subplot(1,3,3)\n",
    "df_dropped[df_dropped['Converted'] == 0]['City'].value_counts(normalize=True).plot(kind='bar')\n",
    "plt.title('City (normalized), when Converted = 0')\n",
    "\n",
    "plt.subplots_adjust(wspace = 0.2)"
   ]
  },
  {
   "cell_type": "markdown",
   "metadata": {},
   "source": [
    "Looks like this column has less predictive power. The most frequent value is 'Mumbai'"
   ]
  },
  {
   "cell_type": "code",
   "execution_count": 39,
   "metadata": {},
   "outputs": [
    {
     "data": {
      "text/plain": [
       "False"
      ]
     },
     "execution_count": 39,
     "metadata": {},
     "output_type": "execute_result"
    }
   ],
   "source": [
    "#Imputing the missing values in 'City' column with 'Mumbai'\n",
    "df_dropped['City'].fillna('Mumbai', inplace = True)\n",
    "df_dropped['City'].isnull().values.any() #Checking null values in the 'City' column"
   ]
  },
  {
   "cell_type": "code",
   "execution_count": 40,
   "metadata": {
    "scrolled": false
   },
   "outputs": [
    {
     "name": "stdout",
     "output_type": "stream",
     "text": [
      "02.Medium    76.443648\n",
      "01.High      16.348068\n",
      "03.Low        7.208284\n",
      "Name: Asymmetrique Activity Index, dtype: float64\n"
     ]
    },
    {
     "data": {
      "text/plain": [
       "<matplotlib.axes._subplots.AxesSubplot at 0x22777b07208>"
      ]
     },
     "execution_count": 40,
     "metadata": {},
     "output_type": "execute_result"
    },
    {
     "data": {
      "image/png": "[encoded data removed]",
      "text/plain": [
       "<Figure size 1440x576 with 2 Axes>"
      ]
     },
     "metadata": {
      "needs_background": "light"
     },
     "output_type": "display_data"
    }
   ],
   "source": [
    "#Both the \"Asymmetrique Activity Index\" and 'Asymmetrique Activity Score' columns has 45.6% missing values.\n",
    "#Let's see how valuable these columns are\n",
    "print(df_dropped['Asymmetrique Activity Index'].value_counts(normalize=True)*100)\n",
    "\n",
    "fig = plt.figure(figsize=(20,8))\n",
    "\n",
    "plt.subplot(1,2,1)\n",
    "sns.countplot(x = \"Asymmetrique Activity Index\", hue = \"Converted\", data = df_dropped)\n",
    "\n",
    "plt.subplot(1,2,2)\n",
    "sns.boxplot(y = 'Asymmetrique Activity Score', x = 'Converted', data = df_dropped)"
   ]
  },
  {
   "cell_type": "markdown",
   "metadata": {},
   "source": [
    "Both the cases (for 'Asymmetrique Activity Index' column) when Converted = 1 and 0, '02.Medium' is the most frequent value.\n",
    "It also looks like that the 'Asymmetrique Activity Score' column has very less predictive power"
   ]
  },
  {
   "cell_type": "code",
   "execution_count": 41,
   "metadata": {},
   "outputs": [
    {
     "name": "stdout",
     "output_type": "stream",
     "text": [
      "Original DataFrame Shape: (9240, 37)\n",
      "Shape After Dropping: (9240, 20)\n"
     ]
    }
   ],
   "source": [
    "#So, it is better to remove the columns with such high missing values and low predictive power\n",
    "df_dropped.drop(['Asymmetrique Activity Index', 'Asymmetrique Activity Score'], axis = 1, inplace = True)\n",
    "print('Original DataFrame Shape:', df.shape)\n",
    "print('Shape After Dropping:', df_dropped.shape)"
   ]
  },
  {
   "cell_type": "code",
   "execution_count": 42,
   "metadata": {},
   "outputs": [
    {
     "name": "stdout",
     "output_type": "stream",
     "text": [
      "02.Medium    55.515731\n",
      "01.High      43.866985\n",
      "03.Low        0.617284\n",
      "Name: Asymmetrique Profile Index, dtype: float64\n"
     ]
    },
    {
     "data": {
      "text/plain": [
       "<matplotlib.axes._subplots.AxesSubplot at 0x22777c50f28>"
      ]
     },
     "execution_count": 42,
     "metadata": {},
     "output_type": "execute_result"
    },
    {
     "data": {
      "image/png": "[encoded data removed]",
      "text/plain": [
       "<Figure size 1440x576 with 2 Axes>"
      ]
     },
     "metadata": {
      "needs_background": "light"
     },
     "output_type": "display_data"
    }
   ],
   "source": [
    "#Both the \"Asymmetrique Profile Index\" and 'Asymmetrique Profile Score' columns has 45.6% missing values.\n",
    "#Let's see how valuable these columns are\n",
    "print(df_dropped['Asymmetrique Profile Index'].value_counts(normalize=True)*100)\n",
    "\n",
    "fig = plt.figure(figsize=(20,8))\n",
    "\n",
    "plt.subplot(1,2,1)\n",
    "sns.countplot(x = \"Asymmetrique Profile Index\", hue = \"Converted\", data = df_dropped)\n",
    "\n",
    "plt.subplot(1,2,2)\n",
    "sns.boxplot(y = 'Asymmetrique Profile Score', x = 'Converted', data = df_dropped)"
   ]
  },
  {
   "cell_type": "markdown",
   "metadata": {},
   "source": [
    "Surely the 'Asymmetrique Profile Score' column has not much predictive power."
   ]
  },
  {
   "cell_type": "code",
   "execution_count": 43,
   "metadata": {},
   "outputs": [
    {
     "name": "stdout",
     "output_type": "stream",
     "text": [
      "Original DataFrame Shape: (9240, 37)\n",
      "Shape After Dropping: (9240, 18)\n"
     ]
    }
   ],
   "source": [
    "#Let's drop the 'Asymmetrique Profile Index' and 'Asymmetrique Profile Score' columns, due to their very high null values.\n",
    "df_dropped.drop(['Asymmetrique Profile Index', 'Asymmetrique Profile Score'], axis = 1, inplace = True)\n",
    "print('Original DataFrame Shape:', df.shape)\n",
    "print('Shape After Dropping:', df_dropped.shape)"
   ]
  },
  {
   "cell_type": "code",
   "execution_count": 44,
   "metadata": {},
   "outputs": [],
   "source": [
    "#There are another four columns with null values. These are 'Lead Source', 'TotalVisits', 'Page Views Per Visit' and 'Last Activity'.\n",
    "#The null values in these columns in these columns are 0.4, 1.5, 1.5 and 1.1 percent, respectively.\n",
    "#Because these represents such a small percentage of dataset, even if we remove all the rows with null values, we will not loose much information.\n",
    "#So, let's go ahead and remove the null values\n",
    "df_dropped.dropna(inplace = True)"
   ]
  },
  {
   "cell_type": "code",
   "execution_count": 45,
   "metadata": {},
   "outputs": [
    {
     "data": {
      "text/plain": [
       "Lead Number                               0\n",
       "Lead Origin                               0\n",
       "Lead Source                               0\n",
       "Do Not Email                              0\n",
       "Do Not Call                               0\n",
       "Converted                                 0\n",
       "TotalVisits                               0\n",
       "Total Time Spent on Website               0\n",
       "Page Views Per Visit                      0\n",
       "Last Activity                             0\n",
       "Country                                   0\n",
       "Specialization                            0\n",
       "What is your current occupation           0\n",
       "Tags                                      0\n",
       "Lead Quality                              0\n",
       "City                                      0\n",
       "A free copy of Mastering The Interview    0\n",
       "Last Notable Activity                     0\n",
       "dtype: int64"
      ]
     },
     "execution_count": 45,
     "metadata": {},
     "output_type": "execute_result"
    }
   ],
   "source": [
    "#Rechecking the number of null values in differend columns\n",
    "df_dropped.isnull().sum()"
   ]
  },
  {
   "cell_type": "markdown",
   "metadata": {},
   "source": [
    "So, there is no null value now!"
   ]
  },
  {
   "cell_type": "markdown",
   "metadata": {},
   "source": [
    "### Getting Dummies"
   ]
  },
  {
   "cell_type": "code",
   "execution_count": 46,
   "metadata": {},
   "outputs": [
    {
     "data": {
      "text/html": [
       "<div>\n",
       "<style scoped>\n",
       "    .dataframe tbody tr th:only-of-type {\n",
       "        vertical-align: middle;\n",
       "    }\n",
       "\n",
       "    .dataframe tbody tr th {\n",
       "        vertical-align: top;\n",
       "    }\n",
       "\n",
       "    .dataframe thead th {\n",
       "        text-align: right;\n",
       "    }\n",
       "</style>\n",
       "<table border=\"1\" class=\"dataframe\">\n",
       "  <thead>\n",
       "    <tr style=\"text-align: right;\">\n",
       "      <th></th>\n",
       "      <th>Do Not Email</th>\n",
       "      <th>Do Not Call</th>\n",
       "      <th>A free copy of Mastering The Interview</th>\n",
       "    </tr>\n",
       "  </thead>\n",
       "  <tbody>\n",
       "    <tr>\n",
       "      <th>0</th>\n",
       "      <td>0</td>\n",
       "      <td>0</td>\n",
       "      <td>0</td>\n",
       "    </tr>\n",
       "    <tr>\n",
       "      <th>1</th>\n",
       "      <td>0</td>\n",
       "      <td>0</td>\n",
       "      <td>0</td>\n",
       "    </tr>\n",
       "  </tbody>\n",
       "</table>\n",
       "</div>"
      ],
      "text/plain": [
       "   Do Not Email  Do Not Call  A free copy of Mastering The Interview\n",
       "0             0            0                                       0\n",
       "1             0            0                                       0"
      ]
     },
     "execution_count": 46,
     "metadata": {},
     "output_type": "execute_result"
    }
   ],
   "source": [
    "#Lets handle 'Yes' and 'No' values first.\n",
    "binary_list =  ['Do Not Email', 'Do Not Call', 'A free copy of Mastering The Interview'] #These two columns have 'Yes' and 'No'\n",
    "\n",
    "def binary_map(x):\n",
    "    return x.map({'Yes': 1, \"No\": 0})\n",
    "\n",
    "df_dropped[binary_list] = df_dropped[binary_list].apply(binary_map)\n",
    "\n",
    "df_dropped[binary_list].head(2)"
   ]
  },
  {
   "cell_type": "code",
   "execution_count": 47,
   "metadata": {},
   "outputs": [],
   "source": [
    "#Its time to get dummies for all other categorical variables\n",
    "df_dummy = pd.get_dummies(df_dropped[['Lead Origin', 'Lead Source', 'Last Activity', 'Specialization','What is your current occupation',\n",
    "                              'Tags','Lead Quality','City','Last Notable Activity', 'Country', ]], drop_first=True)"
   ]
  },
  {
   "cell_type": "code",
   "execution_count": 48,
   "metadata": {},
   "outputs": [
    {
     "data": {
      "text/plain": [
       "(9074, 169)"
      ]
     },
     "execution_count": 48,
     "metadata": {},
     "output_type": "execute_result"
    }
   ],
   "source": [
    "#Concating the dataframe with dummies with the the original dataframe (df_dropped)\n",
    "df_concat = pd.concat([df_dropped, df_dummy], axis=1)\n",
    "df_concat.shape"
   ]
  },
  {
   "cell_type": "code",
   "execution_count": 49,
   "metadata": {},
   "outputs": [
    {
     "data": {
      "text/plain": [
       "(9074, 159)"
      ]
     },
     "execution_count": 49,
     "metadata": {},
     "output_type": "execute_result"
    }
   ],
   "source": [
    "#Let's drop the original columns from where dummies are created\n",
    "df_final = df_concat.drop(['Lead Origin', 'Lead Source', 'Last Activity', 'Specialization','What is your current occupation',\n",
    "                           'Tags','Lead Quality','City','Last Notable Activity', 'Country'], axis = 1)\n",
    "df_final.shape"
   ]
  },
  {
   "cell_type": "markdown",
   "metadata": {},
   "source": [
    "### Train-Test Split"
   ]
  },
  {
   "cell_type": "code",
   "execution_count": 50,
   "metadata": {},
   "outputs": [],
   "source": [
    "X = df_final.drop(['Converted','Lead Number'], axis=1)\n",
    "y = df_final['Converted']"
   ]
  },
  {
   "cell_type": "code",
   "execution_count": 51,
   "metadata": {},
   "outputs": [
    {
     "name": "stdout",
     "output_type": "stream",
     "text": [
      "X_train Shape: (6351, 157)\n",
      "X_test Shape: (2723, 157)\n",
      "y_train Shape: (6351,)\n",
      "y_test Shape: (2723,)\n"
     ]
    }
   ],
   "source": [
    "X_train, X_test, y_train, y_test = train_test_split(X, y, train_size=0.7, test_size=0.3, random_state=100)\n",
    "print('X_train Shape:', X_train.shape)\n",
    "print('X_test Shape:', X_test.shape)\n",
    "print('y_train Shape:', y_train.shape)\n",
    "print('y_test Shape:', y_test.shape)"
   ]
  },
  {
   "cell_type": "code",
   "execution_count": 52,
   "metadata": {},
   "outputs": [
    {
     "data": {
      "text/html": [
       "<div>\n",
       "<style scoped>\n",
       "    .dataframe tbody tr th:only-of-type {\n",
       "        vertical-align: middle;\n",
       "    }\n",
       "\n",
       "    .dataframe tbody tr th {\n",
       "        vertical-align: top;\n",
       "    }\n",
       "\n",
       "    .dataframe thead th {\n",
       "        text-align: right;\n",
       "    }\n",
       "</style>\n",
       "<table border=\"1\" class=\"dataframe\">\n",
       "  <thead>\n",
       "    <tr style=\"text-align: right;\">\n",
       "      <th></th>\n",
       "      <th>Do Not Email</th>\n",
       "      <th>Do Not Call</th>\n",
       "      <th>TotalVisits</th>\n",
       "      <th>Total Time Spent on Website</th>\n",
       "      <th>Page Views Per Visit</th>\n",
       "      <th>A free copy of Mastering The Interview</th>\n",
       "      <th>Lead Origin_Landing Page Submission</th>\n",
       "      <th>Lead Origin_Lead Add Form</th>\n",
       "      <th>Lead Origin_Lead Import</th>\n",
       "      <th>Lead Source_Direct Traffic</th>\n",
       "      <th>...</th>\n",
       "      <th>Country_Sri Lanka</th>\n",
       "      <th>Country_Sweden</th>\n",
       "      <th>Country_Switzerland</th>\n",
       "      <th>Country_Tanzania</th>\n",
       "      <th>Country_Uganda</th>\n",
       "      <th>Country_United Arab Emirates</th>\n",
       "      <th>Country_United Kingdom</th>\n",
       "      <th>Country_United States</th>\n",
       "      <th>Country_Vietnam</th>\n",
       "      <th>Country_unknown</th>\n",
       "    </tr>\n",
       "  </thead>\n",
       "  <tbody>\n",
       "    <tr>\n",
       "      <th>3009</th>\n",
       "      <td>0</td>\n",
       "      <td>0</td>\n",
       "      <td>2.0</td>\n",
       "      <td>397</td>\n",
       "      <td>2.0</td>\n",
       "      <td>1</td>\n",
       "      <td>1</td>\n",
       "      <td>0</td>\n",
       "      <td>0</td>\n",
       "      <td>1</td>\n",
       "      <td>...</td>\n",
       "      <td>0</td>\n",
       "      <td>0</td>\n",
       "      <td>0</td>\n",
       "      <td>0</td>\n",
       "      <td>0</td>\n",
       "      <td>0</td>\n",
       "      <td>0</td>\n",
       "      <td>0</td>\n",
       "      <td>0</td>\n",
       "      <td>0</td>\n",
       "    </tr>\n",
       "    <tr>\n",
       "      <th>1012</th>\n",
       "      <td>1</td>\n",
       "      <td>0</td>\n",
       "      <td>2.0</td>\n",
       "      <td>190</td>\n",
       "      <td>2.0</td>\n",
       "      <td>0</td>\n",
       "      <td>1</td>\n",
       "      <td>0</td>\n",
       "      <td>0</td>\n",
       "      <td>1</td>\n",
       "      <td>...</td>\n",
       "      <td>0</td>\n",
       "      <td>0</td>\n",
       "      <td>0</td>\n",
       "      <td>0</td>\n",
       "      <td>0</td>\n",
       "      <td>0</td>\n",
       "      <td>0</td>\n",
       "      <td>0</td>\n",
       "      <td>0</td>\n",
       "      <td>0</td>\n",
       "    </tr>\n",
       "  </tbody>\n",
       "</table>\n",
       "<p>2 rows × 157 columns</p>\n",
       "</div>"
      ],
      "text/plain": [
       "      Do Not Email  Do Not Call  TotalVisits  Total Time Spent on Website  \\\n",
       "3009             0            0          2.0                          397   \n",
       "1012             1            0          2.0                          190   \n",
       "\n",
       "      Page Views Per Visit  A free copy of Mastering The Interview  \\\n",
       "3009                   2.0                                       1   \n",
       "1012                   2.0                                       0   \n",
       "\n",
       "      Lead Origin_Landing Page Submission  Lead Origin_Lead Add Form  \\\n",
       "3009                                    1                          0   \n",
       "1012                                    1                          0   \n",
       "\n",
       "      Lead Origin_Lead Import  Lead Source_Direct Traffic       ...         \\\n",
       "3009                        0                           1       ...          \n",
       "1012                        0                           1       ...          \n",
       "\n",
       "      Country_Sri Lanka  Country_Sweden  Country_Switzerland  \\\n",
       "3009                  0               0                    0   \n",
       "1012                  0               0                    0   \n",
       "\n",
       "      Country_Tanzania  Country_Uganda  Country_United Arab Emirates  \\\n",
       "3009                 0               0                             0   \n",
       "1012                 0               0                             0   \n",
       "\n",
       "      Country_United Kingdom  Country_United States  Country_Vietnam  \\\n",
       "3009                       0                      0                0   \n",
       "1012                       0                      0                0   \n",
       "\n",
       "      Country_unknown  \n",
       "3009                0  \n",
       "1012                0  \n",
       "\n",
       "[2 rows x 157 columns]"
      ]
     },
     "execution_count": 52,
     "metadata": {},
     "output_type": "execute_result"
    }
   ],
   "source": [
    "X_train.head(2)"
   ]
  },
  {
   "cell_type": "markdown",
   "metadata": {},
   "source": [
    "### Scaling"
   ]
  },
  {
   "cell_type": "code",
   "execution_count": 53,
   "metadata": {},
   "outputs": [],
   "source": [
    "scaler = StandardScaler()"
   ]
  },
  {
   "cell_type": "code",
   "execution_count": 54,
   "metadata": {},
   "outputs": [
    {
     "data": {
      "text/html": [
       "<div>\n",
       "<style scoped>\n",
       "    .dataframe tbody tr th:only-of-type {\n",
       "        vertical-align: middle;\n",
       "    }\n",
       "\n",
       "    .dataframe tbody tr th {\n",
       "        vertical-align: top;\n",
       "    }\n",
       "\n",
       "    .dataframe thead th {\n",
       "        text-align: right;\n",
       "    }\n",
       "</style>\n",
       "<table border=\"1\" class=\"dataframe\">\n",
       "  <thead>\n",
       "    <tr style=\"text-align: right;\">\n",
       "      <th></th>\n",
       "      <th>Do Not Email</th>\n",
       "      <th>Do Not Call</th>\n",
       "      <th>TotalVisits</th>\n",
       "      <th>Total Time Spent on Website</th>\n",
       "      <th>Page Views Per Visit</th>\n",
       "      <th>A free copy of Mastering The Interview</th>\n",
       "      <th>Lead Origin_Landing Page Submission</th>\n",
       "      <th>Lead Origin_Lead Add Form</th>\n",
       "      <th>Lead Origin_Lead Import</th>\n",
       "      <th>Lead Source_Direct Traffic</th>\n",
       "      <th>...</th>\n",
       "      <th>Country_Sri Lanka</th>\n",
       "      <th>Country_Sweden</th>\n",
       "      <th>Country_Switzerland</th>\n",
       "      <th>Country_Tanzania</th>\n",
       "      <th>Country_Uganda</th>\n",
       "      <th>Country_United Arab Emirates</th>\n",
       "      <th>Country_United Kingdom</th>\n",
       "      <th>Country_United States</th>\n",
       "      <th>Country_Vietnam</th>\n",
       "      <th>Country_unknown</th>\n",
       "    </tr>\n",
       "  </thead>\n",
       "  <tbody>\n",
       "    <tr>\n",
       "      <th>3009</th>\n",
       "      <td>0</td>\n",
       "      <td>0</td>\n",
       "      <td>-0.284595</td>\n",
       "      <td>-0.160255</td>\n",
       "      <td>-0.179666</td>\n",
       "      <td>1</td>\n",
       "      <td>1</td>\n",
       "      <td>0</td>\n",
       "      <td>0</td>\n",
       "      <td>1</td>\n",
       "      <td>...</td>\n",
       "      <td>0</td>\n",
       "      <td>0</td>\n",
       "      <td>0</td>\n",
       "      <td>0</td>\n",
       "      <td>0</td>\n",
       "      <td>0</td>\n",
       "      <td>0</td>\n",
       "      <td>0</td>\n",
       "      <td>0</td>\n",
       "      <td>0</td>\n",
       "    </tr>\n",
       "    <tr>\n",
       "      <th>1012</th>\n",
       "      <td>1</td>\n",
       "      <td>0</td>\n",
       "      <td>-0.284595</td>\n",
       "      <td>-0.540048</td>\n",
       "      <td>-0.179666</td>\n",
       "      <td>0</td>\n",
       "      <td>1</td>\n",
       "      <td>0</td>\n",
       "      <td>0</td>\n",
       "      <td>1</td>\n",
       "      <td>...</td>\n",
       "      <td>0</td>\n",
       "      <td>0</td>\n",
       "      <td>0</td>\n",
       "      <td>0</td>\n",
       "      <td>0</td>\n",
       "      <td>0</td>\n",
       "      <td>0</td>\n",
       "      <td>0</td>\n",
       "      <td>0</td>\n",
       "      <td>0</td>\n",
       "    </tr>\n",
       "    <tr>\n",
       "      <th>9226</th>\n",
       "      <td>0</td>\n",
       "      <td>0</td>\n",
       "      <td>-0.671384</td>\n",
       "      <td>-0.888650</td>\n",
       "      <td>-1.132538</td>\n",
       "      <td>0</td>\n",
       "      <td>0</td>\n",
       "      <td>0</td>\n",
       "      <td>0</td>\n",
       "      <td>0</td>\n",
       "      <td>...</td>\n",
       "      <td>0</td>\n",
       "      <td>0</td>\n",
       "      <td>0</td>\n",
       "      <td>0</td>\n",
       "      <td>0</td>\n",
       "      <td>0</td>\n",
       "      <td>0</td>\n",
       "      <td>0</td>\n",
       "      <td>0</td>\n",
       "      <td>0</td>\n",
       "    </tr>\n",
       "    <tr>\n",
       "      <th>4750</th>\n",
       "      <td>0</td>\n",
       "      <td>0</td>\n",
       "      <td>-0.284595</td>\n",
       "      <td>1.643304</td>\n",
       "      <td>-0.179666</td>\n",
       "      <td>0</td>\n",
       "      <td>1</td>\n",
       "      <td>0</td>\n",
       "      <td>0</td>\n",
       "      <td>1</td>\n",
       "      <td>...</td>\n",
       "      <td>0</td>\n",
       "      <td>0</td>\n",
       "      <td>0</td>\n",
       "      <td>0</td>\n",
       "      <td>0</td>\n",
       "      <td>0</td>\n",
       "      <td>0</td>\n",
       "      <td>0</td>\n",
       "      <td>0</td>\n",
       "      <td>0</td>\n",
       "    </tr>\n",
       "    <tr>\n",
       "      <th>7987</th>\n",
       "      <td>0</td>\n",
       "      <td>0</td>\n",
       "      <td>0.295588</td>\n",
       "      <td>2.017593</td>\n",
       "      <td>0.058552</td>\n",
       "      <td>0</td>\n",
       "      <td>1</td>\n",
       "      <td>0</td>\n",
       "      <td>0</td>\n",
       "      <td>1</td>\n",
       "      <td>...</td>\n",
       "      <td>0</td>\n",
       "      <td>0</td>\n",
       "      <td>0</td>\n",
       "      <td>0</td>\n",
       "      <td>0</td>\n",
       "      <td>0</td>\n",
       "      <td>0</td>\n",
       "      <td>0</td>\n",
       "      <td>0</td>\n",
       "      <td>0</td>\n",
       "    </tr>\n",
       "  </tbody>\n",
       "</table>\n",
       "<p>5 rows × 157 columns</p>\n",
       "</div>"
      ],
      "text/plain": [
       "      Do Not Email  Do Not Call  TotalVisits  Total Time Spent on Website  \\\n",
       "3009             0            0    -0.284595                    -0.160255   \n",
       "1012             1            0    -0.284595                    -0.540048   \n",
       "9226             0            0    -0.671384                    -0.888650   \n",
       "4750             0            0    -0.284595                     1.643304   \n",
       "7987             0            0     0.295588                     2.017593   \n",
       "\n",
       "      Page Views Per Visit  A free copy of Mastering The Interview  \\\n",
       "3009             -0.179666                                       1   \n",
       "1012             -0.179666                                       0   \n",
       "9226             -1.132538                                       0   \n",
       "4750             -0.179666                                       0   \n",
       "7987              0.058552                                       0   \n",
       "\n",
       "      Lead Origin_Landing Page Submission  Lead Origin_Lead Add Form  \\\n",
       "3009                                    1                          0   \n",
       "1012                                    1                          0   \n",
       "9226                                    0                          0   \n",
       "4750                                    1                          0   \n",
       "7987                                    1                          0   \n",
       "\n",
       "      Lead Origin_Lead Import  Lead Source_Direct Traffic       ...         \\\n",
       "3009                        0                           1       ...          \n",
       "1012                        0                           1       ...          \n",
       "9226                        0                           0       ...          \n",
       "4750                        0                           1       ...          \n",
       "7987                        0                           1       ...          \n",
       "\n",
       "      Country_Sri Lanka  Country_Sweden  Country_Switzerland  \\\n",
       "3009                  0               0                    0   \n",
       "1012                  0               0                    0   \n",
       "9226                  0               0                    0   \n",
       "4750                  0               0                    0   \n",
       "7987                  0               0                    0   \n",
       "\n",
       "      Country_Tanzania  Country_Uganda  Country_United Arab Emirates  \\\n",
       "3009                 0               0                             0   \n",
       "1012                 0               0                             0   \n",
       "9226                 0               0                             0   \n",
       "4750                 0               0                             0   \n",
       "7987                 0               0                             0   \n",
       "\n",
       "      Country_United Kingdom  Country_United States  Country_Vietnam  \\\n",
       "3009                       0                      0                0   \n",
       "1012                       0                      0                0   \n",
       "9226                       0                      0                0   \n",
       "4750                       0                      0                0   \n",
       "7987                       0                      0                0   \n",
       "\n",
       "      Country_unknown  \n",
       "3009                0  \n",
       "1012                0  \n",
       "9226                0  \n",
       "4750                0  \n",
       "7987                0  \n",
       "\n",
       "[5 rows x 157 columns]"
      ]
     },
     "execution_count": 54,
     "metadata": {},
     "output_type": "execute_result"
    }
   ],
   "source": [
    "#Scaling the numerical columns\n",
    "X_train[['TotalVisits','Total Time Spent on Website','Page Views Per Visit']] = scaler.fit_transform(X_train[['TotalVisits','Total Time Spent on Website','Page Views Per Visit']])\n",
    "X_train.head()"
   ]
  },
  {
   "cell_type": "markdown",
   "metadata": {},
   "source": [
    "### Creating The Logistic Regression Model"
   ]
  },
  {
   "cell_type": "code",
   "execution_count": 55,
   "metadata": {
    "scrolled": false
   },
   "outputs": [
    {
     "data": {
      "text/html": [
       "<table class=\"simpletable\">\n",
       "<caption>Generalized Linear Model Regression Results</caption>\n",
       "<tr>\n",
       "  <th>Dep. Variable:</th>      <td>Converted</td>    <th>  No. Observations:  </th>  <td>  6351</td>  \n",
       "</tr>\n",
       "<tr>\n",
       "  <th>Model:</th>                 <td>GLM</td>       <th>  Df Residuals:      </th>  <td>  6199</td>  \n",
       "</tr>\n",
       "<tr>\n",
       "  <th>Model Family:</th>       <td>Binomial</td>     <th>  Df Model:          </th>  <td>   151</td>  \n",
       "</tr>\n",
       "<tr>\n",
       "  <th>Link Function:</th>        <td>logit</td>      <th>  Scale:             </th> <td>  1.0000</td> \n",
       "</tr>\n",
       "<tr>\n",
       "  <th>Method:</th>               <td>IRLS</td>       <th>  Log-Likelihood:    </th> <td>     nan</td> \n",
       "</tr>\n",
       "<tr>\n",
       "  <th>Date:</th>           <td>Mon, 26 Aug 2019</td> <th>  Deviance:          </th> <td>     nan</td> \n",
       "</tr>\n",
       "<tr>\n",
       "  <th>Time:</th>               <td>23:03:42</td>     <th>  Pearson chi2:      </th> <td>2.41e+18</td> \n",
       "</tr>\n",
       "<tr>\n",
       "  <th>No. Iterations:</th>        <td>100</td>       <th>  Covariance Type:   </th> <td>nonrobust</td>\n",
       "</tr>\n",
       "</table>\n",
       "<table class=\"simpletable\">\n",
       "<tr>\n",
       "                             <td></td>                               <th>coef</th>     <th>std err</th>      <th>z</th>      <th>P>|z|</th>  <th>[0.025</th>    <th>0.975]</th>  \n",
       "</tr>\n",
       "<tr>\n",
       "  <th>const</th>                                                  <td> 3.624e+15</td> <td>  1.1e+08</td> <td> 3.31e+07</td> <td> 0.000</td> <td> 3.62e+15</td> <td> 3.62e+15</td>\n",
       "</tr>\n",
       "<tr>\n",
       "  <th>Do Not Email</th>                                           <td>-4.571e+14</td> <td> 4.49e+06</td> <td>-1.02e+08</td> <td> 0.000</td> <td>-4.57e+14</td> <td>-4.57e+14</td>\n",
       "</tr>\n",
       "<tr>\n",
       "  <th>Do Not Call</th>                                            <td> 4.294e+15</td> <td> 4.78e+07</td> <td> 8.98e+07</td> <td> 0.000</td> <td> 4.29e+15</td> <td> 4.29e+15</td>\n",
       "</tr>\n",
       "<tr>\n",
       "  <th>TotalVisits</th>                                            <td> 1.815e+13</td> <td>    1e+06</td> <td> 1.81e+07</td> <td> 0.000</td> <td> 1.81e+13</td> <td> 1.81e+13</td>\n",
       "</tr>\n",
       "<tr>\n",
       "  <th>Total Time Spent on Website</th>                            <td> 3.799e+14</td> <td> 1.04e+06</td> <td> 3.65e+08</td> <td> 0.000</td> <td>  3.8e+14</td> <td>  3.8e+14</td>\n",
       "</tr>\n",
       "<tr>\n",
       "  <th>Page Views Per Visit</th>                                   <td>-2.023e+13</td> <td> 1.27e+06</td> <td>-1.59e+07</td> <td> 0.000</td> <td>-2.02e+13</td> <td>-2.02e+13</td>\n",
       "</tr>\n",
       "<tr>\n",
       "  <th>A free copy of Mastering The Interview</th>                 <td>-4.018e+13</td> <td> 2.72e+06</td> <td>-1.48e+07</td> <td> 0.000</td> <td>-4.02e+13</td> <td>-4.02e+13</td>\n",
       "</tr>\n",
       "<tr>\n",
       "  <th>Lead Origin_Landing Page Submission</th>                    <td>-2.021e+14</td> <td> 3.42e+06</td> <td>-5.91e+07</td> <td> 0.000</td> <td>-2.02e+14</td> <td>-2.02e+14</td>\n",
       "</tr>\n",
       "<tr>\n",
       "  <th>Lead Origin_Lead Add Form</th>                              <td>-5.811e+14</td> <td> 4.77e+07</td> <td>-1.22e+07</td> <td> 0.000</td> <td>-5.81e+14</td> <td>-5.81e+14</td>\n",
       "</tr>\n",
       "<tr>\n",
       "  <th>Lead Origin_Lead Import</th>                                <td>  1.95e+15</td> <td> 7.28e+07</td> <td> 2.68e+07</td> <td> 0.000</td> <td> 1.95e+15</td> <td> 1.95e+15</td>\n",
       "</tr>\n",
       "<tr>\n",
       "  <th>Lead Source_Direct Traffic</th>                             <td>-1.204e+15</td> <td> 6.28e+07</td> <td>-1.92e+07</td> <td> 0.000</td> <td> -1.2e+15</td> <td> -1.2e+15</td>\n",
       "</tr>\n",
       "<tr>\n",
       "  <th>Lead Source_Facebook</th>                                   <td>-3.047e+15</td> <td> 9.51e+07</td> <td> -3.2e+07</td> <td> 0.000</td> <td>-3.05e+15</td> <td>-3.05e+15</td>\n",
       "</tr>\n",
       "<tr>\n",
       "  <th>Lead Source_Google</th>                                     <td>-1.102e+15</td> <td> 6.28e+07</td> <td>-1.76e+07</td> <td> 0.000</td> <td> -1.1e+15</td> <td> -1.1e+15</td>\n",
       "</tr>\n",
       "<tr>\n",
       "  <th>Lead Source_Live Chat</th>                                  <td>-7.809e+14</td> <td> 6.26e+07</td> <td>-1.25e+07</td> <td> 0.000</td> <td>-7.81e+14</td> <td>-7.81e+14</td>\n",
       "</tr>\n",
       "<tr>\n",
       "  <th>Lead Source_NC_EDM</th>                                     <td> 3.217e+15</td> <td> 9.19e+07</td> <td>  3.5e+07</td> <td> 0.000</td> <td> 3.22e+15</td> <td> 3.22e+15</td>\n",
       "</tr>\n",
       "<tr>\n",
       "  <th>Lead Source_Olark Chat</th>                                 <td>-7.689e+14</td> <td> 6.27e+07</td> <td>-1.23e+07</td> <td> 0.000</td> <td>-7.69e+14</td> <td>-7.69e+14</td>\n",
       "</tr>\n",
       "<tr>\n",
       "  <th>Lead Source_Organic Search</th>                             <td>-1.147e+15</td> <td> 6.28e+07</td> <td>-1.83e+07</td> <td> 0.000</td> <td>-1.15e+15</td> <td>-1.15e+15</td>\n",
       "</tr>\n",
       "<tr>\n",
       "  <th>Lead Source_Pay per Click Ads</th>                          <td>-3.299e+15</td> <td> 9.21e+07</td> <td>-3.58e+07</td> <td> 0.000</td> <td> -3.3e+15</td> <td> -3.3e+15</td>\n",
       "</tr>\n",
       "<tr>\n",
       "  <th>Lead Source_Press_Release</th>                              <td>-4.394e+15</td> <td> 9.26e+07</td> <td>-4.75e+07</td> <td> 0.000</td> <td>-4.39e+15</td> <td>-4.39e+15</td>\n",
       "</tr>\n",
       "<tr>\n",
       "  <th>Lead Source_Reference</th>                                  <td>-5.295e+14</td> <td> 4.08e+07</td> <td> -1.3e+07</td> <td> 0.000</td> <td> -5.3e+14</td> <td> -5.3e+14</td>\n",
       "</tr>\n",
       "<tr>\n",
       "  <th>Lead Source_Referral Sites</th>                             <td>-1.158e+15</td> <td> 6.32e+07</td> <td>-1.83e+07</td> <td> 0.000</td> <td>-1.16e+15</td> <td>-1.16e+15</td>\n",
       "</tr>\n",
       "<tr>\n",
       "  <th>Lead Source_Social Media</th>                               <td>-2.607e+14</td> <td> 7.89e+07</td> <td>-3.31e+06</td> <td> 0.000</td> <td>-2.61e+14</td> <td>-2.61e+14</td>\n",
       "</tr>\n",
       "<tr>\n",
       "  <th>Lead Source_WeLearn</th>                                    <td>   25.2666</td> <td> 1.69e-06</td> <td> 1.49e+07</td> <td> 0.000</td> <td>   25.267</td> <td>   25.267</td>\n",
       "</tr>\n",
       "<tr>\n",
       "  <th>Lead Source_Welingak Website</th>                           <td> 8.459e+14</td> <td> 4.13e+07</td> <td> 2.05e+07</td> <td> 0.000</td> <td> 8.46e+14</td> <td> 8.46e+14</td>\n",
       "</tr>\n",
       "<tr>\n",
       "  <th>Lead Source_bing</th>                                       <td>-3.127e+14</td> <td> 7.39e+07</td> <td>-4.23e+06</td> <td> 0.000</td> <td>-3.13e+14</td> <td>-3.13e+14</td>\n",
       "</tr>\n",
       "<tr>\n",
       "  <th>Lead Source_blog</th>                                       <td>-6.255e+15</td> <td>  9.2e+07</td> <td> -6.8e+07</td> <td> 0.000</td> <td>-6.25e+15</td> <td>-6.25e+15</td>\n",
       "</tr>\n",
       "<tr>\n",
       "  <th>Lead Source_google</th>                                     <td>-5.308e+15</td> <td> 7.15e+07</td> <td>-7.42e+07</td> <td> 0.000</td> <td>-5.31e+15</td> <td>-5.31e+15</td>\n",
       "</tr>\n",
       "<tr>\n",
       "  <th>Lead Source_testone</th>                                    <td>-5.306e+15</td> <td> 9.22e+07</td> <td>-5.75e+07</td> <td> 0.000</td> <td>-5.31e+15</td> <td>-5.31e+15</td>\n",
       "</tr>\n",
       "<tr>\n",
       "  <th>Lead Source_welearnblog_Home</th>                           <td>-5.319e+15</td> <td> 9.21e+07</td> <td>-5.78e+07</td> <td> 0.000</td> <td>-5.32e+15</td> <td>-5.32e+15</td>\n",
       "</tr>\n",
       "<tr>\n",
       "  <th>Lead Source_youtubechannel</th>                             <td>-3.132e+15</td> <td> 1.01e+08</td> <td>-3.11e+07</td> <td> 0.000</td> <td>-3.13e+15</td> <td>-3.13e+15</td>\n",
       "</tr>\n",
       "<tr>\n",
       "  <th>Last Activity_Converted to Lead</th>                        <td> -3.06e+15</td> <td> 3.43e+07</td> <td>-8.93e+07</td> <td> 0.000</td> <td>-3.06e+15</td> <td>-3.06e+15</td>\n",
       "</tr>\n",
       "<tr>\n",
       "  <th>Last Activity_Email Bounced</th>                            <td>-2.925e+15</td> <td> 3.47e+07</td> <td>-8.44e+07</td> <td> 0.000</td> <td>-2.92e+15</td> <td>-2.92e+15</td>\n",
       "</tr>\n",
       "<tr>\n",
       "  <th>Last Activity_Email Link Clicked</th>                       <td>-2.373e+15</td> <td>  3.5e+07</td> <td>-6.78e+07</td> <td> 0.000</td> <td>-2.37e+15</td> <td>-2.37e+15</td>\n",
       "</tr>\n",
       "<tr>\n",
       "  <th>Last Activity_Email Marked Spam</th>                        <td>-1.019e+15</td> <td> 4.16e+07</td> <td>-2.45e+07</td> <td> 0.000</td> <td>-1.02e+15</td> <td>-1.02e+15</td>\n",
       "</tr>\n",
       "<tr>\n",
       "  <th>Last Activity_Email Opened</th>                             <td>-2.924e+15</td> <td> 3.41e+07</td> <td>-8.58e+07</td> <td> 0.000</td> <td>-2.92e+15</td> <td>-2.92e+15</td>\n",
       "</tr>\n",
       "<tr>\n",
       "  <th>Last Activity_Email Received</th>                           <td> 1.037e+15</td> <td> 7.54e+07</td> <td> 1.38e+07</td> <td> 0.000</td> <td> 1.04e+15</td> <td> 1.04e+15</td>\n",
       "</tr>\n",
       "<tr>\n",
       "  <th>Last Activity_Form Submitted on Website</th>                <td>-3.214e+15</td> <td>  3.5e+07</td> <td>-9.19e+07</td> <td> 0.000</td> <td>-3.21e+15</td> <td>-3.21e+15</td>\n",
       "</tr>\n",
       "<tr>\n",
       "  <th>Last Activity_Had a Phone Conversation</th>                 <td>-1.654e+15</td> <td> 4.54e+07</td> <td>-3.65e+07</td> <td> 0.000</td> <td>-1.65e+15</td> <td>-1.65e+15</td>\n",
       "</tr>\n",
       "<tr>\n",
       "  <th>Last Activity_Olark Chat Conversation</th>                  <td>  -3.3e+15</td> <td> 3.41e+07</td> <td>-9.67e+07</td> <td> 0.000</td> <td> -3.3e+15</td> <td> -3.3e+15</td>\n",
       "</tr>\n",
       "<tr>\n",
       "  <th>Last Activity_Page Visited on Website</th>                  <td>-2.896e+15</td> <td> 3.43e+07</td> <td>-8.44e+07</td> <td> 0.000</td> <td> -2.9e+15</td> <td> -2.9e+15</td>\n",
       "</tr>\n",
       "<tr>\n",
       "  <th>Last Activity_Resubscribed to emails</th>                   <td>-2.949e+14</td> <td> 4.89e+07</td> <td>-6.03e+06</td> <td> 0.000</td> <td>-2.95e+14</td> <td>-2.95e+14</td>\n",
       "</tr>\n",
       "<tr>\n",
       "  <th>Last Activity_SMS Sent</th>                                 <td>-2.622e+15</td> <td> 3.42e+07</td> <td>-7.67e+07</td> <td> 0.000</td> <td>-2.62e+15</td> <td>-2.62e+15</td>\n",
       "</tr>\n",
       "<tr>\n",
       "  <th>Last Activity_Unreachable</th>                              <td>-2.986e+15</td> <td> 3.55e+07</td> <td> -8.4e+07</td> <td> 0.000</td> <td>-2.99e+15</td> <td>-2.99e+15</td>\n",
       "</tr>\n",
       "<tr>\n",
       "  <th>Last Activity_Unsubscribed</th>                             <td>-2.718e+15</td> <td> 3.97e+07</td> <td>-6.84e+07</td> <td> 0.000</td> <td>-2.72e+15</td> <td>-2.72e+15</td>\n",
       "</tr>\n",
       "<tr>\n",
       "  <th>Last Activity_View in browser link Clicked</th>             <td>-2.441e+15</td> <td> 4.55e+07</td> <td>-5.37e+07</td> <td> 0.000</td> <td>-2.44e+15</td> <td>-2.44e+15</td>\n",
       "</tr>\n",
       "<tr>\n",
       "  <th>Last Activity_Visited Booth in Tradeshow</th>               <td>-2.346e+15</td> <td> 7.64e+07</td> <td>-3.07e+07</td> <td> 0.000</td> <td>-2.35e+15</td> <td>-2.35e+15</td>\n",
       "</tr>\n",
       "<tr>\n",
       "  <th>Specialization_Business Administration</th>                 <td>-1.305e+14</td> <td> 6.16e+06</td> <td>-2.12e+07</td> <td> 0.000</td> <td> -1.3e+14</td> <td> -1.3e+14</td>\n",
       "</tr>\n",
       "<tr>\n",
       "  <th>Specialization_E-Business</th>                              <td>-2.032e+14</td> <td> 1.15e+07</td> <td>-1.77e+07</td> <td> 0.000</td> <td>-2.03e+14</td> <td>-2.03e+14</td>\n",
       "</tr>\n",
       "<tr>\n",
       "  <th>Specialization_E-COMMERCE</th>                              <td>-1.311e+13</td> <td> 9.01e+06</td> <td>-1.45e+06</td> <td> 0.000</td> <td>-1.31e+13</td> <td>-1.31e+13</td>\n",
       "</tr>\n",
       "<tr>\n",
       "  <th>Specialization_Finance Management</th>                      <td>-2.823e+14</td> <td> 5.17e+06</td> <td>-5.46e+07</td> <td> 0.000</td> <td>-2.82e+14</td> <td>-2.82e+14</td>\n",
       "</tr>\n",
       "<tr>\n",
       "  <th>Specialization_Healthcare Management</th>                   <td>-1.445e+14</td> <td> 7.86e+06</td> <td>-1.84e+07</td> <td> 0.000</td> <td>-1.44e+14</td> <td>-1.44e+14</td>\n",
       "</tr>\n",
       "<tr>\n",
       "  <th>Specialization_Hospitality Management</th>                  <td>-2.148e+14</td> <td> 8.86e+06</td> <td>-2.43e+07</td> <td> 0.000</td> <td>-2.15e+14</td> <td>-2.15e+14</td>\n",
       "</tr>\n",
       "<tr>\n",
       "  <th>Specialization_Human Resource Management</th>               <td>-2.348e+14</td> <td> 5.25e+06</td> <td>-4.48e+07</td> <td> 0.000</td> <td>-2.35e+14</td> <td>-2.35e+14</td>\n",
       "</tr>\n",
       "<tr>\n",
       "  <th>Specialization_IT Projects Management</th>                  <td>-1.218e+14</td> <td> 6.16e+06</td> <td>-1.98e+07</td> <td> 0.000</td> <td>-1.22e+14</td> <td>-1.22e+14</td>\n",
       "</tr>\n",
       "<tr>\n",
       "  <th>Specialization_International Business</th>                  <td>-4.192e+14</td> <td> 7.53e+06</td> <td>-5.57e+07</td> <td> 0.000</td> <td>-4.19e+14</td> <td>-4.19e+14</td>\n",
       "</tr>\n",
       "<tr>\n",
       "  <th>Specialization_Marketing Management</th>                    <td> 4.166e+12</td> <td> 5.27e+06</td> <td>  7.9e+05</td> <td> 0.000</td> <td> 4.17e+12</td> <td> 4.17e+12</td>\n",
       "</tr>\n",
       "<tr>\n",
       "  <th>Specialization_Media and Advertising</th>                   <td>-2.673e+14</td> <td> 7.28e+06</td> <td>-3.67e+07</td> <td> 0.000</td> <td>-2.67e+14</td> <td>-2.67e+14</td>\n",
       "</tr>\n",
       "<tr>\n",
       "  <th>Specialization_Operations Management</th>                   <td>-1.047e+14</td> <td> 5.76e+06</td> <td>-1.82e+07</td> <td> 0.000</td> <td>-1.05e+14</td> <td>-1.05e+14</td>\n",
       "</tr>\n",
       "<tr>\n",
       "  <th>Specialization_Retail Management</th>                       <td>-1.778e+14</td> <td> 8.96e+06</td> <td>-1.98e+07</td> <td> 0.000</td> <td>-1.78e+14</td> <td>-1.78e+14</td>\n",
       "</tr>\n",
       "<tr>\n",
       "  <th>Specialization_Rural and Agribusiness</th>                  <td> -3.11e+14</td> <td> 1.02e+07</td> <td>-3.06e+07</td> <td> 0.000</td> <td>-3.11e+14</td> <td>-3.11e+14</td>\n",
       "</tr>\n",
       "<tr>\n",
       "  <th>Specialization_Services Excellence</th>                     <td>-2.546e+14</td> <td> 1.46e+07</td> <td>-1.75e+07</td> <td> 0.000</td> <td>-2.55e+14</td> <td>-2.55e+14</td>\n",
       "</tr>\n",
       "<tr>\n",
       "  <th>Specialization_Supply Chain Management</th>                 <td>-3.529e+14</td> <td> 6.29e+06</td> <td>-5.61e+07</td> <td> 0.000</td> <td>-3.53e+14</td> <td>-3.53e+14</td>\n",
       "</tr>\n",
       "<tr>\n",
       "  <th>Specialization_Travel and Tourism</th>                      <td>-4.484e+14</td> <td> 7.39e+06</td> <td>-6.07e+07</td> <td> 0.000</td> <td>-4.48e+14</td> <td>-4.48e+14</td>\n",
       "</tr>\n",
       "<tr>\n",
       "  <th>Specialization_Unknown</th>                                 <td>-3.066e+14</td> <td> 5.45e+06</td> <td>-5.63e+07</td> <td> 0.000</td> <td>-3.07e+14</td> <td>-3.07e+14</td>\n",
       "</tr>\n",
       "<tr>\n",
       "  <th>What is your current occupation_Housewife</th>              <td> 3.625e+15</td> <td> 3.78e+07</td> <td>  9.6e+07</td> <td> 0.000</td> <td> 3.63e+15</td> <td> 3.63e+15</td>\n",
       "</tr>\n",
       "<tr>\n",
       "  <th>What is your current occupation_Other</th>                  <td>-2.136e+14</td> <td>  3.5e+07</td> <td>-6.11e+06</td> <td> 0.000</td> <td>-2.14e+14</td> <td>-2.14e+14</td>\n",
       "</tr>\n",
       "<tr>\n",
       "  <th>What is your current occupation_Student</th>                <td> -9.18e+13</td> <td> 2.84e+07</td> <td>-3.24e+06</td> <td> 0.000</td> <td>-9.18e+13</td> <td>-9.18e+13</td>\n",
       "</tr>\n",
       "<tr>\n",
       "  <th>What is your current occupation_Unemployed</th>             <td>-1.068e+14</td> <td> 2.77e+07</td> <td>-3.86e+06</td> <td> 0.000</td> <td>-1.07e+14</td> <td>-1.07e+14</td>\n",
       "</tr>\n",
       "<tr>\n",
       "  <th>What is your current occupation_Uneployed</th>              <td> 2.303e+14</td> <td> 2.78e+07</td> <td> 8.29e+06</td> <td> 0.000</td> <td>  2.3e+14</td> <td>  2.3e+14</td>\n",
       "</tr>\n",
       "<tr>\n",
       "  <th>What is your current occupation_Working Professional</th>   <td> -6.87e+13</td> <td> 2.79e+07</td> <td>-2.47e+06</td> <td> 0.000</td> <td>-6.87e+13</td> <td>-6.87e+13</td>\n",
       "</tr>\n",
       "<tr>\n",
       "  <th>Tags_Busy</th>                                              <td>-7.793e+14</td> <td> 8.16e+06</td> <td>-9.55e+07</td> <td> 0.000</td> <td>-7.79e+14</td> <td>-7.79e+14</td>\n",
       "</tr>\n",
       "<tr>\n",
       "  <th>Tags_Closed by Horizzon</th>                                <td> 1.747e+15</td> <td> 7.55e+06</td> <td> 2.31e+08</td> <td> 0.000</td> <td> 1.75e+15</td> <td> 1.75e+15</td>\n",
       "</tr>\n",
       "<tr>\n",
       "  <th>Tags_Diploma holder (Not Eligible)</th>                     <td>  -7.7e+13</td> <td>    1e+07</td> <td>-7.67e+06</td> <td> 0.000</td> <td> -7.7e+13</td> <td> -7.7e+13</td>\n",
       "</tr>\n",
       "<tr>\n",
       "  <th>Tags_Graduation in progress</th>                            <td> 7.172e+14</td> <td> 9.03e+06</td> <td> 7.94e+07</td> <td> 0.000</td> <td> 7.17e+14</td> <td> 7.17e+14</td>\n",
       "</tr>\n",
       "<tr>\n",
       "  <th>Tags_In confusion whether part time or DLP</th>             <td> 4.933e+14</td> <td> 3.41e+07</td> <td> 1.45e+07</td> <td> 0.000</td> <td> 4.93e+14</td> <td> 4.93e+14</td>\n",
       "</tr>\n",
       "<tr>\n",
       "  <th>Tags_Interested  in full time MBA</th>                      <td> 1.537e+14</td> <td>  8.5e+06</td> <td> 1.81e+07</td> <td> 0.000</td> <td> 1.54e+14</td> <td> 1.54e+14</td>\n",
       "</tr>\n",
       "<tr>\n",
       "  <th>Tags_Interested in Next batch</th>                          <td> 4.302e+15</td> <td> 3.42e+07</td> <td> 1.26e+08</td> <td> 0.000</td> <td>  4.3e+15</td> <td>  4.3e+15</td>\n",
       "</tr>\n",
       "<tr>\n",
       "  <th>Tags_Interested in other courses</th>                       <td> 1.847e+14</td> <td> 5.76e+06</td> <td> 3.21e+07</td> <td> 0.000</td> <td> 1.85e+14</td> <td> 1.85e+14</td>\n",
       "</tr>\n",
       "<tr>\n",
       "  <th>Tags_Lateral student</th>                                   <td>  5.17e+15</td> <td> 4.79e+07</td> <td> 1.08e+08</td> <td> 0.000</td> <td> 5.17e+15</td> <td> 5.17e+15</td>\n",
       "</tr>\n",
       "<tr>\n",
       "  <th>Tags_Lost to EINS</th>                                      <td> 2.072e+15</td> <td> 8.07e+06</td> <td> 2.57e+08</td> <td> 0.000</td> <td> 2.07e+15</td> <td> 2.07e+15</td>\n",
       "</tr>\n",
       "<tr>\n",
       "  <th>Tags_Lost to Others</th>                                    <td> -3.43e+15</td> <td> 2.64e+07</td> <td> -1.3e+08</td> <td> 0.000</td> <td>-3.43e+15</td> <td>-3.43e+15</td>\n",
       "</tr>\n",
       "<tr>\n",
       "  <th>Tags_Not doing further education</th>                       <td> 3.744e+14</td> <td>  8.2e+06</td> <td> 4.57e+07</td> <td> 0.000</td> <td> 3.74e+14</td> <td> 3.74e+14</td>\n",
       "</tr>\n",
       "<tr>\n",
       "  <th>Tags_Recognition issue (DEC approval)</th>                  <td>  -3.9e+15</td> <td> 6.91e+07</td> <td>-5.64e+07</td> <td> 0.000</td> <td> -3.9e+15</td> <td> -3.9e+15</td>\n",
       "</tr>\n",
       "<tr>\n",
       "  <th>Tags_Ringing</th>                                           <td> -6.86e+14</td> <td>  5.5e+06</td> <td>-1.25e+08</td> <td> 0.000</td> <td>-6.86e+14</td> <td>-6.86e+14</td>\n",
       "</tr>\n",
       "<tr>\n",
       "  <th>Tags_Shall take in the next coming month</th>               <td> -4.22e+15</td> <td> 6.74e+07</td> <td>-6.26e+07</td> <td> 0.000</td> <td>-4.22e+15</td> <td>-4.22e+15</td>\n",
       "</tr>\n",
       "<tr>\n",
       "  <th>Tags_Still Thinking</th>                                    <td> 4.706e+14</td> <td> 3.42e+07</td> <td> 1.38e+07</td> <td> 0.000</td> <td> 4.71e+14</td> <td> 4.71e+14</td>\n",
       "</tr>\n",
       "<tr>\n",
       "  <th>Tags_University not recognized</th>                         <td>-3.122e+15</td> <td>  4.8e+07</td> <td> -6.5e+07</td> <td> 0.000</td> <td>-3.12e+15</td> <td>-3.12e+15</td>\n",
       "</tr>\n",
       "<tr>\n",
       "  <th>Tags_Unknown</th>                                           <td> 2.192e+14</td> <td> 5.89e+06</td> <td> 3.72e+07</td> <td> 0.000</td> <td> 2.19e+14</td> <td> 2.19e+14</td>\n",
       "</tr>\n",
       "<tr>\n",
       "  <th>Tags_Want to take admission but has financial problems</th> <td> 6.933e+14</td> <td> 3.56e+07</td> <td> 1.95e+07</td> <td> 0.000</td> <td> 6.93e+14</td> <td> 6.93e+14</td>\n",
       "</tr>\n",
       "<tr>\n",
       "  <th>Tags_Will revert after reading the email</th>               <td> 1.437e+15</td> <td> 5.94e+06</td> <td> 2.42e+08</td> <td> 0.000</td> <td> 1.44e+15</td> <td> 1.44e+15</td>\n",
       "</tr>\n",
       "<tr>\n",
       "  <th>Tags_in touch with EINS</th>                                <td> 7.383e+14</td> <td> 2.43e+07</td> <td> 3.04e+07</td> <td> 0.000</td> <td> 7.38e+14</td> <td> 7.38e+14</td>\n",
       "</tr>\n",
       "<tr>\n",
       "  <th>Tags_invalid number</th>                                    <td>-3.546e+15</td> <td> 1.02e+07</td> <td>-3.48e+08</td> <td> 0.000</td> <td>-3.55e+15</td> <td>-3.55e+15</td>\n",
       "</tr>\n",
       "<tr>\n",
       "  <th>Tags_number not provided</th>                               <td>-3.116e+15</td> <td> 1.66e+07</td> <td>-1.88e+08</td> <td> 0.000</td> <td>-3.12e+15</td> <td>-3.12e+15</td>\n",
       "</tr>\n",
       "<tr>\n",
       "  <th>Tags_opp hangup</th>                                        <td> 1.495e+14</td> <td> 1.41e+07</td> <td> 1.06e+07</td> <td> 0.000</td> <td>  1.5e+14</td> <td>  1.5e+14</td>\n",
       "</tr>\n",
       "<tr>\n",
       "  <th>Tags_switched off</th>                                      <td>-6.363e+14</td> <td> 7.39e+06</td> <td>-8.61e+07</td> <td> 0.000</td> <td>-6.36e+14</td> <td>-6.36e+14</td>\n",
       "</tr>\n",
       "<tr>\n",
       "  <th>Tags_wrong number given</th>                                <td>-3.719e+15</td> <td> 1.32e+07</td> <td>-2.82e+08</td> <td> 0.000</td> <td>-3.72e+15</td> <td>-3.72e+15</td>\n",
       "</tr>\n",
       "<tr>\n",
       "  <th>Lead Quality_Low in Relevance</th>                          <td> -9.11e+13</td> <td> 5.08e+06</td> <td>-1.79e+07</td> <td> 0.000</td> <td>-9.11e+13</td> <td>-9.11e+13</td>\n",
       "</tr>\n",
       "<tr>\n",
       "  <th>Lead Quality_Might be</th>                                  <td>-1.518e+14</td> <td>  4.3e+06</td> <td>-3.53e+07</td> <td> 0.000</td> <td>-1.52e+14</td> <td>-1.52e+14</td>\n",
       "</tr>\n",
       "<tr>\n",
       "  <th>Lead Quality_Not Sure</th>                                  <td> 2.176e+14</td> <td> 5.18e+06</td> <td>  4.2e+07</td> <td> 0.000</td> <td> 2.18e+14</td> <td> 2.18e+14</td>\n",
       "</tr>\n",
       "<tr>\n",
       "  <th>Lead Quality_Unknown</th>                                   <td>-1.168e+14</td> <td> 4.98e+06</td> <td>-2.35e+07</td> <td> 0.000</td> <td>-1.17e+14</td> <td>-1.17e+14</td>\n",
       "</tr>\n",
       "<tr>\n",
       "  <th>Lead Quality_Worst</th>                                     <td>-3.581e+14</td> <td> 6.36e+06</td> <td>-5.63e+07</td> <td> 0.000</td> <td>-3.58e+14</td> <td>-3.58e+14</td>\n",
       "</tr>\n",
       "<tr>\n",
       "  <th>City_Other Cities</th>                                      <td>-2.422e+13</td> <td> 3.52e+06</td> <td>-6.89e+06</td> <td> 0.000</td> <td>-2.42e+13</td> <td>-2.42e+13</td>\n",
       "</tr>\n",
       "<tr>\n",
       "  <th>City_Other Cities of Maharashtra</th>                       <td> 2.331e+12</td> <td> 4.16e+06</td> <td> 5.61e+05</td> <td> 0.000</td> <td> 2.33e+12</td> <td> 2.33e+12</td>\n",
       "</tr>\n",
       "<tr>\n",
       "  <th>City_Other Metro Cities</th>                                <td> 3.191e+13</td> <td> 4.44e+06</td> <td> 7.19e+06</td> <td> 0.000</td> <td> 3.19e+13</td> <td> 3.19e+13</td>\n",
       "</tr>\n",
       "<tr>\n",
       "  <th>City_Thane & Outskirts</th>                                 <td>-6.635e+13</td> <td> 3.33e+06</td> <td>-1.99e+07</td> <td> 0.000</td> <td>-6.64e+13</td> <td>-6.64e+13</td>\n",
       "</tr>\n",
       "<tr>\n",
       "  <th>City_Tier II Cities</th>                                    <td> 6.187e+13</td> <td> 9.68e+06</td> <td> 6.39e+06</td> <td> 0.000</td> <td> 6.19e+13</td> <td> 6.19e+13</td>\n",
       "</tr>\n",
       "<tr>\n",
       "  <th>Last Notable Activity_Email Bounced</th>                    <td>-1.267e+15</td> <td> 7.94e+07</td> <td> -1.6e+07</td> <td> 0.000</td> <td>-1.27e+15</td> <td>-1.27e+15</td>\n",
       "</tr>\n",
       "<tr>\n",
       "  <th>Last Notable Activity_Email Link Clicked</th>               <td>-2.057e+15</td> <td> 7.92e+07</td> <td> -2.6e+07</td> <td> 0.000</td> <td>-2.06e+15</td> <td>-2.06e+15</td>\n",
       "</tr>\n",
       "<tr>\n",
       "  <th>Last Notable Activity_Email Marked Spam</th>                <td>-1.019e+15</td> <td> 4.16e+07</td> <td>-2.45e+07</td> <td> 0.000</td> <td>-1.02e+15</td> <td>-1.02e+15</td>\n",
       "</tr>\n",
       "<tr>\n",
       "  <th>Last Notable Activity_Email Opened</th>                     <td> -1.07e+15</td> <td> 7.85e+07</td> <td>-1.36e+07</td> <td> 0.000</td> <td>-1.07e+15</td> <td>-1.07e+15</td>\n",
       "</tr>\n",
       "<tr>\n",
       "  <th>Last Notable Activity_Email Received</th>                   <td>-1.194e+15</td> <td> 1.23e+08</td> <td>-9.68e+06</td> <td> 0.000</td> <td>-1.19e+15</td> <td>-1.19e+15</td>\n",
       "</tr>\n",
       "<tr>\n",
       "  <th>Last Notable Activity_Form Submitted on Website</th>        <td>-4.627e+15</td> <td> 1.04e+08</td> <td>-4.46e+07</td> <td> 0.000</td> <td>-4.63e+15</td> <td>-4.63e+15</td>\n",
       "</tr>\n",
       "<tr>\n",
       "  <th>Last Notable Activity_Had a Phone Conversation</th>         <td> -2.53e+15</td> <td> 8.63e+07</td> <td>-2.93e+07</td> <td> 0.000</td> <td>-2.53e+15</td> <td>-2.53e+15</td>\n",
       "</tr>\n",
       "<tr>\n",
       "  <th>Last Notable Activity_Modified</th>                         <td>-1.496e+15</td> <td> 7.85e+07</td> <td>-1.91e+07</td> <td> 0.000</td> <td> -1.5e+15</td> <td> -1.5e+15</td>\n",
       "</tr>\n",
       "<tr>\n",
       "  <th>Last Notable Activity_Olark Chat Conversation</th>          <td>-1.575e+15</td> <td> 7.88e+07</td> <td>   -2e+07</td> <td> 0.000</td> <td>-1.58e+15</td> <td>-1.58e+15</td>\n",
       "</tr>\n",
       "<tr>\n",
       "  <th>Last Notable Activity_Page Visited on Website</th>          <td>-1.324e+15</td> <td> 7.88e+07</td> <td>-1.68e+07</td> <td> 0.000</td> <td>-1.32e+15</td> <td>-1.32e+15</td>\n",
       "</tr>\n",
       "<tr>\n",
       "  <th>Last Notable Activity_Resubscribed to emails</th>           <td>-2.949e+14</td> <td> 4.89e+07</td> <td>-6.03e+06</td> <td> 0.000</td> <td>-2.95e+14</td> <td>-2.95e+14</td>\n",
       "</tr>\n",
       "<tr>\n",
       "  <th>Last Notable Activity_SMS Sent</th>                         <td>-5.046e+14</td> <td> 7.86e+07</td> <td>-6.42e+06</td> <td> 0.000</td> <td>-5.05e+14</td> <td>-5.05e+14</td>\n",
       "</tr>\n",
       "<tr>\n",
       "  <th>Last Notable Activity_Unreachable</th>                      <td>-1.191e+15</td> <td> 8.03e+07</td> <td>-1.48e+07</td> <td> 0.000</td> <td>-1.19e+15</td> <td>-1.19e+15</td>\n",
       "</tr>\n",
       "<tr>\n",
       "  <th>Last Notable Activity_Unsubscribed</th>                     <td>-7.904e+14</td> <td> 8.22e+07</td> <td>-9.61e+06</td> <td> 0.000</td> <td> -7.9e+14</td> <td> -7.9e+14</td>\n",
       "</tr>\n",
       "<tr>\n",
       "  <th>Last Notable Activity_View in browser link Clicked</th>     <td> -4.97e+15</td> <td> 1.08e+08</td> <td>-4.61e+07</td> <td> 0.000</td> <td>-4.97e+15</td> <td>-4.97e+15</td>\n",
       "</tr>\n",
       "<tr>\n",
       "  <th>Country_Australia</th>                                      <td> 1.166e+15</td> <td>  5.4e+07</td> <td> 2.16e+07</td> <td> 0.000</td> <td> 1.17e+15</td> <td> 1.17e+15</td>\n",
       "</tr>\n",
       "<tr>\n",
       "  <th>Country_Bahrain</th>                                        <td> 1.109e+15</td> <td> 5.84e+07</td> <td>  1.9e+07</td> <td> 0.000</td> <td> 1.11e+15</td> <td> 1.11e+15</td>\n",
       "</tr>\n",
       "<tr>\n",
       "  <th>Country_Bangladesh</th>                                     <td> 1.212e+14</td> <td> 6.74e+07</td> <td>  1.8e+06</td> <td> 0.000</td> <td> 1.21e+14</td> <td> 1.21e+14</td>\n",
       "</tr>\n",
       "<tr>\n",
       "  <th>Country_Belgium</th>                                        <td>-2.707e+15</td> <td> 8.24e+07</td> <td>-3.28e+07</td> <td> 0.000</td> <td>-2.71e+15</td> <td>-2.71e+15</td>\n",
       "</tr>\n",
       "<tr>\n",
       "  <th>Country_Canada</th>                                         <td> -1.57e+15</td> <td> 6.15e+07</td> <td>-2.55e+07</td> <td> 0.000</td> <td>-1.57e+15</td> <td>-1.57e+15</td>\n",
       "</tr>\n",
       "<tr>\n",
       "  <th>Country_China</th>                                          <td> 9.062e+13</td> <td> 6.73e+07</td> <td> 1.35e+06</td> <td> 0.000</td> <td> 9.06e+13</td> <td> 9.06e+13</td>\n",
       "</tr>\n",
       "<tr>\n",
       "  <th>Country_Denmark</th>                                        <td> 3.552e+15</td> <td> 8.25e+07</td> <td>  4.3e+07</td> <td> 0.000</td> <td> 3.55e+15</td> <td> 3.55e+15</td>\n",
       "</tr>\n",
       "<tr>\n",
       "  <th>Country_France</th>                                         <td> 1.655e+15</td> <td>  5.5e+07</td> <td> 3.01e+07</td> <td> 0.000</td> <td> 1.65e+15</td> <td> 1.65e+15</td>\n",
       "</tr>\n",
       "<tr>\n",
       "  <th>Country_Germany</th>                                        <td> 7.348e+14</td> <td> 6.16e+07</td> <td> 1.19e+07</td> <td> 0.000</td> <td> 7.35e+14</td> <td> 7.35e+14</td>\n",
       "</tr>\n",
       "<tr>\n",
       "  <th>Country_Ghana</th>                                          <td>-6.884e+13</td> <td> 6.73e+07</td> <td>-1.02e+06</td> <td> 0.000</td> <td>-6.88e+13</td> <td>-6.88e+13</td>\n",
       "</tr>\n",
       "<tr>\n",
       "  <th>Country_Hong Kong</th>                                      <td> 4.372e+13</td> <td> 5.64e+07</td> <td> 7.75e+05</td> <td> 0.000</td> <td> 4.37e+13</td> <td> 4.37e+13</td>\n",
       "</tr>\n",
       "<tr>\n",
       "  <th>Country_India</th>                                          <td> 1.246e+15</td> <td> 4.76e+07</td> <td> 2.62e+07</td> <td> 0.000</td> <td> 1.25e+15</td> <td> 1.25e+15</td>\n",
       "</tr>\n",
       "<tr>\n",
       "  <th>Country_Indonesia</th>                                      <td> 4.293e+14</td> <td> 8.32e+07</td> <td> 5.16e+06</td> <td> 0.000</td> <td> 4.29e+14</td> <td> 4.29e+14</td>\n",
       "</tr>\n",
       "<tr>\n",
       "  <th>Country_Italy</th>                                          <td>-2.498e+15</td> <td> 6.77e+07</td> <td>-3.69e+07</td> <td> 0.000</td> <td> -2.5e+15</td> <td> -2.5e+15</td>\n",
       "</tr>\n",
       "<tr>\n",
       "  <th>Country_Kenya</th>                                          <td>   -3.2175</td> <td> 2.99e-08</td> <td>-1.08e+08</td> <td> 0.000</td> <td>   -3.217</td> <td>   -3.217</td>\n",
       "</tr>\n",
       "<tr>\n",
       "  <th>Country_Kuwait</th>                                         <td> 2.113e+14</td> <td> 6.75e+07</td> <td> 3.13e+06</td> <td> 0.000</td> <td> 2.11e+14</td> <td> 2.11e+14</td>\n",
       "</tr>\n",
       "<tr>\n",
       "  <th>Country_Liberia</th>                                        <td>-2.272e+15</td> <td> 8.26e+07</td> <td>-2.75e+07</td> <td> 0.000</td> <td>-2.27e+15</td> <td>-2.27e+15</td>\n",
       "</tr>\n",
       "<tr>\n",
       "  <th>Country_Malaysia</th>                                       <td>-8.874e+14</td> <td> 8.29e+07</td> <td>-1.07e+07</td> <td> 0.000</td> <td>-8.87e+14</td> <td>-8.87e+14</td>\n",
       "</tr>\n",
       "<tr>\n",
       "  <th>Country_Netherlands</th>                                    <td> 4.405e+14</td> <td> 6.73e+07</td> <td> 6.54e+06</td> <td> 0.000</td> <td> 4.41e+14</td> <td> 4.41e+14</td>\n",
       "</tr>\n",
       "<tr>\n",
       "  <th>Country_Nigeria</th>                                        <td>-2.459e+15</td> <td> 6.75e+07</td> <td>-3.64e+07</td> <td> 0.000</td> <td>-2.46e+15</td> <td>-2.46e+15</td>\n",
       "</tr>\n",
       "<tr>\n",
       "  <th>Country_Oman</th>                                           <td> 1.738e+15</td> <td> 5.63e+07</td> <td> 3.09e+07</td> <td> 0.000</td> <td> 1.74e+15</td> <td> 1.74e+15</td>\n",
       "</tr>\n",
       "<tr>\n",
       "  <th>Country_Philippines</th>                                    <td>   -0.4699</td> <td> 3.31e-08</td> <td>-1.42e+07</td> <td> 0.000</td> <td>   -0.470</td> <td>   -0.470</td>\n",
       "</tr>\n",
       "<tr>\n",
       "  <th>Country_Qatar</th>                                          <td>-6.122e+14</td> <td> 6.15e+07</td> <td>-9.96e+06</td> <td> 0.000</td> <td>-6.12e+14</td> <td>-6.12e+14</td>\n",
       "</tr>\n",
       "<tr>\n",
       "  <th>Country_Russia</th>                                         <td>-2.133e+15</td> <td> 8.31e+07</td> <td>-2.57e+07</td> <td> 0.000</td> <td>-2.13e+15</td> <td>-2.13e+15</td>\n",
       "</tr>\n",
       "<tr>\n",
       "  <th>Country_Saudi Arabia</th>                                   <td> 6.283e+14</td> <td> 5.24e+07</td> <td>  1.2e+07</td> <td> 0.000</td> <td> 6.28e+14</td> <td> 6.28e+14</td>\n",
       "</tr>\n",
       "<tr>\n",
       "  <th>Country_Singapore</th>                                      <td> 1.634e+15</td> <td> 5.07e+07</td> <td> 3.23e+07</td> <td> 0.000</td> <td> 1.63e+15</td> <td> 1.63e+15</td>\n",
       "</tr>\n",
       "<tr>\n",
       "  <th>Country_South Africa</th>                                   <td> 1.993e+15</td> <td> 6.74e+07</td> <td> 2.96e+07</td> <td> 0.000</td> <td> 1.99e+15</td> <td> 1.99e+15</td>\n",
       "</tr>\n",
       "<tr>\n",
       "  <th>Country_Sri Lanka</th>                                      <td>-1.868e+15</td> <td> 8.27e+07</td> <td>-2.26e+07</td> <td> 0.000</td> <td>-1.87e+15</td> <td>-1.87e+15</td>\n",
       "</tr>\n",
       "<tr>\n",
       "  <th>Country_Sweden</th>                                         <td> 1.624e+15</td> <td> 6.14e+07</td> <td> 2.65e+07</td> <td> 0.000</td> <td> 1.62e+15</td> <td> 1.62e+15</td>\n",
       "</tr>\n",
       "<tr>\n",
       "  <th>Country_Switzerland</th>                                    <td>-2.824e+15</td> <td> 8.24e+07</td> <td>-3.43e+07</td> <td> 0.000</td> <td>-2.82e+15</td> <td>-2.82e+15</td>\n",
       "</tr>\n",
       "<tr>\n",
       "  <th>Country_Tanzania</th>                                       <td>    0.1047</td> <td> 1.77e-08</td> <td>  5.9e+06</td> <td> 0.000</td> <td>    0.105</td> <td>    0.105</td>\n",
       "</tr>\n",
       "<tr>\n",
       "  <th>Country_Uganda</th>                                         <td>-1.566e+15</td> <td> 8.26e+07</td> <td> -1.9e+07</td> <td> 0.000</td> <td>-1.57e+15</td> <td>-1.57e+15</td>\n",
       "</tr>\n",
       "<tr>\n",
       "  <th>Country_United Arab Emirates</th>                           <td> 1.303e+15</td> <td> 4.89e+07</td> <td> 2.66e+07</td> <td> 0.000</td> <td>  1.3e+15</td> <td>  1.3e+15</td>\n",
       "</tr>\n",
       "<tr>\n",
       "  <th>Country_United Kingdom</th>                                 <td> 1.526e+15</td> <td> 5.15e+07</td> <td> 2.96e+07</td> <td> 0.000</td> <td> 1.53e+15</td> <td> 1.53e+15</td>\n",
       "</tr>\n",
       "<tr>\n",
       "  <th>Country_United States</th>                                  <td>  1.57e+15</td> <td> 4.86e+07</td> <td> 3.23e+07</td> <td> 0.000</td> <td> 1.57e+15</td> <td> 1.57e+15</td>\n",
       "</tr>\n",
       "<tr>\n",
       "  <th>Country_Vietnam</th>                                        <td>  6.68e+14</td> <td>  8.3e+07</td> <td> 8.05e+06</td> <td> 0.000</td> <td> 6.68e+14</td> <td> 6.68e+14</td>\n",
       "</tr>\n",
       "<tr>\n",
       "  <th>Country_unknown</th>                                        <td> 2.357e+14</td> <td> 5.83e+07</td> <td> 4.04e+06</td> <td> 0.000</td> <td> 2.36e+14</td> <td> 2.36e+14</td>\n",
       "</tr>\n",
       "</table>"
      ],
      "text/plain": [
       "<class 'statsmodels.iolib.summary.Summary'>\n",
       "\"\"\"\n",
       "                 Generalized Linear Model Regression Results                  \n",
       "==============================================================================\n",
       "Dep. Variable:              Converted   No. Observations:                 6351\n",
       "Model:                            GLM   Df Residuals:                     6199\n",
       "Model Family:                Binomial   Df Model:                          151\n",
       "Link Function:                  logit   Scale:                          1.0000\n",
       "Method:                          IRLS   Log-Likelihood:                    nan\n",
       "Date:                Mon, 26 Aug 2019   Deviance:                          nan\n",
       "Time:                        23:03:42   Pearson chi2:                 2.41e+18\n",
       "No. Iterations:                   100   Covariance Type:             nonrobust\n",
       "==========================================================================================================================\n",
       "                                                             coef    std err          z      P>|z|      [0.025      0.975]\n",
       "--------------------------------------------------------------------------------------------------------------------------\n",
       "const                                                   3.624e+15    1.1e+08   3.31e+07      0.000    3.62e+15    3.62e+15\n",
       "Do Not Email                                           -4.571e+14   4.49e+06  -1.02e+08      0.000   -4.57e+14   -4.57e+14\n",
       "Do Not Call                                             4.294e+15   4.78e+07   8.98e+07      0.000    4.29e+15    4.29e+15\n",
       "TotalVisits                                             1.815e+13      1e+06   1.81e+07      0.000    1.81e+13    1.81e+13\n",
       "Total Time Spent on Website                             3.799e+14   1.04e+06   3.65e+08      0.000     3.8e+14     3.8e+14\n",
       "Page Views Per Visit                                   -2.023e+13   1.27e+06  -1.59e+07      0.000   -2.02e+13   -2.02e+13\n",
       "A free copy of Mastering The Interview                 -4.018e+13   2.72e+06  -1.48e+07      0.000   -4.02e+13   -4.02e+13\n",
       "Lead Origin_Landing Page Submission                    -2.021e+14   3.42e+06  -5.91e+07      0.000   -2.02e+14   -2.02e+14\n",
       "Lead Origin_Lead Add Form                              -5.811e+14   4.77e+07  -1.22e+07      0.000   -5.81e+14   -5.81e+14\n",
       "Lead Origin_Lead Import                                  1.95e+15   7.28e+07   2.68e+07      0.000    1.95e+15    1.95e+15\n",
       "Lead Source_Direct Traffic                             -1.204e+15   6.28e+07  -1.92e+07      0.000    -1.2e+15    -1.2e+15\n",
       "Lead Source_Facebook                                   -3.047e+15   9.51e+07   -3.2e+07      0.000   -3.05e+15   -3.05e+15\n",
       "Lead Source_Google                                     -1.102e+15   6.28e+07  -1.76e+07      0.000    -1.1e+15    -1.1e+15\n",
       "Lead Source_Live Chat                                  -7.809e+14   6.26e+07  -1.25e+07      0.000   -7.81e+14   -7.81e+14\n",
       "Lead Source_NC_EDM                                      3.217e+15   9.19e+07    3.5e+07      0.000    3.22e+15    3.22e+15\n",
       "Lead Source_Olark Chat                                 -7.689e+14   6.27e+07  -1.23e+07      0.000   -7.69e+14   -7.69e+14\n",
       "Lead Source_Organic Search                             -1.147e+15   6.28e+07  -1.83e+07      0.000   -1.15e+15   -1.15e+15\n",
       "Lead Source_Pay per Click Ads                          -3.299e+15   9.21e+07  -3.58e+07      0.000    -3.3e+15    -3.3e+15\n",
       "Lead Source_Press_Release                              -4.394e+15   9.26e+07  -4.75e+07      0.000   -4.39e+15   -4.39e+15\n",
       "Lead Source_Reference                                  -5.295e+14   4.08e+07   -1.3e+07      0.000    -5.3e+14    -5.3e+14\n",
       "Lead Source_Referral Sites                             -1.158e+15   6.32e+07  -1.83e+07      0.000   -1.16e+15   -1.16e+15\n",
       "Lead Source_Social Media                               -2.607e+14   7.89e+07  -3.31e+06      0.000   -2.61e+14   -2.61e+14\n",
       "Lead Source_WeLearn                                       25.2666   1.69e-06   1.49e+07      0.000      25.267      25.267\n",
       "Lead Source_Welingak Website                            8.459e+14   4.13e+07   2.05e+07      0.000    8.46e+14    8.46e+14\n",
       "Lead Source_bing                                       -3.127e+14   7.39e+07  -4.23e+06      0.000   -3.13e+14   -3.13e+14\n",
       "Lead Source_blog                                       -6.255e+15    9.2e+07   -6.8e+07      0.000   -6.25e+15   -6.25e+15\n",
       "Lead Source_google                                     -5.308e+15   7.15e+07  -7.42e+07      0.000   -5.31e+15   -5.31e+15\n",
       "Lead Source_testone                                    -5.306e+15   9.22e+07  -5.75e+07      0.000   -5.31e+15   -5.31e+15\n",
       "Lead Source_welearnblog_Home                           -5.319e+15   9.21e+07  -5.78e+07      0.000   -5.32e+15   -5.32e+15\n",
       "Lead Source_youtubechannel                             -3.132e+15   1.01e+08  -3.11e+07      0.000   -3.13e+15   -3.13e+15\n",
       "Last Activity_Converted to Lead                         -3.06e+15   3.43e+07  -8.93e+07      0.000   -3.06e+15   -3.06e+15\n",
       "Last Activity_Email Bounced                            -2.925e+15   3.47e+07  -8.44e+07      0.000   -2.92e+15   -2.92e+15\n",
       "Last Activity_Email Link Clicked                       -2.373e+15    3.5e+07  -6.78e+07      0.000   -2.37e+15   -2.37e+15\n",
       "Last Activity_Email Marked Spam                        -1.019e+15   4.16e+07  -2.45e+07      0.000   -1.02e+15   -1.02e+15\n",
       "Last Activity_Email Opened                             -2.924e+15   3.41e+07  -8.58e+07      0.000   -2.92e+15   -2.92e+15\n",
       "Last Activity_Email Received                            1.037e+15   7.54e+07   1.38e+07      0.000    1.04e+15    1.04e+15\n",
       "Last Activity_Form Submitted on Website                -3.214e+15    3.5e+07  -9.19e+07      0.000   -3.21e+15   -3.21e+15\n",
       "Last Activity_Had a Phone Conversation                 -1.654e+15   4.54e+07  -3.65e+07      0.000   -1.65e+15   -1.65e+15\n",
       "Last Activity_Olark Chat Conversation                    -3.3e+15   3.41e+07  -9.67e+07      0.000    -3.3e+15    -3.3e+15\n",
       "Last Activity_Page Visited on Website                  -2.896e+15   3.43e+07  -8.44e+07      0.000    -2.9e+15    -2.9e+15\n",
       "Last Activity_Resubscribed to emails                   -2.949e+14   4.89e+07  -6.03e+06      0.000   -2.95e+14   -2.95e+14\n",
       "Last Activity_SMS Sent                                 -2.622e+15   3.42e+07  -7.67e+07      0.000   -2.62e+15   -2.62e+15\n",
       "Last Activity_Unreachable                              -2.986e+15   3.55e+07   -8.4e+07      0.000   -2.99e+15   -2.99e+15\n",
       "Last Activity_Unsubscribed                             -2.718e+15   3.97e+07  -6.84e+07      0.000   -2.72e+15   -2.72e+15\n",
       "Last Activity_View in browser link Clicked             -2.441e+15   4.55e+07  -5.37e+07      0.000   -2.44e+15   -2.44e+15\n",
       "Last Activity_Visited Booth in Tradeshow               -2.346e+15   7.64e+07  -3.07e+07      0.000   -2.35e+15   -2.35e+15\n",
       "Specialization_Business Administration                 -1.305e+14   6.16e+06  -2.12e+07      0.000    -1.3e+14    -1.3e+14\n",
       "Specialization_E-Business                              -2.032e+14   1.15e+07  -1.77e+07      0.000   -2.03e+14   -2.03e+14\n",
       "Specialization_E-COMMERCE                              -1.311e+13   9.01e+06  -1.45e+06      0.000   -1.31e+13   -1.31e+13\n",
       "Specialization_Finance Management                      -2.823e+14   5.17e+06  -5.46e+07      0.000   -2.82e+14   -2.82e+14\n",
       "Specialization_Healthcare Management                   -1.445e+14   7.86e+06  -1.84e+07      0.000   -1.44e+14   -1.44e+14\n",
       "Specialization_Hospitality Management                  -2.148e+14   8.86e+06  -2.43e+07      0.000   -2.15e+14   -2.15e+14\n",
       "Specialization_Human Resource Management               -2.348e+14   5.25e+06  -4.48e+07      0.000   -2.35e+14   -2.35e+14\n",
       "Specialization_IT Projects Management                  -1.218e+14   6.16e+06  -1.98e+07      0.000   -1.22e+14   -1.22e+14\n",
       "Specialization_International Business                  -4.192e+14   7.53e+06  -5.57e+07      0.000   -4.19e+14   -4.19e+14\n",
       "Specialization_Marketing Management                     4.166e+12   5.27e+06    7.9e+05      0.000    4.17e+12    4.17e+12\n",
       "Specialization_Media and Advertising                   -2.673e+14   7.28e+06  -3.67e+07      0.000   -2.67e+14   -2.67e+14\n",
       "Specialization_Operations Management                   -1.047e+14   5.76e+06  -1.82e+07      0.000   -1.05e+14   -1.05e+14\n",
       "Specialization_Retail Management                       -1.778e+14   8.96e+06  -1.98e+07      0.000   -1.78e+14   -1.78e+14\n",
       "Specialization_Rural and Agribusiness                   -3.11e+14   1.02e+07  -3.06e+07      0.000   -3.11e+14   -3.11e+14\n",
       "Specialization_Services Excellence                     -2.546e+14   1.46e+07  -1.75e+07      0.000   -2.55e+14   -2.55e+14\n",
       "Specialization_Supply Chain Management                 -3.529e+14   6.29e+06  -5.61e+07      0.000   -3.53e+14   -3.53e+14\n",
       "Specialization_Travel and Tourism                      -4.484e+14   7.39e+06  -6.07e+07      0.000   -4.48e+14   -4.48e+14\n",
       "Specialization_Unknown                                 -3.066e+14   5.45e+06  -5.63e+07      0.000   -3.07e+14   -3.07e+14\n",
       "What is your current occupation_Housewife               3.625e+15   3.78e+07    9.6e+07      0.000    3.63e+15    3.63e+15\n",
       "What is your current occupation_Other                  -2.136e+14    3.5e+07  -6.11e+06      0.000   -2.14e+14   -2.14e+14\n",
       "What is your current occupation_Student                 -9.18e+13   2.84e+07  -3.24e+06      0.000   -9.18e+13   -9.18e+13\n",
       "What is your current occupation_Unemployed             -1.068e+14   2.77e+07  -3.86e+06      0.000   -1.07e+14   -1.07e+14\n",
       "What is your current occupation_Uneployed               2.303e+14   2.78e+07   8.29e+06      0.000     2.3e+14     2.3e+14\n",
       "What is your current occupation_Working Professional    -6.87e+13   2.79e+07  -2.47e+06      0.000   -6.87e+13   -6.87e+13\n",
       "Tags_Busy                                              -7.793e+14   8.16e+06  -9.55e+07      0.000   -7.79e+14   -7.79e+14\n",
       "Tags_Closed by Horizzon                                 1.747e+15   7.55e+06   2.31e+08      0.000    1.75e+15    1.75e+15\n",
       "Tags_Diploma holder (Not Eligible)                       -7.7e+13      1e+07  -7.67e+06      0.000    -7.7e+13    -7.7e+13\n",
       "Tags_Graduation in progress                             7.172e+14   9.03e+06   7.94e+07      0.000    7.17e+14    7.17e+14\n",
       "Tags_In confusion whether part time or DLP              4.933e+14   3.41e+07   1.45e+07      0.000    4.93e+14    4.93e+14\n",
       "Tags_Interested  in full time MBA                       1.537e+14    8.5e+06   1.81e+07      0.000    1.54e+14    1.54e+14\n",
       "Tags_Interested in Next batch                           4.302e+15   3.42e+07   1.26e+08      0.000     4.3e+15     4.3e+15\n",
       "Tags_Interested in other courses                        1.847e+14   5.76e+06   3.21e+07      0.000    1.85e+14    1.85e+14\n",
       "Tags_Lateral student                                     5.17e+15   4.79e+07   1.08e+08      0.000    5.17e+15    5.17e+15\n",
       "Tags_Lost to EINS                                       2.072e+15   8.07e+06   2.57e+08      0.000    2.07e+15    2.07e+15\n",
       "Tags_Lost to Others                                     -3.43e+15   2.64e+07   -1.3e+08      0.000   -3.43e+15   -3.43e+15\n",
       "Tags_Not doing further education                        3.744e+14    8.2e+06   4.57e+07      0.000    3.74e+14    3.74e+14\n",
       "Tags_Recognition issue (DEC approval)                    -3.9e+15   6.91e+07  -5.64e+07      0.000    -3.9e+15    -3.9e+15\n",
       "Tags_Ringing                                            -6.86e+14    5.5e+06  -1.25e+08      0.000   -6.86e+14   -6.86e+14\n",
       "Tags_Shall take in the next coming month                -4.22e+15   6.74e+07  -6.26e+07      0.000   -4.22e+15   -4.22e+15\n",
       "Tags_Still Thinking                                     4.706e+14   3.42e+07   1.38e+07      0.000    4.71e+14    4.71e+14\n",
       "Tags_University not recognized                         -3.122e+15    4.8e+07   -6.5e+07      0.000   -3.12e+15   -3.12e+15\n",
       "Tags_Unknown                                            2.192e+14   5.89e+06   3.72e+07      0.000    2.19e+14    2.19e+14\n",
       "Tags_Want to take admission but has financial problems  6.933e+14   3.56e+07   1.95e+07      0.000    6.93e+14    6.93e+14\n",
       "Tags_Will revert after reading the email                1.437e+15   5.94e+06   2.42e+08      0.000    1.44e+15    1.44e+15\n",
       "Tags_in touch with EINS                                 7.383e+14   2.43e+07   3.04e+07      0.000    7.38e+14    7.38e+14\n",
       "Tags_invalid number                                    -3.546e+15   1.02e+07  -3.48e+08      0.000   -3.55e+15   -3.55e+15\n",
       "Tags_number not provided                               -3.116e+15   1.66e+07  -1.88e+08      0.000   -3.12e+15   -3.12e+15\n",
       "Tags_opp hangup                                         1.495e+14   1.41e+07   1.06e+07      0.000     1.5e+14     1.5e+14\n",
       "Tags_switched off                                      -6.363e+14   7.39e+06  -8.61e+07      0.000   -6.36e+14   -6.36e+14\n",
       "Tags_wrong number given                                -3.719e+15   1.32e+07  -2.82e+08      0.000   -3.72e+15   -3.72e+15\n",
       "Lead Quality_Low in Relevance                           -9.11e+13   5.08e+06  -1.79e+07      0.000   -9.11e+13   -9.11e+13\n",
       "Lead Quality_Might be                                  -1.518e+14    4.3e+06  -3.53e+07      0.000   -1.52e+14   -1.52e+14\n",
       "Lead Quality_Not Sure                                   2.176e+14   5.18e+06    4.2e+07      0.000    2.18e+14    2.18e+14\n",
       "Lead Quality_Unknown                                   -1.168e+14   4.98e+06  -2.35e+07      0.000   -1.17e+14   -1.17e+14\n",
       "Lead Quality_Worst                                     -3.581e+14   6.36e+06  -5.63e+07      0.000   -3.58e+14   -3.58e+14\n",
       "City_Other Cities                                      -2.422e+13   3.52e+06  -6.89e+06      0.000   -2.42e+13   -2.42e+13\n",
       "City_Other Cities of Maharashtra                        2.331e+12   4.16e+06   5.61e+05      0.000    2.33e+12    2.33e+12\n",
       "City_Other Metro Cities                                 3.191e+13   4.44e+06   7.19e+06      0.000    3.19e+13    3.19e+13\n",
       "City_Thane & Outskirts                                 -6.635e+13   3.33e+06  -1.99e+07      0.000   -6.64e+13   -6.64e+13\n",
       "City_Tier II Cities                                     6.187e+13   9.68e+06   6.39e+06      0.000    6.19e+13    6.19e+13\n",
       "Last Notable Activity_Email Bounced                    -1.267e+15   7.94e+07   -1.6e+07      0.000   -1.27e+15   -1.27e+15\n",
       "Last Notable Activity_Email Link Clicked               -2.057e+15   7.92e+07   -2.6e+07      0.000   -2.06e+15   -2.06e+15\n",
       "Last Notable Activity_Email Marked Spam                -1.019e+15   4.16e+07  -2.45e+07      0.000   -1.02e+15   -1.02e+15\n",
       "Last Notable Activity_Email Opened                      -1.07e+15   7.85e+07  -1.36e+07      0.000   -1.07e+15   -1.07e+15\n",
       "Last Notable Activity_Email Received                   -1.194e+15   1.23e+08  -9.68e+06      0.000   -1.19e+15   -1.19e+15\n",
       "Last Notable Activity_Form Submitted on Website        -4.627e+15   1.04e+08  -4.46e+07      0.000   -4.63e+15   -4.63e+15\n",
       "Last Notable Activity_Had a Phone Conversation          -2.53e+15   8.63e+07  -2.93e+07      0.000   -2.53e+15   -2.53e+15\n",
       "Last Notable Activity_Modified                         -1.496e+15   7.85e+07  -1.91e+07      0.000    -1.5e+15    -1.5e+15\n",
       "Last Notable Activity_Olark Chat Conversation          -1.575e+15   7.88e+07     -2e+07      0.000   -1.58e+15   -1.58e+15\n",
       "Last Notable Activity_Page Visited on Website          -1.324e+15   7.88e+07  -1.68e+07      0.000   -1.32e+15   -1.32e+15\n",
       "Last Notable Activity_Resubscribed to emails           -2.949e+14   4.89e+07  -6.03e+06      0.000   -2.95e+14   -2.95e+14\n",
       "Last Notable Activity_SMS Sent                         -5.046e+14   7.86e+07  -6.42e+06      0.000   -5.05e+14   -5.05e+14\n",
       "Last Notable Activity_Unreachable                      -1.191e+15   8.03e+07  -1.48e+07      0.000   -1.19e+15   -1.19e+15\n",
       "Last Notable Activity_Unsubscribed                     -7.904e+14   8.22e+07  -9.61e+06      0.000    -7.9e+14    -7.9e+14\n",
       "Last Notable Activity_View in browser link Clicked      -4.97e+15   1.08e+08  -4.61e+07      0.000   -4.97e+15   -4.97e+15\n",
       "Country_Australia                                       1.166e+15    5.4e+07   2.16e+07      0.000    1.17e+15    1.17e+15\n",
       "Country_Bahrain                                         1.109e+15   5.84e+07    1.9e+07      0.000    1.11e+15    1.11e+15\n",
       "Country_Bangladesh                                      1.212e+14   6.74e+07    1.8e+06      0.000    1.21e+14    1.21e+14\n",
       "Country_Belgium                                        -2.707e+15   8.24e+07  -3.28e+07      0.000   -2.71e+15   -2.71e+15\n",
       "Country_Canada                                          -1.57e+15   6.15e+07  -2.55e+07      0.000   -1.57e+15   -1.57e+15\n",
       "Country_China                                           9.062e+13   6.73e+07   1.35e+06      0.000    9.06e+13    9.06e+13\n",
       "Country_Denmark                                         3.552e+15   8.25e+07    4.3e+07      0.000    3.55e+15    3.55e+15\n",
       "Country_France                                          1.655e+15    5.5e+07   3.01e+07      0.000    1.65e+15    1.65e+15\n",
       "Country_Germany                                         7.348e+14   6.16e+07   1.19e+07      0.000    7.35e+14    7.35e+14\n",
       "Country_Ghana                                          -6.884e+13   6.73e+07  -1.02e+06      0.000   -6.88e+13   -6.88e+13\n",
       "Country_Hong Kong                                       4.372e+13   5.64e+07   7.75e+05      0.000    4.37e+13    4.37e+13\n",
       "Country_India                                           1.246e+15   4.76e+07   2.62e+07      0.000    1.25e+15    1.25e+15\n",
       "Country_Indonesia                                       4.293e+14   8.32e+07   5.16e+06      0.000    4.29e+14    4.29e+14\n",
       "Country_Italy                                          -2.498e+15   6.77e+07  -3.69e+07      0.000    -2.5e+15    -2.5e+15\n",
       "Country_Kenya                                             -3.2175   2.99e-08  -1.08e+08      0.000      -3.217      -3.217\n",
       "Country_Kuwait                                          2.113e+14   6.75e+07   3.13e+06      0.000    2.11e+14    2.11e+14\n",
       "Country_Liberia                                        -2.272e+15   8.26e+07  -2.75e+07      0.000   -2.27e+15   -2.27e+15\n",
       "Country_Malaysia                                       -8.874e+14   8.29e+07  -1.07e+07      0.000   -8.87e+14   -8.87e+14\n",
       "Country_Netherlands                                     4.405e+14   6.73e+07   6.54e+06      0.000    4.41e+14    4.41e+14\n",
       "Country_Nigeria                                        -2.459e+15   6.75e+07  -3.64e+07      0.000   -2.46e+15   -2.46e+15\n",
       "Country_Oman                                            1.738e+15   5.63e+07   3.09e+07      0.000    1.74e+15    1.74e+15\n",
       "Country_Philippines                                       -0.4699   3.31e-08  -1.42e+07      0.000      -0.470      -0.470\n",
       "Country_Qatar                                          -6.122e+14   6.15e+07  -9.96e+06      0.000   -6.12e+14   -6.12e+14\n",
       "Country_Russia                                         -2.133e+15   8.31e+07  -2.57e+07      0.000   -2.13e+15   -2.13e+15\n",
       "Country_Saudi Arabia                                    6.283e+14   5.24e+07    1.2e+07      0.000    6.28e+14    6.28e+14\n",
       "Country_Singapore                                       1.634e+15   5.07e+07   3.23e+07      0.000    1.63e+15    1.63e+15\n",
       "Country_South Africa                                    1.993e+15   6.74e+07   2.96e+07      0.000    1.99e+15    1.99e+15\n",
       "Country_Sri Lanka                                      -1.868e+15   8.27e+07  -2.26e+07      0.000   -1.87e+15   -1.87e+15\n",
       "Country_Sweden                                          1.624e+15   6.14e+07   2.65e+07      0.000    1.62e+15    1.62e+15\n",
       "Country_Switzerland                                    -2.824e+15   8.24e+07  -3.43e+07      0.000   -2.82e+15   -2.82e+15\n",
       "Country_Tanzania                                           0.1047   1.77e-08    5.9e+06      0.000       0.105       0.105\n",
       "Country_Uganda                                         -1.566e+15   8.26e+07   -1.9e+07      0.000   -1.57e+15   -1.57e+15\n",
       "Country_United Arab Emirates                            1.303e+15   4.89e+07   2.66e+07      0.000     1.3e+15     1.3e+15\n",
       "Country_United Kingdom                                  1.526e+15   5.15e+07   2.96e+07      0.000    1.53e+15    1.53e+15\n",
       "Country_United States                                    1.57e+15   4.86e+07   3.23e+07      0.000    1.57e+15    1.57e+15\n",
       "Country_Vietnam                                          6.68e+14    8.3e+07   8.05e+06      0.000    6.68e+14    6.68e+14\n",
       "Country_unknown                                         2.357e+14   5.83e+07   4.04e+06      0.000    2.36e+14    2.36e+14\n",
       "==========================================================================================================================\n",
       "\"\"\""
      ]
     },
     "execution_count": 55,
     "metadata": {},
     "output_type": "execute_result"
    }
   ],
   "source": [
    "#First model\n",
    "logm1 = sm.GLM(y_train,(sm.add_constant(X_train)), family = sm.families.Binomial())\n",
    "logm1.fit().summary()"
   ]
  },
  {
   "cell_type": "markdown",
   "metadata": {},
   "source": [
    "#### RFE"
   ]
  },
  {
   "cell_type": "code",
   "execution_count": 56,
   "metadata": {},
   "outputs": [],
   "source": [
    "#Let's take help of RFE to select top 15 features\n",
    "logreg = LogisticRegression()\n",
    "rfe = RFE(logreg, 15)\n",
    "rfe = rfe.fit(X_train, y_train)"
   ]
  },
  {
   "cell_type": "code",
   "execution_count": 57,
   "metadata": {},
   "outputs": [
    {
     "data": {
      "text/plain": [
       "[('Do Not Email', True, 1),\n",
       " ('Do Not Call', False, 89),\n",
       " ('TotalVisits', False, 87),\n",
       " ('Total Time Spent on Website', False, 6),\n",
       " ('Page Views Per Visit', False, 100),\n",
       " ('A free copy of Mastering The Interview', False, 57),\n",
       " ('Lead Origin_Landing Page Submission', False, 35),\n",
       " ('Lead Origin_Lead Add Form', False, 15),\n",
       " ('Lead Origin_Lead Import', False, 119),\n",
       " ('Lead Source_Direct Traffic', False, 8),\n",
       " ('Lead Source_Facebook', False, 36),\n",
       " ('Lead Source_Google', False, 10),\n",
       " ('Lead Source_Live Chat', False, 132),\n",
       " ('Lead Source_NC_EDM', False, 34),\n",
       " ('Lead Source_Olark Chat', False, 45),\n",
       " ('Lead Source_Organic Search', False, 9),\n",
       " ('Lead Source_Pay per Click Ads', False, 136),\n",
       " ('Lead Source_Press_Release', False, 124),\n",
       " ('Lead Source_Reference', False, 102),\n",
       " ('Lead Source_Referral Sites', False, 23),\n",
       " ('Lead Source_Social Media', False, 103),\n",
       " ('Lead Source_WeLearn', False, 143),\n",
       " ('Lead Source_Welingak Website', True, 1),\n",
       " ('Lead Source_bing', False, 127),\n",
       " ('Lead Source_blog', False, 73),\n",
       " ('Lead Source_google', False, 50),\n",
       " ('Lead Source_testone', False, 134),\n",
       " ('Lead Source_welearnblog_Home', False, 82),\n",
       " ('Lead Source_youtubechannel', False, 101),\n",
       " ('Last Activity_Converted to Lead', False, 33),\n",
       " ('Last Activity_Email Bounced', False, 65),\n",
       " ('Last Activity_Email Link Clicked', False, 107),\n",
       " ('Last Activity_Email Marked Spam', False, 93),\n",
       " ('Last Activity_Email Opened', False, 75),\n",
       " ('Last Activity_Email Received', False, 123),\n",
       " ('Last Activity_Form Submitted on Website', False, 46),\n",
       " ('Last Activity_Had a Phone Conversation', False, 42),\n",
       " ('Last Activity_Olark Chat Conversation', False, 20),\n",
       " ('Last Activity_Page Visited on Website', False, 68),\n",
       " ('Last Activity_Resubscribed to emails', False, 81),\n",
       " ('Last Activity_SMS Sent', True, 1),\n",
       " ('Last Activity_Unreachable', False, 80),\n",
       " ('Last Activity_Unsubscribed', False, 24),\n",
       " ('Last Activity_View in browser link Clicked', False, 106),\n",
       " ('Last Activity_Visited Booth in Tradeshow', False, 137),\n",
       " ('Specialization_Business Administration', False, 120),\n",
       " ('Specialization_E-Business', False, 60),\n",
       " ('Specialization_E-COMMERCE', False, 79),\n",
       " ('Specialization_Finance Management', False, 49),\n",
       " ('Specialization_Healthcare Management', False, 128),\n",
       " ('Specialization_Hospitality Management', False, 61),\n",
       " ('Specialization_Human Resource Management', False, 63),\n",
       " ('Specialization_IT Projects Management', False, 78),\n",
       " ('Specialization_International Business', False, 41),\n",
       " ('Specialization_Marketing Management', False, 77),\n",
       " ('Specialization_Media and Advertising', False, 47),\n",
       " ('Specialization_Operations Management', False, 126),\n",
       " ('Specialization_Retail Management', False, 62),\n",
       " ('Specialization_Rural and Agribusiness', False, 86),\n",
       " ('Specialization_Services Excellence', False, 108),\n",
       " ('Specialization_Supply Chain Management', False, 27),\n",
       " ('Specialization_Travel and Tourism', False, 19),\n",
       " ('Specialization_Unknown', False, 48),\n",
       " ('What is your current occupation_Housewife', False, 59),\n",
       " ('What is your current occupation_Other', False, 98),\n",
       " ('What is your current occupation_Student', False, 113),\n",
       " ('What is your current occupation_Unemployed', False, 56),\n",
       " ('What is your current occupation_Uneployed', True, 1),\n",
       " ('What is your current occupation_Working Professional', False, 32),\n",
       " ('Tags_Busy', True, 1),\n",
       " ('Tags_Closed by Horizzon', True, 1),\n",
       " ('Tags_Diploma holder (Not Eligible)', False, 14),\n",
       " ('Tags_Graduation in progress', False, 99),\n",
       " ('Tags_In confusion whether part time or DLP', False, 117),\n",
       " ('Tags_Interested  in full time MBA', False, 22),\n",
       " ('Tags_Interested in Next batch', False, 2),\n",
       " ('Tags_Interested in other courses', False, 13),\n",
       " ('Tags_Lateral student', False, 5),\n",
       " ('Tags_Lost to EINS', True, 1),\n",
       " ('Tags_Lost to Others', False, 38),\n",
       " ('Tags_Not doing further education', False, 21),\n",
       " ('Tags_Recognition issue (DEC approval)', False, 70),\n",
       " ('Tags_Ringing', True, 1),\n",
       " ('Tags_Shall take in the next coming month', False, 51),\n",
       " ('Tags_Still Thinking', False, 76),\n",
       " ('Tags_University not recognized', False, 83),\n",
       " ('Tags_Unknown', True, 1),\n",
       " ('Tags_Want to take admission but has financial problems', False, 104),\n",
       " ('Tags_Will revert after reading the email', True, 1),\n",
       " ('Tags_in touch with EINS', False, 43),\n",
       " ('Tags_invalid number', True, 1),\n",
       " ('Tags_number not provided', False, 3),\n",
       " ('Tags_opp hangup', False, 28),\n",
       " ('Tags_switched off', True, 1),\n",
       " ('Tags_wrong number given', True, 1),\n",
       " ('Lead Quality_Low in Relevance', False, 91),\n",
       " ('Lead Quality_Might be', False, 29),\n",
       " ('Lead Quality_Not Sure', False, 44),\n",
       " ('Lead Quality_Unknown', False, 30),\n",
       " ('Lead Quality_Worst', True, 1),\n",
       " ('City_Other Cities', False, 74),\n",
       " ('City_Other Cities of Maharashtra', False, 130),\n",
       " ('City_Other Metro Cities', False, 111),\n",
       " ('City_Thane & Outskirts', False, 58),\n",
       " ('City_Tier II Cities', False, 84),\n",
       " ('Last Notable Activity_Email Bounced', False, 66),\n",
       " ('Last Notable Activity_Email Link Clicked', False, 18),\n",
       " ('Last Notable Activity_Email Marked Spam', False, 90),\n",
       " ('Last Notable Activity_Email Opened', False, 112),\n",
       " ('Last Notable Activity_Email Received', False, 131),\n",
       " ('Last Notable Activity_Form Submitted on Website', False, 121),\n",
       " ('Last Notable Activity_Had a Phone Conversation', False, 69),\n",
       " ('Last Notable Activity_Modified', True, 1),\n",
       " ('Last Notable Activity_Olark Chat Conversation', False, 4),\n",
       " ('Last Notable Activity_Page Visited on Website', False, 85),\n",
       " ('Last Notable Activity_Resubscribed to emails', False, 88),\n",
       " ('Last Notable Activity_SMS Sent', False, 12),\n",
       " ('Last Notable Activity_Unreachable', False, 26),\n",
       " ('Last Notable Activity_Unsubscribed', False, 40),\n",
       " ('Last Notable Activity_View in browser link Clicked', False, 105),\n",
       " ('Country_Australia', False, 92),\n",
       " ('Country_Bahrain', False, 118),\n",
       " ('Country_Bangladesh', False, 52),\n",
       " ('Country_Belgium', False, 122),\n",
       " ('Country_Canada', False, 54),\n",
       " ('Country_China', False, 115),\n",
       " ('Country_Denmark', False, 139),\n",
       " ('Country_France', False, 53),\n",
       " ('Country_Germany', False, 11),\n",
       " ('Country_Ghana', False, 96),\n",
       " ('Country_Hong Kong', False, 94),\n",
       " ('Country_India', False, 55),\n",
       " ('Country_Indonesia', False, 109),\n",
       " ('Country_Italy', False, 17),\n",
       " ('Country_Kenya', False, 140),\n",
       " ('Country_Kuwait', False, 97),\n",
       " ('Country_Liberia', False, 129),\n",
       " ('Country_Malaysia', False, 138),\n",
       " ('Country_Netherlands', False, 71),\n",
       " ('Country_Nigeria', False, 95),\n",
       " ('Country_Oman', False, 72),\n",
       " ('Country_Philippines', False, 142),\n",
       " ('Country_Qatar', False, 116),\n",
       " ('Country_Russia', False, 64),\n",
       " ('Country_Saudi Arabia', False, 7),\n",
       " ('Country_Singapore', False, 39),\n",
       " ('Country_South Africa', False, 16),\n",
       " ('Country_Sri Lanka', False, 133),\n",
       " ('Country_Sweden', False, 125),\n",
       " ('Country_Switzerland', False, 110),\n",
       " ('Country_Tanzania', False, 141),\n",
       " ('Country_Uganda', False, 135),\n",
       " ('Country_United Arab Emirates', False, 31),\n",
       " ('Country_United Kingdom', False, 37),\n",
       " ('Country_United States', False, 25),\n",
       " ('Country_Vietnam', False, 114),\n",
       " ('Country_unknown', False, 67)]"
      ]
     },
     "execution_count": 57,
     "metadata": {},
     "output_type": "execute_result"
    }
   ],
   "source": [
    "list(zip(X_train.columns, rfe.support_, rfe.ranking_))"
   ]
  },
  {
   "cell_type": "code",
   "execution_count": 58,
   "metadata": {},
   "outputs": [],
   "source": [
    "rfe_col = X_train.columns[rfe.support_] #list of top 15 columns"
   ]
  },
  {
   "cell_type": "code",
   "execution_count": 59,
   "metadata": {},
   "outputs": [
    {
     "data": {
      "text/html": [
       "<table class=\"simpletable\">\n",
       "<caption>Generalized Linear Model Regression Results</caption>\n",
       "<tr>\n",
       "  <th>Dep. Variable:</th>      <td>Converted</td>    <th>  No. Observations:  </th>  <td>  6351</td>  \n",
       "</tr>\n",
       "<tr>\n",
       "  <th>Model:</th>                 <td>GLM</td>       <th>  Df Residuals:      </th>  <td>  6335</td>  \n",
       "</tr>\n",
       "<tr>\n",
       "  <th>Model Family:</th>       <td>Binomial</td>     <th>  Df Model:          </th>  <td>    15</td>  \n",
       "</tr>\n",
       "<tr>\n",
       "  <th>Link Function:</th>        <td>logit</td>      <th>  Scale:             </th> <td>  1.0000</td> \n",
       "</tr>\n",
       "<tr>\n",
       "  <th>Method:</th>               <td>IRLS</td>       <th>  Log-Likelihood:    </th> <td> -1182.8</td> \n",
       "</tr>\n",
       "<tr>\n",
       "  <th>Date:</th>           <td>Mon, 26 Aug 2019</td> <th>  Deviance:          </th> <td>  2365.6</td> \n",
       "</tr>\n",
       "<tr>\n",
       "  <th>Time:</th>               <td>23:03:47</td>     <th>  Pearson chi2:      </th> <td>1.36e+04</td> \n",
       "</tr>\n",
       "<tr>\n",
       "  <th>No. Iterations:</th>        <td>23</td>        <th>  Covariance Type:   </th> <td>nonrobust</td>\n",
       "</tr>\n",
       "</table>\n",
       "<table class=\"simpletable\">\n",
       "<tr>\n",
       "                      <td></td>                         <th>coef</th>     <th>std err</th>      <th>z</th>      <th>P>|z|</th>  <th>[0.025</th>    <th>0.975]</th>  \n",
       "</tr>\n",
       "<tr>\n",
       "  <th>const</th>                                     <td>   -2.6791</td> <td>    0.194</td> <td>  -13.810</td> <td> 0.000</td> <td>   -3.059</td> <td>   -2.299</td>\n",
       "</tr>\n",
       "<tr>\n",
       "  <th>Do Not Email</th>                              <td>   -1.4639</td> <td>    0.258</td> <td>   -5.678</td> <td> 0.000</td> <td>   -1.969</td> <td>   -0.959</td>\n",
       "</tr>\n",
       "<tr>\n",
       "  <th>Lead Source_Welingak Website</th>              <td>    2.6262</td> <td>    0.744</td> <td>    3.529</td> <td> 0.000</td> <td>    1.168</td> <td>    4.085</td>\n",
       "</tr>\n",
       "<tr>\n",
       "  <th>Last Activity_SMS Sent</th>                    <td>    2.3401</td> <td>    0.125</td> <td>   18.718</td> <td> 0.000</td> <td>    2.095</td> <td>    2.585</td>\n",
       "</tr>\n",
       "<tr>\n",
       "  <th>What is your current occupation_Uneployed</th> <td>   -2.6122</td> <td>    0.150</td> <td>  -17.400</td> <td> 0.000</td> <td>   -2.906</td> <td>   -2.318</td>\n",
       "</tr>\n",
       "<tr>\n",
       "  <th>Tags_Busy</th>                                 <td>    1.7094</td> <td>    0.290</td> <td>    5.891</td> <td> 0.000</td> <td>    1.141</td> <td>    2.278</td>\n",
       "</tr>\n",
       "<tr>\n",
       "  <th>Tags_Closed by Horizzon</th>                   <td>    8.3470</td> <td>    0.741</td> <td>   11.270</td> <td> 0.000</td> <td>    6.895</td> <td>    9.799</td>\n",
       "</tr>\n",
       "<tr>\n",
       "  <th>Tags_Lost to EINS</th>                         <td>    9.3755</td> <td>    0.789</td> <td>   11.876</td> <td> 0.000</td> <td>    7.828</td> <td>   10.923</td>\n",
       "</tr>\n",
       "<tr>\n",
       "  <th>Tags_Ringing</th>                              <td>   -2.2879</td> <td>    0.305</td> <td>   -7.497</td> <td> 0.000</td> <td>   -2.886</td> <td>   -1.690</td>\n",
       "</tr>\n",
       "<tr>\n",
       "  <th>Tags_Unknown</th>                              <td>    3.1811</td> <td>    0.223</td> <td>   14.278</td> <td> 0.000</td> <td>    2.744</td> <td>    3.618</td>\n",
       "</tr>\n",
       "<tr>\n",
       "  <th>Tags_Will revert after reading the email</th>  <td>    6.2460</td> <td>    0.259</td> <td>   24.108</td> <td> 0.000</td> <td>    5.738</td> <td>    6.754</td>\n",
       "</tr>\n",
       "<tr>\n",
       "  <th>Tags_invalid number</th>                       <td>  -22.6065</td> <td> 1.48e+04</td> <td>   -0.002</td> <td> 0.999</td> <td>-2.91e+04</td> <td>  2.9e+04</td>\n",
       "</tr>\n",
       "<tr>\n",
       "  <th>Tags_switched off</th>                         <td>   -2.3106</td> <td>    0.553</td> <td>   -4.179</td> <td> 0.000</td> <td>   -3.394</td> <td>   -1.227</td>\n",
       "</tr>\n",
       "<tr>\n",
       "  <th>Tags_wrong number given</th>                   <td>  -22.5935</td> <td> 2.05e+04</td> <td>   -0.001</td> <td> 0.999</td> <td>-4.01e+04</td> <td> 4.01e+04</td>\n",
       "</tr>\n",
       "<tr>\n",
       "  <th>Lead Quality_Worst</th>                        <td>   -2.4185</td> <td>    0.827</td> <td>   -2.924</td> <td> 0.003</td> <td>   -4.040</td> <td>   -0.797</td>\n",
       "</tr>\n",
       "<tr>\n",
       "  <th>Last Notable Activity_Modified</th>            <td>   -1.5761</td> <td>    0.130</td> <td>  -12.132</td> <td> 0.000</td> <td>   -1.831</td> <td>   -1.321</td>\n",
       "</tr>\n",
       "</table>"
      ],
      "text/plain": [
       "<class 'statsmodels.iolib.summary.Summary'>\n",
       "\"\"\"\n",
       "                 Generalized Linear Model Regression Results                  \n",
       "==============================================================================\n",
       "Dep. Variable:              Converted   No. Observations:                 6351\n",
       "Model:                            GLM   Df Residuals:                     6335\n",
       "Model Family:                Binomial   Df Model:                           15\n",
       "Link Function:                  logit   Scale:                          1.0000\n",
       "Method:                          IRLS   Log-Likelihood:                -1182.8\n",
       "Date:                Mon, 26 Aug 2019   Deviance:                       2365.6\n",
       "Time:                        23:03:47   Pearson chi2:                 1.36e+04\n",
       "No. Iterations:                    23   Covariance Type:             nonrobust\n",
       "=============================================================================================================\n",
       "                                                coef    std err          z      P>|z|      [0.025      0.975]\n",
       "-------------------------------------------------------------------------------------------------------------\n",
       "const                                        -2.6791      0.194    -13.810      0.000      -3.059      -2.299\n",
       "Do Not Email                                 -1.4639      0.258     -5.678      0.000      -1.969      -0.959\n",
       "Lead Source_Welingak Website                  2.6262      0.744      3.529      0.000       1.168       4.085\n",
       "Last Activity_SMS Sent                        2.3401      0.125     18.718      0.000       2.095       2.585\n",
       "What is your current occupation_Uneployed    -2.6122      0.150    -17.400      0.000      -2.906      -2.318\n",
       "Tags_Busy                                     1.7094      0.290      5.891      0.000       1.141       2.278\n",
       "Tags_Closed by Horizzon                       8.3470      0.741     11.270      0.000       6.895       9.799\n",
       "Tags_Lost to EINS                             9.3755      0.789     11.876      0.000       7.828      10.923\n",
       "Tags_Ringing                                 -2.2879      0.305     -7.497      0.000      -2.886      -1.690\n",
       "Tags_Unknown                                  3.1811      0.223     14.278      0.000       2.744       3.618\n",
       "Tags_Will revert after reading the email      6.2460      0.259     24.108      0.000       5.738       6.754\n",
       "Tags_invalid number                         -22.6065   1.48e+04     -0.002      0.999   -2.91e+04     2.9e+04\n",
       "Tags_switched off                            -2.3106      0.553     -4.179      0.000      -3.394      -1.227\n",
       "Tags_wrong number given                     -22.5935   2.05e+04     -0.001      0.999   -4.01e+04    4.01e+04\n",
       "Lead Quality_Worst                           -2.4185      0.827     -2.924      0.003      -4.040      -0.797\n",
       "Last Notable Activity_Modified               -1.5761      0.130    -12.132      0.000      -1.831      -1.321\n",
       "=============================================================================================================\n",
       "\"\"\""
      ]
     },
     "execution_count": 59,
     "metadata": {},
     "output_type": "execute_result"
    }
   ],
   "source": [
    "#Creating the 2nd model with the RFE recommended top 15 columns\n",
    "X_train_sm = sm.add_constant(X_train[rfe_col])\n",
    "logm2 = sm.GLM(y_train,X_train_sm, family = sm.families.Binomial())\n",
    "res = logm2.fit()\n",
    "res.summary()"
   ]
  },
  {
   "cell_type": "code",
   "execution_count": 60,
   "metadata": {},
   "outputs": [
    {
     "data": {
      "text/html": [
       "<table class=\"simpletable\">\n",
       "<caption>Generalized Linear Model Regression Results</caption>\n",
       "<tr>\n",
       "  <th>Dep. Variable:</th>      <td>Converted</td>    <th>  No. Observations:  </th>  <td>  6351</td>  \n",
       "</tr>\n",
       "<tr>\n",
       "  <th>Model:</th>                 <td>GLM</td>       <th>  Df Residuals:      </th>  <td>  6336</td>  \n",
       "</tr>\n",
       "<tr>\n",
       "  <th>Model Family:</th>       <td>Binomial</td>     <th>  Df Model:          </th>  <td>    14</td>  \n",
       "</tr>\n",
       "<tr>\n",
       "  <th>Link Function:</th>        <td>logit</td>      <th>  Scale:             </th> <td>  1.0000</td> \n",
       "</tr>\n",
       "<tr>\n",
       "  <th>Method:</th>               <td>IRLS</td>       <th>  Log-Likelihood:    </th> <td> -1190.6</td> \n",
       "</tr>\n",
       "<tr>\n",
       "  <th>Date:</th>           <td>Mon, 26 Aug 2019</td> <th>  Deviance:          </th> <td>  2381.2</td> \n",
       "</tr>\n",
       "<tr>\n",
       "  <th>Time:</th>               <td>23:03:47</td>     <th>  Pearson chi2:      </th> <td>1.31e+04</td> \n",
       "</tr>\n",
       "<tr>\n",
       "  <th>No. Iterations:</th>        <td>22</td>        <th>  Covariance Type:   </th> <td>nonrobust</td>\n",
       "</tr>\n",
       "</table>\n",
       "<table class=\"simpletable\">\n",
       "<tr>\n",
       "                      <td></td>                         <th>coef</th>     <th>std err</th>      <th>z</th>      <th>P>|z|</th>  <th>[0.025</th>    <th>0.975]</th>  \n",
       "</tr>\n",
       "<tr>\n",
       "  <th>const</th>                                     <td>   -2.8856</td> <td>    0.195</td> <td>  -14.766</td> <td> 0.000</td> <td>   -3.269</td> <td>   -2.503</td>\n",
       "</tr>\n",
       "<tr>\n",
       "  <th>Do Not Email</th>                              <td>   -1.4576</td> <td>    0.257</td> <td>   -5.680</td> <td> 0.000</td> <td>   -1.961</td> <td>   -0.955</td>\n",
       "</tr>\n",
       "<tr>\n",
       "  <th>Lead Source_Welingak Website</th>              <td>    2.6287</td> <td>    0.743</td> <td>    3.536</td> <td> 0.000</td> <td>    1.172</td> <td>    4.086</td>\n",
       "</tr>\n",
       "<tr>\n",
       "  <th>Last Activity_SMS Sent</th>                    <td>    2.2918</td> <td>    0.123</td> <td>   18.569</td> <td> 0.000</td> <td>    2.050</td> <td>    2.534</td>\n",
       "</tr>\n",
       "<tr>\n",
       "  <th>What is your current occupation_Uneployed</th> <td>   -2.5982</td> <td>    0.149</td> <td>  -17.417</td> <td> 0.000</td> <td>   -2.891</td> <td>   -2.306</td>\n",
       "</tr>\n",
       "<tr>\n",
       "  <th>Tags_Busy</th>                                 <td>    1.9424</td> <td>    0.288</td> <td>    6.752</td> <td> 0.000</td> <td>    1.379</td> <td>    2.506</td>\n",
       "</tr>\n",
       "<tr>\n",
       "  <th>Tags_Closed by Horizzon</th>                   <td>    8.5287</td> <td>    0.742</td> <td>   11.500</td> <td> 0.000</td> <td>    7.075</td> <td>    9.982</td>\n",
       "</tr>\n",
       "<tr>\n",
       "  <th>Tags_Lost to EINS</th>                         <td>    9.5445</td> <td>    0.790</td> <td>   12.085</td> <td> 0.000</td> <td>    7.997</td> <td>   11.093</td>\n",
       "</tr>\n",
       "<tr>\n",
       "  <th>Tags_Ringing</th>                              <td>   -2.0414</td> <td>    0.302</td> <td>   -6.755</td> <td> 0.000</td> <td>   -2.634</td> <td>   -1.449</td>\n",
       "</tr>\n",
       "<tr>\n",
       "  <th>Tags_Unknown</th>                              <td>    3.3880</td> <td>    0.224</td> <td>   15.151</td> <td> 0.000</td> <td>    2.950</td> <td>    3.826</td>\n",
       "</tr>\n",
       "<tr>\n",
       "  <th>Tags_Will revert after reading the email</th>  <td>    6.4428</td> <td>    0.261</td> <td>   24.716</td> <td> 0.000</td> <td>    5.932</td> <td>    6.954</td>\n",
       "</tr>\n",
       "<tr>\n",
       "  <th>Tags_switched off</th>                         <td>   -2.0623</td> <td>    0.551</td> <td>   -3.743</td> <td> 0.000</td> <td>   -3.142</td> <td>   -0.982</td>\n",
       "</tr>\n",
       "<tr>\n",
       "  <th>Tags_wrong number given</th>                   <td>  -21.3528</td> <td> 1.24e+04</td> <td>   -0.002</td> <td> 0.999</td> <td>-2.44e+04</td> <td> 2.44e+04</td>\n",
       "</tr>\n",
       "<tr>\n",
       "  <th>Lead Quality_Worst</th>                        <td>   -2.4054</td> <td>    0.829</td> <td>   -2.902</td> <td> 0.004</td> <td>   -4.030</td> <td>   -0.781</td>\n",
       "</tr>\n",
       "<tr>\n",
       "  <th>Last Notable Activity_Modified</th>            <td>   -1.5453</td> <td>    0.130</td> <td>  -11.926</td> <td> 0.000</td> <td>   -1.799</td> <td>   -1.291</td>\n",
       "</tr>\n",
       "</table>"
      ],
      "text/plain": [
       "<class 'statsmodels.iolib.summary.Summary'>\n",
       "\"\"\"\n",
       "                 Generalized Linear Model Regression Results                  \n",
       "==============================================================================\n",
       "Dep. Variable:              Converted   No. Observations:                 6351\n",
       "Model:                            GLM   Df Residuals:                     6336\n",
       "Model Family:                Binomial   Df Model:                           14\n",
       "Link Function:                  logit   Scale:                          1.0000\n",
       "Method:                          IRLS   Log-Likelihood:                -1190.6\n",
       "Date:                Mon, 26 Aug 2019   Deviance:                       2381.2\n",
       "Time:                        23:03:47   Pearson chi2:                 1.31e+04\n",
       "No. Iterations:                    22   Covariance Type:             nonrobust\n",
       "=============================================================================================================\n",
       "                                                coef    std err          z      P>|z|      [0.025      0.975]\n",
       "-------------------------------------------------------------------------------------------------------------\n",
       "const                                        -2.8856      0.195    -14.766      0.000      -3.269      -2.503\n",
       "Do Not Email                                 -1.4576      0.257     -5.680      0.000      -1.961      -0.955\n",
       "Lead Source_Welingak Website                  2.6287      0.743      3.536      0.000       1.172       4.086\n",
       "Last Activity_SMS Sent                        2.2918      0.123     18.569      0.000       2.050       2.534\n",
       "What is your current occupation_Uneployed    -2.5982      0.149    -17.417      0.000      -2.891      -2.306\n",
       "Tags_Busy                                     1.9424      0.288      6.752      0.000       1.379       2.506\n",
       "Tags_Closed by Horizzon                       8.5287      0.742     11.500      0.000       7.075       9.982\n",
       "Tags_Lost to EINS                             9.5445      0.790     12.085      0.000       7.997      11.093\n",
       "Tags_Ringing                                 -2.0414      0.302     -6.755      0.000      -2.634      -1.449\n",
       "Tags_Unknown                                  3.3880      0.224     15.151      0.000       2.950       3.826\n",
       "Tags_Will revert after reading the email      6.4428      0.261     24.716      0.000       5.932       6.954\n",
       "Tags_switched off                            -2.0623      0.551     -3.743      0.000      -3.142      -0.982\n",
       "Tags_wrong number given                     -21.3528   1.24e+04     -0.002      0.999   -2.44e+04    2.44e+04\n",
       "Lead Quality_Worst                           -2.4054      0.829     -2.902      0.004      -4.030      -0.781\n",
       "Last Notable Activity_Modified               -1.5453      0.130    -11.926      0.000      -1.799      -1.291\n",
       "=============================================================================================================\n",
       "\"\"\""
      ]
     },
     "execution_count": 60,
     "metadata": {},
     "output_type": "execute_result"
    }
   ],
   "source": [
    "#3rd model\n",
    "X_train_sm = X_train_sm.drop('Tags_invalid number', axis = 1) # 'Tags_invalid number' has high p-value; let's drop it\n",
    "logm3 = sm.GLM(y_train,X_train_sm, family = sm.families.Binomial())\n",
    "res = logm3.fit()\n",
    "res.summary()"
   ]
  },
  {
   "cell_type": "code",
   "execution_count": 61,
   "metadata": {},
   "outputs": [
    {
     "data": {
      "text/html": [
       "<table class=\"simpletable\">\n",
       "<caption>Generalized Linear Model Regression Results</caption>\n",
       "<tr>\n",
       "  <th>Dep. Variable:</th>      <td>Converted</td>    <th>  No. Observations:  </th>  <td>  6351</td>  \n",
       "</tr>\n",
       "<tr>\n",
       "  <th>Model:</th>                 <td>GLM</td>       <th>  Df Residuals:      </th>  <td>  6337</td>  \n",
       "</tr>\n",
       "<tr>\n",
       "  <th>Model Family:</th>       <td>Binomial</td>     <th>  Df Model:          </th>  <td>    13</td>  \n",
       "</tr>\n",
       "<tr>\n",
       "  <th>Link Function:</th>        <td>logit</td>      <th>  Scale:             </th> <td>  1.0000</td> \n",
       "</tr>\n",
       "<tr>\n",
       "  <th>Method:</th>               <td>IRLS</td>       <th>  Log-Likelihood:    </th> <td> -1194.2</td> \n",
       "</tr>\n",
       "<tr>\n",
       "  <th>Date:</th>           <td>Mon, 26 Aug 2019</td> <th>  Deviance:          </th> <td>  2388.4</td> \n",
       "</tr>\n",
       "<tr>\n",
       "  <th>Time:</th>               <td>23:03:47</td>     <th>  Pearson chi2:      </th> <td>1.30e+04</td> \n",
       "</tr>\n",
       "<tr>\n",
       "  <th>No. Iterations:</th>         <td>8</td>        <th>  Covariance Type:   </th> <td>nonrobust</td>\n",
       "</tr>\n",
       "</table>\n",
       "<table class=\"simpletable\">\n",
       "<tr>\n",
       "                      <td></td>                         <th>coef</th>     <th>std err</th>      <th>z</th>      <th>P>|z|</th>  <th>[0.025</th>    <th>0.975]</th>  \n",
       "</tr>\n",
       "<tr>\n",
       "  <th>const</th>                                     <td>   -2.9825</td> <td>    0.196</td> <td>  -15.225</td> <td> 0.000</td> <td>   -3.366</td> <td>   -2.599</td>\n",
       "</tr>\n",
       "<tr>\n",
       "  <th>Do Not Email</th>                              <td>   -1.4622</td> <td>    0.256</td> <td>   -5.717</td> <td> 0.000</td> <td>   -1.963</td> <td>   -0.961</td>\n",
       "</tr>\n",
       "<tr>\n",
       "  <th>Lead Source_Welingak Website</th>              <td>    2.6310</td> <td>    0.743</td> <td>    3.540</td> <td> 0.000</td> <td>    1.174</td> <td>    4.088</td>\n",
       "</tr>\n",
       "<tr>\n",
       "  <th>Last Activity_SMS Sent</th>                    <td>    2.2724</td> <td>    0.123</td> <td>   18.487</td> <td> 0.000</td> <td>    2.032</td> <td>    2.513</td>\n",
       "</tr>\n",
       "<tr>\n",
       "  <th>What is your current occupation_Uneployed</th> <td>   -2.5927</td> <td>    0.149</td> <td>  -17.420</td> <td> 0.000</td> <td>   -2.884</td> <td>   -2.301</td>\n",
       "</tr>\n",
       "<tr>\n",
       "  <th>Tags_Busy</th>                                 <td>    2.0508</td> <td>    0.286</td> <td>    7.159</td> <td> 0.000</td> <td>    1.489</td> <td>    2.612</td>\n",
       "</tr>\n",
       "<tr>\n",
       "  <th>Tags_Closed by Horizzon</th>                   <td>    8.6186</td> <td>    0.742</td> <td>   11.616</td> <td> 0.000</td> <td>    7.164</td> <td>   10.073</td>\n",
       "</tr>\n",
       "<tr>\n",
       "  <th>Tags_Lost to EINS</th>                         <td>    9.6256</td> <td>    0.790</td> <td>   12.185</td> <td> 0.000</td> <td>    8.077</td> <td>   11.174</td>\n",
       "</tr>\n",
       "<tr>\n",
       "  <th>Tags_Ringing</th>                              <td>   -1.9282</td> <td>    0.301</td> <td>   -6.410</td> <td> 0.000</td> <td>   -2.518</td> <td>   -1.339</td>\n",
       "</tr>\n",
       "<tr>\n",
       "  <th>Tags_Unknown</th>                              <td>    3.4864</td> <td>    0.224</td> <td>   15.584</td> <td> 0.000</td> <td>    3.048</td> <td>    3.925</td>\n",
       "</tr>\n",
       "<tr>\n",
       "  <th>Tags_Will revert after reading the email</th>  <td>    6.5382</td> <td>    0.261</td> <td>   25.043</td> <td> 0.000</td> <td>    6.026</td> <td>    7.050</td>\n",
       "</tr>\n",
       "<tr>\n",
       "  <th>Tags_switched off</th>                         <td>   -1.9482</td> <td>    0.550</td> <td>   -3.541</td> <td> 0.000</td> <td>   -3.027</td> <td>   -0.870</td>\n",
       "</tr>\n",
       "<tr>\n",
       "  <th>Lead Quality_Worst</th>                        <td>   -2.3596</td> <td>    0.833</td> <td>   -2.832</td> <td> 0.005</td> <td>   -3.993</td> <td>   -0.726</td>\n",
       "</tr>\n",
       "<tr>\n",
       "  <th>Last Notable Activity_Modified</th>            <td>   -1.5368</td> <td>    0.129</td> <td>  -11.869</td> <td> 0.000</td> <td>   -1.791</td> <td>   -1.283</td>\n",
       "</tr>\n",
       "</table>"
      ],
      "text/plain": [
       "<class 'statsmodels.iolib.summary.Summary'>\n",
       "\"\"\"\n",
       "                 Generalized Linear Model Regression Results                  \n",
       "==============================================================================\n",
       "Dep. Variable:              Converted   No. Observations:                 6351\n",
       "Model:                            GLM   Df Residuals:                     6337\n",
       "Model Family:                Binomial   Df Model:                           13\n",
       "Link Function:                  logit   Scale:                          1.0000\n",
       "Method:                          IRLS   Log-Likelihood:                -1194.2\n",
       "Date:                Mon, 26 Aug 2019   Deviance:                       2388.4\n",
       "Time:                        23:03:47   Pearson chi2:                 1.30e+04\n",
       "No. Iterations:                     8   Covariance Type:             nonrobust\n",
       "=============================================================================================================\n",
       "                                                coef    std err          z      P>|z|      [0.025      0.975]\n",
       "-------------------------------------------------------------------------------------------------------------\n",
       "const                                        -2.9825      0.196    -15.225      0.000      -3.366      -2.599\n",
       "Do Not Email                                 -1.4622      0.256     -5.717      0.000      -1.963      -0.961\n",
       "Lead Source_Welingak Website                  2.6310      0.743      3.540      0.000       1.174       4.088\n",
       "Last Activity_SMS Sent                        2.2724      0.123     18.487      0.000       2.032       2.513\n",
       "What is your current occupation_Uneployed    -2.5927      0.149    -17.420      0.000      -2.884      -2.301\n",
       "Tags_Busy                                     2.0508      0.286      7.159      0.000       1.489       2.612\n",
       "Tags_Closed by Horizzon                       8.6186      0.742     11.616      0.000       7.164      10.073\n",
       "Tags_Lost to EINS                             9.6256      0.790     12.185      0.000       8.077      11.174\n",
       "Tags_Ringing                                 -1.9282      0.301     -6.410      0.000      -2.518      -1.339\n",
       "Tags_Unknown                                  3.4864      0.224     15.584      0.000       3.048       3.925\n",
       "Tags_Will revert after reading the email      6.5382      0.261     25.043      0.000       6.026       7.050\n",
       "Tags_switched off                            -1.9482      0.550     -3.541      0.000      -3.027      -0.870\n",
       "Lead Quality_Worst                           -2.3596      0.833     -2.832      0.005      -3.993      -0.726\n",
       "Last Notable Activity_Modified               -1.5368      0.129    -11.869      0.000      -1.791      -1.283\n",
       "=============================================================================================================\n",
       "\"\"\""
      ]
     },
     "execution_count": 61,
     "metadata": {},
     "output_type": "execute_result"
    }
   ],
   "source": [
    "#4th Model\n",
    "X_train_sm = X_train_sm.drop('Tags_wrong number given', axis = 1) #'Tags_wrong number given' has high p-value, let's drop it\n",
    "logm4 = sm.GLM(y_train,X_train_sm, family = sm.families.Binomial())\n",
    "res = logm4.fit()\n",
    "res.summary()"
   ]
  },
  {
   "cell_type": "markdown",
   "metadata": {},
   "source": [
    "Now all the values are significant"
   ]
  },
  {
   "cell_type": "code",
   "execution_count": 62,
   "metadata": {},
   "outputs": [
    {
     "data": {
      "text/plain": [
       "pandas.core.series.Series"
      ]
     },
     "execution_count": 62,
     "metadata": {},
     "output_type": "execute_result"
    }
   ],
   "source": [
    "#Prediction on the train dataset\n",
    "y_train_pred = res.predict(X_train_sm)\n",
    "type(y_train_pred)"
   ]
  },
  {
   "cell_type": "code",
   "execution_count": 63,
   "metadata": {},
   "outputs": [
    {
     "data": {
      "text/plain": [
       "numpy.ndarray"
      ]
     },
     "execution_count": 63,
     "metadata": {},
     "output_type": "execute_result"
    }
   ],
   "source": [
    "y_train_pred = y_train_pred.values.reshape(-1) #converting to numpy array\n",
    "type(y_train_pred)"
   ]
  },
  {
   "cell_type": "code",
   "execution_count": 64,
   "metadata": {},
   "outputs": [],
   "source": [
    "#Creating dataframe with the probability values of converting\n",
    "y_train_pred_final = pd.DataFrame({'Converted':y_train.values, 'Converted_pred_prob':y_train_pred})\n",
    "y_train_pred_final['Index'] = y_train.index #Here 'Index' is the index of the original dataframe df"
   ]
  },
  {
   "cell_type": "code",
   "execution_count": 65,
   "metadata": {},
   "outputs": [
    {
     "data": {
      "text/html": [
       "<div>\n",
       "<style scoped>\n",
       "    .dataframe tbody tr th:only-of-type {\n",
       "        vertical-align: middle;\n",
       "    }\n",
       "\n",
       "    .dataframe tbody tr th {\n",
       "        vertical-align: top;\n",
       "    }\n",
       "\n",
       "    .dataframe thead th {\n",
       "        text-align: right;\n",
       "    }\n",
       "</style>\n",
       "<table border=\"1\" class=\"dataframe\">\n",
       "  <thead>\n",
       "    <tr style=\"text-align: right;\">\n",
       "      <th></th>\n",
       "      <th>Converted</th>\n",
       "      <th>Converted_pred_prob</th>\n",
       "      <th>Index</th>\n",
       "    </tr>\n",
       "  </thead>\n",
       "  <tbody>\n",
       "    <tr>\n",
       "      <th>0</th>\n",
       "      <td>0</td>\n",
       "      <td>0.110196</td>\n",
       "      <td>3009</td>\n",
       "    </tr>\n",
       "    <tr>\n",
       "      <th>1</th>\n",
       "      <td>0</td>\n",
       "      <td>0.277227</td>\n",
       "      <td>1012</td>\n",
       "    </tr>\n",
       "    <tr>\n",
       "      <th>2</th>\n",
       "      <td>0</td>\n",
       "      <td>0.015142</td>\n",
       "      <td>9226</td>\n",
       "    </tr>\n",
       "    <tr>\n",
       "      <th>3</th>\n",
       "      <td>1</td>\n",
       "      <td>0.545793</td>\n",
       "      <td>4750</td>\n",
       "    </tr>\n",
       "    <tr>\n",
       "      <th>4</th>\n",
       "      <td>1</td>\n",
       "      <td>0.999376</td>\n",
       "      <td>7987</td>\n",
       "    </tr>\n",
       "  </tbody>\n",
       "</table>\n",
       "</div>"
      ],
      "text/plain": [
       "   Converted  Converted_pred_prob  Index\n",
       "0          0             0.110196   3009\n",
       "1          0             0.277227   1012\n",
       "2          0             0.015142   9226\n",
       "3          1             0.545793   4750\n",
       "4          1             0.999376   7987"
      ]
     },
     "execution_count": 65,
     "metadata": {},
     "output_type": "execute_result"
    }
   ],
   "source": [
    "y_train_pred_final.head()"
   ]
  },
  {
   "cell_type": "code",
   "execution_count": 66,
   "metadata": {},
   "outputs": [
    {
     "data": {
      "text/html": [
       "<div>\n",
       "<style scoped>\n",
       "    .dataframe tbody tr th:only-of-type {\n",
       "        vertical-align: middle;\n",
       "    }\n",
       "\n",
       "    .dataframe tbody tr th {\n",
       "        vertical-align: top;\n",
       "    }\n",
       "\n",
       "    .dataframe thead th {\n",
       "        text-align: right;\n",
       "    }\n",
       "</style>\n",
       "<table border=\"1\" class=\"dataframe\">\n",
       "  <thead>\n",
       "    <tr style=\"text-align: right;\">\n",
       "      <th></th>\n",
       "      <th>Converted</th>\n",
       "      <th>Converted_pred_prob</th>\n",
       "      <th>Index</th>\n",
       "      <th>Converted_pred</th>\n",
       "    </tr>\n",
       "  </thead>\n",
       "  <tbody>\n",
       "    <tr>\n",
       "      <th>0</th>\n",
       "      <td>0</td>\n",
       "      <td>0.110196</td>\n",
       "      <td>3009</td>\n",
       "      <td>0</td>\n",
       "    </tr>\n",
       "    <tr>\n",
       "      <th>1</th>\n",
       "      <td>0</td>\n",
       "      <td>0.277227</td>\n",
       "      <td>1012</td>\n",
       "      <td>0</td>\n",
       "    </tr>\n",
       "    <tr>\n",
       "      <th>2</th>\n",
       "      <td>0</td>\n",
       "      <td>0.015142</td>\n",
       "      <td>9226</td>\n",
       "      <td>0</td>\n",
       "    </tr>\n",
       "    <tr>\n",
       "      <th>3</th>\n",
       "      <td>1</td>\n",
       "      <td>0.545793</td>\n",
       "      <td>4750</td>\n",
       "      <td>1</td>\n",
       "    </tr>\n",
       "    <tr>\n",
       "      <th>4</th>\n",
       "      <td>1</td>\n",
       "      <td>0.999376</td>\n",
       "      <td>7987</td>\n",
       "      <td>1</td>\n",
       "    </tr>\n",
       "  </tbody>\n",
       "</table>\n",
       "</div>"
      ],
      "text/plain": [
       "   Converted  Converted_pred_prob  Index  Converted_pred\n",
       "0          0             0.110196   3009               0\n",
       "1          0             0.277227   1012               0\n",
       "2          0             0.015142   9226               0\n",
       "3          1             0.545793   4750               1\n",
       "4          1             0.999376   7987               1"
      ]
     },
     "execution_count": 66,
     "metadata": {},
     "output_type": "execute_result"
    }
   ],
   "source": [
    "#Let's take the cutoff value of 0.5 first\n",
    "y_train_pred_final['Converted_pred'] = y_train_pred_final.Converted_pred_prob.map(lambda x: 1 if x > 0.5 else 0)\n",
    "y_train_pred_final.head()"
   ]
  },
  {
   "cell_type": "code",
   "execution_count": 67,
   "metadata": {},
   "outputs": [
    {
     "name": "stdout",
     "output_type": "stream",
     "text": [
      "[[3703  202]\n",
      " [ 209 2237]]\n"
     ]
    }
   ],
   "source": [
    "#Generating the confusion metrics\n",
    "conf = metrics.confusion_matrix(y_train_pred_final.Converted, y_train_pred_final.Converted_pred)\n",
    "print(conf)"
   ]
  },
  {
   "cell_type": "code",
   "execution_count": 68,
   "metadata": {},
   "outputs": [],
   "source": [
    "# Predicted     not_converted  Converted\n",
    "# Actual\n",
    "# not_converted        3703      202\n",
    "# converted            202      2237"
   ]
  },
  {
   "cell_type": "code",
   "execution_count": 69,
   "metadata": {},
   "outputs": [
    {
     "name": "stdout",
     "output_type": "stream",
     "text": [
      "0.9352857817666509\n"
     ]
    }
   ],
   "source": [
    "#Overall accuracy\n",
    "print(metrics.accuracy_score(y_train_pred_final.Converted, y_train_pred_final.Converted_pred))"
   ]
  },
  {
   "cell_type": "code",
   "execution_count": 70,
   "metadata": {},
   "outputs": [],
   "source": [
    "TP = conf[1,1] #true positive \n",
    "TN = conf[0,0] #true negatives\n",
    "FP = conf[0,1] #false positives\n",
    "FN = conf[1,0] #false negatives"
   ]
  },
  {
   "cell_type": "code",
   "execution_count": 71,
   "metadata": {},
   "outputs": [
    {
     "data": {
      "text/plain": [
       "0.9145543744889616"
      ]
     },
     "execution_count": 71,
     "metadata": {},
     "output_type": "execute_result"
    }
   ],
   "source": [
    "#The sensitivity\n",
    "TP / float(TP+FN)"
   ]
  },
  {
   "cell_type": "code",
   "execution_count": 72,
   "metadata": {},
   "outputs": [
    {
     "data": {
      "text/plain": [
       "0.9482714468629961"
      ]
     },
     "execution_count": 72,
     "metadata": {},
     "output_type": "execute_result"
    }
   ],
   "source": [
    "#Specificity\n",
    "TN / float(TN+FP)"
   ]
  },
  {
   "cell_type": "code",
   "execution_count": 73,
   "metadata": {},
   "outputs": [
    {
     "name": "stdout",
     "output_type": "stream",
     "text": [
      "0.05172855313700384\n"
     ]
    }
   ],
   "source": [
    "#False postive rate\n",
    "print(FP/float(TN+FP))"
   ]
  },
  {
   "cell_type": "code",
   "execution_count": 74,
   "metadata": {},
   "outputs": [
    {
     "name": "stdout",
     "output_type": "stream",
     "text": [
      "0.9171791717917179\n"
     ]
    }
   ],
   "source": [
    "#Positive predictive value \n",
    "print (TP / float(TP+FP))"
   ]
  },
  {
   "cell_type": "code",
   "execution_count": 75,
   "metadata": {},
   "outputs": [
    {
     "name": "stdout",
     "output_type": "stream",
     "text": [
      "0.9465746421267893\n"
     ]
    }
   ],
   "source": [
    "#Negative predictive value\n",
    "print (TN / float(TN+ FN))"
   ]
  },
  {
   "cell_type": "markdown",
   "metadata": {},
   "source": [
    "#### VIF"
   ]
  },
  {
   "cell_type": "code",
   "execution_count": 76,
   "metadata": {},
   "outputs": [],
   "source": [
    "def VIF(X):\n",
    "    vif = pd.DataFrame()\n",
    "    vif['Features'] = X.columns\n",
    "    vif['VIF'] = [variance_inflation_factor(X.values, i) for i in range(X.shape[1])]\n",
    "    vif['VIF'] = round(vif['VIF'], 2)\n",
    "    vif = vif.sort_values(by = \"VIF\", ascending = False)\n",
    "    return(vif)"
   ]
  },
  {
   "cell_type": "code",
   "execution_count": 77,
   "metadata": {},
   "outputs": [
    {
     "data": {
      "text/html": [
       "<div>\n",
       "<style scoped>\n",
       "    .dataframe tbody tr th:only-of-type {\n",
       "        vertical-align: middle;\n",
       "    }\n",
       "\n",
       "    .dataframe tbody tr th {\n",
       "        vertical-align: top;\n",
       "    }\n",
       "\n",
       "    .dataframe thead th {\n",
       "        text-align: right;\n",
       "    }\n",
       "</style>\n",
       "<table border=\"1\" class=\"dataframe\">\n",
       "  <thead>\n",
       "    <tr style=\"text-align: right;\">\n",
       "      <th></th>\n",
       "      <th>Features</th>\n",
       "      <th>VIF</th>\n",
       "    </tr>\n",
       "  </thead>\n",
       "  <tbody>\n",
       "    <tr>\n",
       "      <th>8</th>\n",
       "      <td>Tags_Unknown</td>\n",
       "      <td>5.05</td>\n",
       "    </tr>\n",
       "    <tr>\n",
       "      <th>3</th>\n",
       "      <td>What is your current occupation_Uneployed</td>\n",
       "      <td>4.76</td>\n",
       "    </tr>\n",
       "    <tr>\n",
       "      <th>2</th>\n",
       "      <td>Last Activity_SMS Sent</td>\n",
       "      <td>1.66</td>\n",
       "    </tr>\n",
       "    <tr>\n",
       "      <th>12</th>\n",
       "      <td>Last Notable Activity_Modified</td>\n",
       "      <td>1.54</td>\n",
       "    </tr>\n",
       "    <tr>\n",
       "      <th>9</th>\n",
       "      <td>Tags_Will revert after reading the email</td>\n",
       "      <td>1.37</td>\n",
       "    </tr>\n",
       "    <tr>\n",
       "      <th>1</th>\n",
       "      <td>Lead Source_Welingak Website</td>\n",
       "      <td>1.14</td>\n",
       "    </tr>\n",
       "    <tr>\n",
       "      <th>7</th>\n",
       "      <td>Tags_Ringing</td>\n",
       "      <td>1.13</td>\n",
       "    </tr>\n",
       "    <tr>\n",
       "      <th>0</th>\n",
       "      <td>Do Not Email</td>\n",
       "      <td>1.12</td>\n",
       "    </tr>\n",
       "    <tr>\n",
       "      <th>11</th>\n",
       "      <td>Lead Quality_Worst</td>\n",
       "      <td>1.10</td>\n",
       "    </tr>\n",
       "    <tr>\n",
       "      <th>5</th>\n",
       "      <td>Tags_Closed by Horizzon</td>\n",
       "      <td>1.06</td>\n",
       "    </tr>\n",
       "    <tr>\n",
       "      <th>4</th>\n",
       "      <td>Tags_Busy</td>\n",
       "      <td>1.05</td>\n",
       "    </tr>\n",
       "    <tr>\n",
       "      <th>6</th>\n",
       "      <td>Tags_Lost to EINS</td>\n",
       "      <td>1.05</td>\n",
       "    </tr>\n",
       "    <tr>\n",
       "      <th>10</th>\n",
       "      <td>Tags_switched off</td>\n",
       "      <td>1.04</td>\n",
       "    </tr>\n",
       "  </tbody>\n",
       "</table>\n",
       "</div>"
      ],
      "text/plain": [
       "                                     Features   VIF\n",
       "8                                Tags_Unknown  5.05\n",
       "3   What is your current occupation_Uneployed  4.76\n",
       "2                      Last Activity_SMS Sent  1.66\n",
       "12             Last Notable Activity_Modified  1.54\n",
       "9    Tags_Will revert after reading the email  1.37\n",
       "1                Lead Source_Welingak Website  1.14\n",
       "7                                Tags_Ringing  1.13\n",
       "0                                Do Not Email  1.12\n",
       "11                         Lead Quality_Worst  1.10\n",
       "5                     Tags_Closed by Horizzon  1.06\n",
       "4                                   Tags_Busy  1.05\n",
       "6                           Tags_Lost to EINS  1.05\n",
       "10                          Tags_switched off  1.04"
      ]
     },
     "execution_count": 77,
     "metadata": {},
     "output_type": "execute_result"
    }
   ],
   "source": [
    "VIF(X_train_sm.drop('const', axis = 1))"
   ]
  },
  {
   "cell_type": "markdown",
   "metadata": {},
   "source": [
    "#### The ROC curve"
   ]
  },
  {
   "cell_type": "code",
   "execution_count": 78,
   "metadata": {},
   "outputs": [],
   "source": [
    "def draw_roc( actual, probs ):\n",
    "    fpr, tpr, thresholds = metrics.roc_curve( actual, probs,\n",
    "                                              drop_intermediate = False )\n",
    "    auc_score = metrics.roc_auc_score( actual, probs )\n",
    "    plt.figure(figsize=(6, 6))\n",
    "    plt.plot( fpr, tpr, label='ROC curve (area = %0.2f)' % auc_score )\n",
    "    plt.plot([0, 1], [0, 1], 'k--')\n",
    "    plt.xlim([0.0, 1.0])\n",
    "    plt.ylim([0.0, 1.05])\n",
    "    plt.xlabel('False Positive Rate or [1 - True Negative Rate]')\n",
    "    plt.ylabel('True Positive Rate')\n",
    "    plt.title('Receiver operating characteristic example')\n",
    "    plt.legend(loc=\"lower right\")\n",
    "    plt.show()\n",
    "\n",
    "    return fpr, tpr, thresholds"
   ]
  },
  {
   "cell_type": "code",
   "execution_count": 79,
   "metadata": {},
   "outputs": [],
   "source": [
    "fpr, tpr, thresholds = metrics.roc_curve( y_train_pred_final.Converted, y_train_pred_final.Converted_pred_prob, drop_intermediate = False )"
   ]
  },
  {
   "cell_type": "code",
   "execution_count": 80,
   "metadata": {},
   "outputs": [
    {
     "data": {
      "image/png": "[encoded data removed]",
      "text/plain": [
       "<Figure size 432x432 with 1 Axes>"
      ]
     },
     "metadata": {
      "needs_background": "light"
     },
     "output_type": "display_data"
    },
    {
     "data": {
      "text/plain": [
       "(array([0.00000000e+00, 0.00000000e+00, 0.00000000e+00, 0.00000000e+00,\n",
       "        0.00000000e+00, 2.56081946e-04, 2.56081946e-04, 2.56081946e-04,\n",
       "        2.56081946e-04, 2.56081946e-04, 7.68245839e-04, 7.68245839e-04,\n",
       "        7.68245839e-04, 1.02432778e-03, 1.02432778e-03, 1.02432778e-03,\n",
       "        1.02432778e-03, 1.02432778e-03, 1.02432778e-03, 1.02432778e-03,\n",
       "        1.02432778e-03, 2.30473752e-03, 2.30473752e-03, 2.30473752e-03,\n",
       "        2.56081946e-03, 2.56081946e-03, 2.56081946e-03, 2.56081946e-03,\n",
       "        2.81690141e-03, 6.14596671e-03, 6.14596671e-03, 6.65813060e-03,\n",
       "        8.19462228e-03, 8.19462228e-03, 8.19462228e-03, 8.45070423e-03,\n",
       "        8.45070423e-03, 1.17797695e-02, 1.17797695e-02, 1.17797695e-02,\n",
       "        1.74135723e-02, 1.74135723e-02, 1.86939821e-02, 1.86939821e-02,\n",
       "        1.89500640e-02, 3.50832266e-02, 5.17285531e-02, 5.19846351e-02,\n",
       "        5.32650448e-02, 5.37772087e-02, 6.14596671e-02, 6.68373880e-02,\n",
       "        7.09346991e-02, 8.22023047e-02, 8.45070423e-02, 1.14980794e-01,\n",
       "        2.79129321e-01, 2.80409731e-01, 2.88604353e-01, 2.89884763e-01,\n",
       "        2.93469910e-01, 3.52112676e-01, 3.64660691e-01, 3.70294494e-01,\n",
       "        4.29705506e-01, 4.30985915e-01, 4.38924456e-01, 5.85147247e-01,\n",
       "        5.85915493e-01, 5.93085787e-01, 5.96670935e-01, 6.05377721e-01,\n",
       "        6.06658131e-01, 6.12035851e-01, 7.04737516e-01, 7.05505762e-01,\n",
       "        7.08834827e-01, 7.99487836e-01, 8.12291933e-01, 8.43277849e-01,\n",
       "        8.80665813e-01, 8.80921895e-01, 8.88348271e-01, 8.89372599e-01,\n",
       "        8.93725992e-01, 9.25480154e-01, 9.32906530e-01, 9.36491677e-01,\n",
       "        9.76184379e-01, 9.81049936e-01, 9.84891165e-01, 9.86171575e-01,\n",
       "        9.98975672e-01, 9.99231754e-01, 9.99487836e-01, 1.00000000e+00]),\n",
       " array([0.00000000e+00, 4.08830744e-04, 2.04415372e-03, 3.27064595e-03,\n",
       "        4.90596893e-03, 4.90596893e-03, 5.72363042e-03, 1.22649223e-02,\n",
       "        1.26737531e-02, 1.43090760e-02, 2.41210139e-02, 3.02534751e-02,\n",
       "        3.18887980e-02, 3.06214227e-01, 3.43008994e-01, 3.59362224e-01,\n",
       "        3.72035977e-01, 3.72444808e-01, 3.74488962e-01, 3.74897792e-01,\n",
       "        3.83892069e-01, 4.06786590e-01, 4.07195421e-01, 4.07604252e-01,\n",
       "        4.47669665e-01, 4.54210957e-01, 4.54619787e-01, 4.56663941e-01,\n",
       "        4.57890433e-01, 6.66802944e-01, 6.76206051e-01, 6.77841374e-01,\n",
       "        7.33851186e-01, 7.35486509e-01, 7.39165985e-01, 7.39574816e-01,\n",
       "        7.45298446e-01, 7.92722813e-01, 7.93131643e-01, 7.93949305e-01,\n",
       "        8.11120196e-01, 8.13573181e-01, 8.15208504e-01, 8.16026165e-01,\n",
       "        8.16026165e-01, 8.64677024e-01, 9.14554374e-01, 9.15372036e-01,\n",
       "        9.17825020e-01, 9.17825020e-01, 9.23548651e-01, 9.28045789e-01,\n",
       "        9.28863451e-01, 9.35404742e-01, 9.36222404e-01, 9.47260834e-01,\n",
       "        9.70155356e-01, 9.71381848e-01, 9.73017171e-01, 9.75470155e-01,\n",
       "        9.75470155e-01, 9.80784955e-01, 9.81193786e-01, 9.81602617e-01,\n",
       "        9.84873262e-01, 9.84873262e-01, 9.85282093e-01, 9.93049877e-01,\n",
       "        9.93458708e-01, 9.93867539e-01, 9.93867539e-01, 9.93867539e-01,\n",
       "        9.94276370e-01, 9.94685200e-01, 9.96320523e-01, 9.96320523e-01,\n",
       "        9.96320523e-01, 9.98773508e-01, 9.99182339e-01, 9.99182339e-01,\n",
       "        9.99591169e-01, 9.99591169e-01, 9.99591169e-01, 9.99591169e-01,\n",
       "        9.99591169e-01, 9.99591169e-01, 9.99591169e-01, 9.99591169e-01,\n",
       "        9.99591169e-01, 9.99591169e-01, 9.99591169e-01, 1.00000000e+00,\n",
       "        1.00000000e+00, 1.00000000e+00, 1.00000000e+00, 1.00000000e+00]),\n",
       " array([1.99995504e+00, 9.99955044e-01, 9.99876953e-01, 9.99788090e-01,\n",
       "        9.99743249e-01, 9.99632547e-01, 9.99563968e-01, 9.99376015e-01,\n",
       "        9.99015493e-01, 9.98807361e-01, 9.98698691e-01, 9.98293828e-01,\n",
       "        9.97947631e-01, 9.97064998e-01, 9.96445985e-01, 9.95536763e-01,\n",
       "        9.93978201e-01, 9.93433246e-01, 9.91723889e-01, 9.90528514e-01,\n",
       "        9.87456167e-01, 9.86498416e-01, 9.86392976e-01, 9.84841391e-01,\n",
       "        9.83687294e-01, 9.82882581e-01, 9.82227694e-01, 9.81019922e-01,\n",
       "        9.79580910e-01, 9.72231084e-01, 9.58312642e-01, 9.44230847e-01,\n",
       "        9.41385908e-01, 9.39727587e-01, 9.25092510e-01, 9.17469368e-01,\n",
       "        8.90267004e-01, 8.82769606e-01, 8.41944945e-01, 8.31769872e-01,\n",
       "        7.92607335e-01, 7.88210624e-01, 7.75498702e-01, 7.41050346e-01,\n",
       "        6.35692837e-01, 6.23386291e-01, 5.45793485e-01, 4.69664569e-01,\n",
       "        4.51146561e-01, 4.44583567e-01, 3.29588456e-01, 2.82576369e-01,\n",
       "        2.77226990e-01, 2.62540302e-01, 2.17802897e-01, 2.05369815e-01,\n",
       "        1.10195770e-01, 1.02270096e-01, 9.56258315e-02, 7.80982611e-02,\n",
       "        7.62086133e-02, 6.67164567e-02, 6.54828032e-02, 5.65045998e-02,\n",
       "        4.82237354e-02, 4.43762167e-02, 2.78968564e-02, 2.59448155e-02,\n",
       "        2.39159025e-02, 1.62950864e-02, 1.59778124e-02, 1.51422166e-02,\n",
       "        1.48470508e-02, 1.16045730e-02, 1.07799183e-02, 1.06460252e-02,\n",
       "        9.88880610e-03, 7.31352816e-03, 7.16985527e-03, 6.13433055e-03,\n",
       "        4.76305158e-03, 3.55012667e-03, 2.51883494e-03, 2.30902373e-03,\n",
       "        1.70430177e-03, 1.58206301e-03, 1.55080778e-03, 1.10777074e-03,\n",
       "        1.02827329e-03, 8.14662886e-04, 3.67049322e-04, 3.59789247e-04,\n",
       "        2.38464780e-04, 1.88895798e-04, 1.49650861e-04, 1.46690201e-04]))"
      ]
     },
     "execution_count": 80,
     "metadata": {},
     "output_type": "execute_result"
    }
   ],
   "source": [
    "draw_roc(y_train_pred_final.Converted, y_train_pred_final.Converted_pred_prob)"
   ]
  },
  {
   "cell_type": "markdown",
   "metadata": {},
   "source": [
    "#### Gini index"
   ]
  },
  {
   "cell_type": "code",
   "execution_count": 81,
   "metadata": {},
   "outputs": [],
   "source": [
    "def auc_val(fpr,tpr):\n",
    "    AreaUnderCurve = 0.\n",
    "    for i in range(len(fpr)-1):\n",
    "        AreaUnderCurve += (fpr[i+1]-fpr[i]) * (tpr[i+1]+tpr[i])\n",
    "    AreaUnderCurve *= 0.5\n",
    "    return AreaUnderCurve"
   ]
  },
  {
   "cell_type": "code",
   "execution_count": 82,
   "metadata": {},
   "outputs": [
    {
     "data": {
      "text/plain": [
       "0.9726599543742792"
      ]
     },
     "execution_count": 82,
     "metadata": {},
     "output_type": "execute_result"
    }
   ],
   "source": [
    "auc = auc_val(fpr,tpr)\n",
    "auc"
   ]
  },
  {
   "cell_type": "code",
   "execution_count": 83,
   "metadata": {},
   "outputs": [
    {
     "data": {
      "text/html": [
       "<div>\n",
       "<style scoped>\n",
       "    .dataframe tbody tr th:only-of-type {\n",
       "        vertical-align: middle;\n",
       "    }\n",
       "\n",
       "    .dataframe tbody tr th {\n",
       "        vertical-align: top;\n",
       "    }\n",
       "\n",
       "    .dataframe thead th {\n",
       "        text-align: right;\n",
       "    }\n",
       "</style>\n",
       "<table border=\"1\" class=\"dataframe\">\n",
       "  <thead>\n",
       "    <tr style=\"text-align: right;\">\n",
       "      <th></th>\n",
       "      <th>Converted</th>\n",
       "      <th>Converted_pred_prob</th>\n",
       "      <th>Index</th>\n",
       "      <th>Converted_pred</th>\n",
       "      <th>0.0</th>\n",
       "      <th>0.1</th>\n",
       "      <th>0.2</th>\n",
       "      <th>0.3</th>\n",
       "      <th>0.4</th>\n",
       "      <th>0.5</th>\n",
       "      <th>0.6</th>\n",
       "      <th>0.7</th>\n",
       "      <th>0.8</th>\n",
       "      <th>0.9</th>\n",
       "    </tr>\n",
       "  </thead>\n",
       "  <tbody>\n",
       "    <tr>\n",
       "      <th>0</th>\n",
       "      <td>0</td>\n",
       "      <td>0.110196</td>\n",
       "      <td>3009</td>\n",
       "      <td>0</td>\n",
       "      <td>1</td>\n",
       "      <td>1</td>\n",
       "      <td>0</td>\n",
       "      <td>0</td>\n",
       "      <td>0</td>\n",
       "      <td>0</td>\n",
       "      <td>0</td>\n",
       "      <td>0</td>\n",
       "      <td>0</td>\n",
       "      <td>0</td>\n",
       "    </tr>\n",
       "    <tr>\n",
       "      <th>1</th>\n",
       "      <td>0</td>\n",
       "      <td>0.277227</td>\n",
       "      <td>1012</td>\n",
       "      <td>0</td>\n",
       "      <td>1</td>\n",
       "      <td>1</td>\n",
       "      <td>1</td>\n",
       "      <td>0</td>\n",
       "      <td>0</td>\n",
       "      <td>0</td>\n",
       "      <td>0</td>\n",
       "      <td>0</td>\n",
       "      <td>0</td>\n",
       "      <td>0</td>\n",
       "    </tr>\n",
       "    <tr>\n",
       "      <th>2</th>\n",
       "      <td>0</td>\n",
       "      <td>0.015142</td>\n",
       "      <td>9226</td>\n",
       "      <td>0</td>\n",
       "      <td>1</td>\n",
       "      <td>0</td>\n",
       "      <td>0</td>\n",
       "      <td>0</td>\n",
       "      <td>0</td>\n",
       "      <td>0</td>\n",
       "      <td>0</td>\n",
       "      <td>0</td>\n",
       "      <td>0</td>\n",
       "      <td>0</td>\n",
       "    </tr>\n",
       "    <tr>\n",
       "      <th>3</th>\n",
       "      <td>1</td>\n",
       "      <td>0.545793</td>\n",
       "      <td>4750</td>\n",
       "      <td>1</td>\n",
       "      <td>1</td>\n",
       "      <td>1</td>\n",
       "      <td>1</td>\n",
       "      <td>1</td>\n",
       "      <td>1</td>\n",
       "      <td>1</td>\n",
       "      <td>0</td>\n",
       "      <td>0</td>\n",
       "      <td>0</td>\n",
       "      <td>0</td>\n",
       "    </tr>\n",
       "    <tr>\n",
       "      <th>4</th>\n",
       "      <td>1</td>\n",
       "      <td>0.999376</td>\n",
       "      <td>7987</td>\n",
       "      <td>1</td>\n",
       "      <td>1</td>\n",
       "      <td>1</td>\n",
       "      <td>1</td>\n",
       "      <td>1</td>\n",
       "      <td>1</td>\n",
       "      <td>1</td>\n",
       "      <td>1</td>\n",
       "      <td>1</td>\n",
       "      <td>1</td>\n",
       "      <td>1</td>\n",
       "    </tr>\n",
       "  </tbody>\n",
       "</table>\n",
       "</div>"
      ],
      "text/plain": [
       "   Converted  Converted_pred_prob  Index  Converted_pred  0.0  0.1  0.2  0.3  \\\n",
       "0          0             0.110196   3009               0    1    1    0    0   \n",
       "1          0             0.277227   1012               0    1    1    1    0   \n",
       "2          0             0.015142   9226               0    1    0    0    0   \n",
       "3          1             0.545793   4750               1    1    1    1    1   \n",
       "4          1             0.999376   7987               1    1    1    1    1   \n",
       "\n",
       "   0.4  0.5  0.6  0.7  0.8  0.9  \n",
       "0    0    0    0    0    0    0  \n",
       "1    0    0    0    0    0    0  \n",
       "2    0    0    0    0    0    0  \n",
       "3    1    1    0    0    0    0  \n",
       "4    1    1    1    1    1    1  "
      ]
     },
     "execution_count": 83,
     "metadata": {},
     "output_type": "execute_result"
    }
   ],
   "source": [
    "#Let's create columns with different probability cutoffs \n",
    "numbers = [float(x)/10 for x in range(10)]\n",
    "for i in numbers:\n",
    "    y_train_pred_final[i]= y_train_pred_final.Converted_pred_prob.map(lambda x: 1 if x > i else 0)\n",
    "y_train_pred_final.head()"
   ]
  },
  {
   "cell_type": "code",
   "execution_count": 84,
   "metadata": {},
   "outputs": [
    {
     "name": "stdout",
     "output_type": "stream",
     "text": [
      "     prob  accuracy     sensi     speci\n",
      "0.0   0.0  0.385136  1.000000  0.000000\n",
      "0.1   0.1  0.816564  0.971382  0.719590\n",
      "0.2   0.2  0.908991  0.947261  0.885019\n",
      "0.3   0.3  0.932766  0.923549  0.938540\n",
      "0.4   0.4  0.935286  0.917825  0.946223\n",
      "0.5   0.5  0.935286  0.914554  0.948271\n",
      "0.6   0.6  0.926311  0.864677  0.964917\n",
      "0.7   0.7  0.917651  0.816026  0.981306\n",
      "0.8   0.8  0.913399  0.793949  0.988220\n",
      "0.9   0.9  0.894505  0.739575  0.991549\n"
     ]
    }
   ],
   "source": [
    "#Now let's calculate accuracy, sensitivity and specificity for various probability cutoffs.\n",
    "cutoff_df = pd.DataFrame( columns = ['prob','accuracy','sensi','speci'])\n",
    "\n",
    "num = [0.0,0.1,0.2,0.3,0.4,0.5,0.6,0.7,0.8,0.9]\n",
    "for i in num:\n",
    "    cm1 = metrics.confusion_matrix(y_train_pred_final.Converted, y_train_pred_final[i] )\n",
    "    total1=sum(sum(cm1))\n",
    "    accuracy = (cm1[0,0]+cm1[1,1])/total1\n",
    "    \n",
    "    speci = cm1[0,0]/(cm1[0,0]+cm1[0,1])\n",
    "    sensi = cm1[1,1]/(cm1[1,0]+cm1[1,1])\n",
    "    cutoff_df.loc[i] =[ i ,accuracy,sensi,speci]\n",
    "print(cutoff_df)"
   ]
  },
  {
   "cell_type": "code",
   "execution_count": 85,
   "metadata": {},
   "outputs": [
    {
     "data": {
      "text/plain": [
       "(array([-0.2,  0. ,  0.2,  0.4,  0.6,  0.8,  1. ,  1.2]),\n",
       " <a list of 8 Text yticklabel objects>)"
      ]
     },
     "execution_count": 85,
     "metadata": {},
     "output_type": "execute_result"
    },
    {
     "data": {
      "image/png": "[encoded data removed]",
      "text/plain": [
       "<Figure size 720x432 with 1 Axes>"
      ]
     },
     "metadata": {},
     "output_type": "display_data"
    }
   ],
   "source": [
    "#plot of accuracy, sensitivity and specificity for various probabilities\n",
    "sns.set_style(\"whitegrid\")\n",
    "sns.set_context(\"paper\")\n",
    "cutoff_df.plot.line(x='prob', y=['accuracy','sensi','speci'], figsize=(10,6))\n",
    "\n",
    "plt.xticks(np.arange(0, 1, step=0.05), size = 12)\n",
    "plt.yticks(size = 12)"
   ]
  },
  {
   "cell_type": "code",
   "execution_count": 86,
   "metadata": {},
   "outputs": [
    {
     "data": {
      "text/html": [
       "<div>\n",
       "<style scoped>\n",
       "    .dataframe tbody tr th:only-of-type {\n",
       "        vertical-align: middle;\n",
       "    }\n",
       "\n",
       "    .dataframe tbody tr th {\n",
       "        vertical-align: top;\n",
       "    }\n",
       "\n",
       "    .dataframe thead th {\n",
       "        text-align: right;\n",
       "    }\n",
       "</style>\n",
       "<table border=\"1\" class=\"dataframe\">\n",
       "  <thead>\n",
       "    <tr style=\"text-align: right;\">\n",
       "      <th></th>\n",
       "      <th>Converted</th>\n",
       "      <th>Converted_pred_prob</th>\n",
       "      <th>Index</th>\n",
       "      <th>Converted_pred</th>\n",
       "      <th>0.0</th>\n",
       "      <th>0.1</th>\n",
       "      <th>0.2</th>\n",
       "      <th>0.3</th>\n",
       "      <th>0.4</th>\n",
       "      <th>0.5</th>\n",
       "      <th>0.6</th>\n",
       "      <th>0.7</th>\n",
       "      <th>0.8</th>\n",
       "      <th>0.9</th>\n",
       "      <th>final_prediction</th>\n",
       "    </tr>\n",
       "  </thead>\n",
       "  <tbody>\n",
       "    <tr>\n",
       "      <th>0</th>\n",
       "      <td>0</td>\n",
       "      <td>0.110196</td>\n",
       "      <td>3009</td>\n",
       "      <td>0</td>\n",
       "      <td>1</td>\n",
       "      <td>1</td>\n",
       "      <td>0</td>\n",
       "      <td>0</td>\n",
       "      <td>0</td>\n",
       "      <td>0</td>\n",
       "      <td>0</td>\n",
       "      <td>0</td>\n",
       "      <td>0</td>\n",
       "      <td>0</td>\n",
       "      <td>0</td>\n",
       "    </tr>\n",
       "    <tr>\n",
       "      <th>1</th>\n",
       "      <td>0</td>\n",
       "      <td>0.277227</td>\n",
       "      <td>1012</td>\n",
       "      <td>0</td>\n",
       "      <td>1</td>\n",
       "      <td>1</td>\n",
       "      <td>1</td>\n",
       "      <td>0</td>\n",
       "      <td>0</td>\n",
       "      <td>0</td>\n",
       "      <td>0</td>\n",
       "      <td>0</td>\n",
       "      <td>0</td>\n",
       "      <td>0</td>\n",
       "      <td>1</td>\n",
       "    </tr>\n",
       "    <tr>\n",
       "      <th>2</th>\n",
       "      <td>0</td>\n",
       "      <td>0.015142</td>\n",
       "      <td>9226</td>\n",
       "      <td>0</td>\n",
       "      <td>1</td>\n",
       "      <td>0</td>\n",
       "      <td>0</td>\n",
       "      <td>0</td>\n",
       "      <td>0</td>\n",
       "      <td>0</td>\n",
       "      <td>0</td>\n",
       "      <td>0</td>\n",
       "      <td>0</td>\n",
       "      <td>0</td>\n",
       "      <td>0</td>\n",
       "    </tr>\n",
       "    <tr>\n",
       "      <th>3</th>\n",
       "      <td>1</td>\n",
       "      <td>0.545793</td>\n",
       "      <td>4750</td>\n",
       "      <td>1</td>\n",
       "      <td>1</td>\n",
       "      <td>1</td>\n",
       "      <td>1</td>\n",
       "      <td>1</td>\n",
       "      <td>1</td>\n",
       "      <td>1</td>\n",
       "      <td>0</td>\n",
       "      <td>0</td>\n",
       "      <td>0</td>\n",
       "      <td>0</td>\n",
       "      <td>1</td>\n",
       "    </tr>\n",
       "    <tr>\n",
       "      <th>4</th>\n",
       "      <td>1</td>\n",
       "      <td>0.999376</td>\n",
       "      <td>7987</td>\n",
       "      <td>1</td>\n",
       "      <td>1</td>\n",
       "      <td>1</td>\n",
       "      <td>1</td>\n",
       "      <td>1</td>\n",
       "      <td>1</td>\n",
       "      <td>1</td>\n",
       "      <td>1</td>\n",
       "      <td>1</td>\n",
       "      <td>1</td>\n",
       "      <td>1</td>\n",
       "      <td>1</td>\n",
       "    </tr>\n",
       "  </tbody>\n",
       "</table>\n",
       "</div>"
      ],
      "text/plain": [
       "   Converted  Converted_pred_prob  Index  Converted_pred  0.0  0.1  0.2  0.3  \\\n",
       "0          0             0.110196   3009               0    1    1    0    0   \n",
       "1          0             0.277227   1012               0    1    1    1    0   \n",
       "2          0             0.015142   9226               0    1    0    0    0   \n",
       "3          1             0.545793   4750               1    1    1    1    1   \n",
       "4          1             0.999376   7987               1    1    1    1    1   \n",
       "\n",
       "   0.4  0.5  0.6  0.7  0.8  0.9  final_prediction  \n",
       "0    0    0    0    0    0    0                 0  \n",
       "1    0    0    0    0    0    0                 1  \n",
       "2    0    0    0    0    0    0                 0  \n",
       "3    1    1    0    0    0    0                 1  \n",
       "4    1    1    1    1    1    1                 1  "
      ]
     },
     "execution_count": 86,
     "metadata": {},
     "output_type": "execute_result"
    }
   ],
   "source": [
    "#Final dataframe with cutoff of 0.27\n",
    "y_train_pred_final['final_prediction'] = y_train_pred_final.Converted_pred_prob.map( lambda x: 1 if x > 0.27 else 0)\n",
    "y_train_pred_final.head()"
   ]
  },
  {
   "cell_type": "code",
   "execution_count": 87,
   "metadata": {},
   "outputs": [
    {
     "data": {
      "text/html": [
       "<div>\n",
       "<style scoped>\n",
       "    .dataframe tbody tr th:only-of-type {\n",
       "        vertical-align: middle;\n",
       "    }\n",
       "\n",
       "    .dataframe tbody tr th {\n",
       "        vertical-align: top;\n",
       "    }\n",
       "\n",
       "    .dataframe thead th {\n",
       "        text-align: right;\n",
       "    }\n",
       "</style>\n",
       "<table border=\"1\" class=\"dataframe\">\n",
       "  <thead>\n",
       "    <tr style=\"text-align: right;\">\n",
       "      <th></th>\n",
       "      <th>Converted</th>\n",
       "      <th>Converted_pred_prob</th>\n",
       "      <th>Index</th>\n",
       "      <th>Converted_pred</th>\n",
       "      <th>0.0</th>\n",
       "      <th>0.1</th>\n",
       "      <th>0.2</th>\n",
       "      <th>0.3</th>\n",
       "      <th>0.4</th>\n",
       "      <th>0.5</th>\n",
       "      <th>0.6</th>\n",
       "      <th>0.7</th>\n",
       "      <th>0.8</th>\n",
       "      <th>0.9</th>\n",
       "      <th>final_prediction</th>\n",
       "      <th>Lead_Score</th>\n",
       "    </tr>\n",
       "  </thead>\n",
       "  <tbody>\n",
       "    <tr>\n",
       "      <th>0</th>\n",
       "      <td>0</td>\n",
       "      <td>0.110196</td>\n",
       "      <td>3009</td>\n",
       "      <td>0</td>\n",
       "      <td>1</td>\n",
       "      <td>1</td>\n",
       "      <td>0</td>\n",
       "      <td>0</td>\n",
       "      <td>0</td>\n",
       "      <td>0</td>\n",
       "      <td>0</td>\n",
       "      <td>0</td>\n",
       "      <td>0</td>\n",
       "      <td>0</td>\n",
       "      <td>0</td>\n",
       "      <td>11</td>\n",
       "    </tr>\n",
       "    <tr>\n",
       "      <th>1</th>\n",
       "      <td>0</td>\n",
       "      <td>0.277227</td>\n",
       "      <td>1012</td>\n",
       "      <td>0</td>\n",
       "      <td>1</td>\n",
       "      <td>1</td>\n",
       "      <td>1</td>\n",
       "      <td>0</td>\n",
       "      <td>0</td>\n",
       "      <td>0</td>\n",
       "      <td>0</td>\n",
       "      <td>0</td>\n",
       "      <td>0</td>\n",
       "      <td>0</td>\n",
       "      <td>1</td>\n",
       "      <td>28</td>\n",
       "    </tr>\n",
       "    <tr>\n",
       "      <th>2</th>\n",
       "      <td>0</td>\n",
       "      <td>0.015142</td>\n",
       "      <td>9226</td>\n",
       "      <td>0</td>\n",
       "      <td>1</td>\n",
       "      <td>0</td>\n",
       "      <td>0</td>\n",
       "      <td>0</td>\n",
       "      <td>0</td>\n",
       "      <td>0</td>\n",
       "      <td>0</td>\n",
       "      <td>0</td>\n",
       "      <td>0</td>\n",
       "      <td>0</td>\n",
       "      <td>0</td>\n",
       "      <td>2</td>\n",
       "    </tr>\n",
       "    <tr>\n",
       "      <th>3</th>\n",
       "      <td>1</td>\n",
       "      <td>0.545793</td>\n",
       "      <td>4750</td>\n",
       "      <td>1</td>\n",
       "      <td>1</td>\n",
       "      <td>1</td>\n",
       "      <td>1</td>\n",
       "      <td>1</td>\n",
       "      <td>1</td>\n",
       "      <td>1</td>\n",
       "      <td>0</td>\n",
       "      <td>0</td>\n",
       "      <td>0</td>\n",
       "      <td>0</td>\n",
       "      <td>1</td>\n",
       "      <td>55</td>\n",
       "    </tr>\n",
       "    <tr>\n",
       "      <th>4</th>\n",
       "      <td>1</td>\n",
       "      <td>0.999376</td>\n",
       "      <td>7987</td>\n",
       "      <td>1</td>\n",
       "      <td>1</td>\n",
       "      <td>1</td>\n",
       "      <td>1</td>\n",
       "      <td>1</td>\n",
       "      <td>1</td>\n",
       "      <td>1</td>\n",
       "      <td>1</td>\n",
       "      <td>1</td>\n",
       "      <td>1</td>\n",
       "      <td>1</td>\n",
       "      <td>1</td>\n",
       "      <td>100</td>\n",
       "    </tr>\n",
       "  </tbody>\n",
       "</table>\n",
       "</div>"
      ],
      "text/plain": [
       "   Converted  Converted_pred_prob  Index  Converted_pred  0.0  0.1  0.2  0.3  \\\n",
       "0          0             0.110196   3009               0    1    1    0    0   \n",
       "1          0             0.277227   1012               0    1    1    1    0   \n",
       "2          0             0.015142   9226               0    1    0    0    0   \n",
       "3          1             0.545793   4750               1    1    1    1    1   \n",
       "4          1             0.999376   7987               1    1    1    1    1   \n",
       "\n",
       "   0.4  0.5  0.6  0.7  0.8  0.9  final_prediction  Lead_Score  \n",
       "0    0    0    0    0    0    0                 0          11  \n",
       "1    0    0    0    0    0    0                 1          28  \n",
       "2    0    0    0    0    0    0                 0           2  \n",
       "3    1    1    0    0    0    0                 1          55  \n",
       "4    1    1    1    1    1    1                 1         100  "
      ]
     },
     "execution_count": 87,
     "metadata": {},
     "output_type": "execute_result"
    }
   ],
   "source": [
    "#Assigning Lead_score\n",
    "y_train_pred_final['Lead_Score'] = y_train_pred_final.Converted_pred_prob.map( lambda x: round(x*100))\n",
    "y_train_pred_final.head()"
   ]
  },
  {
   "cell_type": "code",
   "execution_count": 88,
   "metadata": {},
   "outputs": [
    {
     "data": {
      "text/plain": [
       "0.9289875610140136"
      ]
     },
     "execution_count": 88,
     "metadata": {},
     "output_type": "execute_result"
    }
   ],
   "source": [
    "#Final accuracy with the cutoff 0.27\n",
    "metrics.accuracy_score(y_train_pred_final.Converted, y_train_pred_final.final_prediction)"
   ]
  },
  {
   "cell_type": "code",
   "execution_count": 89,
   "metadata": {},
   "outputs": [
    {
     "data": {
      "text/plain": [
       "array([[3628,  277],\n",
       "       [ 174, 2272]], dtype=int64)"
      ]
     },
     "execution_count": 89,
     "metadata": {},
     "output_type": "execute_result"
    }
   ],
   "source": [
    "#Confusion metrics with the cutoff of 0.27\n",
    "conf1 = metrics.confusion_matrix(y_train_pred_final.Converted, y_train_pred_final.final_prediction)\n",
    "conf1"
   ]
  },
  {
   "cell_type": "code",
   "execution_count": 90,
   "metadata": {},
   "outputs": [],
   "source": [
    "TP = conf1[1,1] # true positive \n",
    "TN = conf1[0,0] # true negatives\n",
    "FP = conf1[0,1] # false positives\n",
    "FN = conf1[1,0] # false negatives"
   ]
  },
  {
   "cell_type": "code",
   "execution_count": 91,
   "metadata": {},
   "outputs": [
    {
     "data": {
      "text/plain": [
       "0.92886345053148"
      ]
     },
     "execution_count": 91,
     "metadata": {},
     "output_type": "execute_result"
    }
   ],
   "source": [
    "#Sensitivity\n",
    "TP / float(TP+FN)"
   ]
  },
  {
   "cell_type": "code",
   "execution_count": 92,
   "metadata": {},
   "outputs": [
    {
     "data": {
      "text/plain": [
       "0.9290653008962868"
      ]
     },
     "execution_count": 92,
     "metadata": {},
     "output_type": "execute_result"
    }
   ],
   "source": [
    "#Specificity\n",
    "TN / float(TN+FP)"
   ]
  },
  {
   "cell_type": "code",
   "execution_count": 93,
   "metadata": {},
   "outputs": [
    {
     "name": "stdout",
     "output_type": "stream",
     "text": [
      "0.0709346991037132\n"
     ]
    }
   ],
   "source": [
    "#False postive rate\n",
    "print(FP/ float(TN+FP))"
   ]
  },
  {
   "cell_type": "code",
   "execution_count": 94,
   "metadata": {},
   "outputs": [
    {
     "name": "stdout",
     "output_type": "stream",
     "text": [
      "0.8913299333071792\n"
     ]
    }
   ],
   "source": [
    "#Positive predictive value \n",
    "print (TP / float(TP+FP))"
   ]
  },
  {
   "cell_type": "code",
   "execution_count": 95,
   "metadata": {},
   "outputs": [
    {
     "name": "stdout",
     "output_type": "stream",
     "text": [
      "0.9542346133613887\n"
     ]
    }
   ],
   "source": [
    "#Negative predictive value\n",
    "print (TN / float(TN+ FN))"
   ]
  },
  {
   "cell_type": "markdown",
   "metadata": {},
   "source": [
    "### Precision and Recall"
   ]
  },
  {
   "cell_type": "code",
   "execution_count": 96,
   "metadata": {},
   "outputs": [
    {
     "data": {
      "text/plain": [
       "0.8913299333071792"
      ]
     },
     "execution_count": 96,
     "metadata": {},
     "output_type": "execute_result"
    }
   ],
   "source": [
    "precision = conf1[1,1]/(conf1[0,1]+conf1[1,1])\n",
    "precision"
   ]
  },
  {
   "cell_type": "code",
   "execution_count": 97,
   "metadata": {},
   "outputs": [
    {
     "data": {
      "text/plain": [
       "0.92886345053148"
      ]
     },
     "execution_count": 97,
     "metadata": {},
     "output_type": "execute_result"
    }
   ],
   "source": [
    "recall = conf1[1,1]/(conf1[1,0]+conf1[1,1])\n",
    "recall"
   ]
  },
  {
   "cell_type": "code",
   "execution_count": 98,
   "metadata": {},
   "outputs": [
    {
     "data": {
      "text/plain": [
       "0.8913299333071792"
      ]
     },
     "execution_count": 98,
     "metadata": {},
     "output_type": "execute_result"
    }
   ],
   "source": [
    "precision_score(y_train_pred_final.Converted, y_train_pred_final.final_prediction)"
   ]
  },
  {
   "cell_type": "code",
   "execution_count": 99,
   "metadata": {},
   "outputs": [
    {
     "data": {
      "text/plain": [
       "0.92886345053148"
      ]
     },
     "execution_count": 99,
     "metadata": {},
     "output_type": "execute_result"
    }
   ],
   "source": [
    "recall_score(y_train_pred_final.Converted, y_train_pred_final.final_prediction)"
   ]
  },
  {
   "cell_type": "markdown",
   "metadata": {},
   "source": [
    "#### Precision and Recall Tradeoff"
   ]
  },
  {
   "cell_type": "code",
   "execution_count": 100,
   "metadata": {},
   "outputs": [
    {
     "data": {
      "text/plain": [
       "(0       0\n",
       " 1       0\n",
       " 2       0\n",
       " 3       1\n",
       " 4       1\n",
       " 5       1\n",
       " 6       0\n",
       " 7       1\n",
       " 8       1\n",
       " 9       0\n",
       " 10      0\n",
       " 11      0\n",
       " 12      0\n",
       " 13      1\n",
       " 14      1\n",
       " 15      1\n",
       " 16      0\n",
       " 17      0\n",
       " 18      0\n",
       " 19      0\n",
       " 20      1\n",
       " 21      0\n",
       " 22      0\n",
       " 23      0\n",
       " 24      1\n",
       " 25      0\n",
       " 26      1\n",
       " 27      1\n",
       " 28      0\n",
       " 29      1\n",
       "        ..\n",
       " 6321    0\n",
       " 6322    1\n",
       " 6323    0\n",
       " 6324    1\n",
       " 6325    0\n",
       " 6326    0\n",
       " 6327    0\n",
       " 6328    1\n",
       " 6329    1\n",
       " 6330    1\n",
       " 6331    0\n",
       " 6332    0\n",
       " 6333    0\n",
       " 6334    0\n",
       " 6335    0\n",
       " 6336    0\n",
       " 6337    0\n",
       " 6338    0\n",
       " 6339    0\n",
       " 6340    0\n",
       " 6341    0\n",
       " 6342    1\n",
       " 6343    0\n",
       " 6344    1\n",
       " 6345    1\n",
       " 6346    0\n",
       " 6347    1\n",
       " 6348    0\n",
       " 6349    0\n",
       " 6350    0\n",
       " Name: Converted, Length: 6351, dtype: int64, 0       0\n",
       " 1       1\n",
       " 2       0\n",
       " 3       1\n",
       " 4       1\n",
       " 5       1\n",
       " 6       0\n",
       " 7       1\n",
       " 8       1\n",
       " 9       0\n",
       " 10      0\n",
       " 11      0\n",
       " 12      0\n",
       " 13      1\n",
       " 14      1\n",
       " 15      1\n",
       " 16      0\n",
       " 17      1\n",
       " 18      0\n",
       " 19      0\n",
       " 20      1\n",
       " 21      0\n",
       " 22      0\n",
       " 23      0\n",
       " 24      1\n",
       " 25      0\n",
       " 26      1\n",
       " 27      1\n",
       " 28      0\n",
       " 29      1\n",
       "        ..\n",
       " 6321    0\n",
       " 6322    1\n",
       " 6323    0\n",
       " 6324    1\n",
       " 6325    0\n",
       " 6326    0\n",
       " 6327    0\n",
       " 6328    1\n",
       " 6329    1\n",
       " 6330    1\n",
       " 6331    0\n",
       " 6332    0\n",
       " 6333    0\n",
       " 6334    0\n",
       " 6335    0\n",
       " 6336    0\n",
       " 6337    0\n",
       " 6338    0\n",
       " 6339    0\n",
       " 6340    1\n",
       " 6341    0\n",
       " 6342    1\n",
       " 6343    0\n",
       " 6344    1\n",
       " 6345    1\n",
       " 6346    0\n",
       " 6347    1\n",
       " 6348    0\n",
       " 6349    0\n",
       " 6350    0\n",
       " Name: final_prediction, Length: 6351, dtype: int64)"
      ]
     },
     "execution_count": 100,
     "metadata": {},
     "output_type": "execute_result"
    }
   ],
   "source": [
    "y_train_pred_final.Converted, y_train_pred_final.final_prediction"
   ]
  },
  {
   "cell_type": "code",
   "execution_count": 101,
   "metadata": {},
   "outputs": [],
   "source": [
    "p, r, thresholds = precision_recall_curve(y_train_pred_final.Converted, y_train_pred_final.Converted_pred_prob)"
   ]
  },
  {
   "cell_type": "code",
   "execution_count": 102,
   "metadata": {},
   "outputs": [
    {
     "data": {
      "text/plain": [
       "([<matplotlib.axis.XTick at 0x22776bb08d0>,\n",
       "  <matplotlib.axis.XTick at 0x22776b777f0>,\n",
       "  <matplotlib.axis.XTick at 0x22776b775c0>,\n",
       "  <matplotlib.axis.XTick at 0x22776b7e2b0>,\n",
       "  <matplotlib.axis.XTick at 0x22776b7eba8>,\n",
       "  <matplotlib.axis.XTick at 0x22776b7e8d0>,\n",
       "  <matplotlib.axis.XTick at 0x2277552a048>,\n",
       "  <matplotlib.axis.XTick at 0x2277552acf8>,\n",
       "  <matplotlib.axis.XTick at 0x22776b7ea90>,\n",
       "  <matplotlib.axis.XTick at 0x22776b11400>,\n",
       "  <matplotlib.axis.XTick at 0x22776b11fd0>,\n",
       "  <matplotlib.axis.XTick at 0x22776b11940>,\n",
       "  <matplotlib.axis.XTick at 0x22775e38c18>,\n",
       "  <matplotlib.axis.XTick at 0x22775e38908>,\n",
       "  <matplotlib.axis.XTick at 0x22775e38160>,\n",
       "  <matplotlib.axis.XTick at 0x22775539ac8>,\n",
       "  <matplotlib.axis.XTick at 0x22775e384a8>,\n",
       "  <matplotlib.axis.XTick at 0x22775e38a58>,\n",
       "  <matplotlib.axis.XTick at 0x22776b11c88>,\n",
       "  <matplotlib.axis.XTick at 0x22775f13b00>],\n",
       " <a list of 20 Text xticklabel objects>)"
      ]
     },
     "execution_count": 102,
     "metadata": {},
     "output_type": "execute_result"
    },
    {
     "data": {
      "image/png": "[encoded data removed]",
      "text/plain": [
       "<Figure size 800x400 with 1 Axes>"
      ]
     },
     "metadata": {},
     "output_type": "display_data"
    }
   ],
   "source": [
    "plt.figure(figsize=(8, 4), dpi=100, facecolor='w', edgecolor='k', frameon='True')\n",
    "plt.plot(thresholds, p[:-1], \"g-\")\n",
    "plt.plot(thresholds, r[:-1], \"r-\")\n",
    "plt.xticks(np.arange(0, 1, step=0.05))"
   ]
  },
  {
   "cell_type": "markdown",
   "metadata": {},
   "source": [
    "The precision and recall tradeoff siggested a cutoff of 0.47 but we already got our expected result with the value of 0.27. So we will stick with that"
   ]
  },
  {
   "cell_type": "markdown",
   "metadata": {},
   "source": [
    "### F1 score"
   ]
  },
  {
   "cell_type": "code",
   "execution_count": 103,
   "metadata": {},
   "outputs": [
    {
     "data": {
      "text/plain": [
       "0.9097097097097098"
      ]
     },
     "execution_count": 103,
     "metadata": {},
     "output_type": "execute_result"
    }
   ],
   "source": [
    "F1 = 2*(precision*recall)/(precision+recall)\n",
    "F1"
   ]
  },
  {
   "cell_type": "markdown",
   "metadata": {},
   "source": [
    "### Prediction on The Test Set"
   ]
  },
  {
   "cell_type": "code",
   "execution_count": 104,
   "metadata": {},
   "outputs": [
    {
     "data": {
      "text/html": [
       "<div>\n",
       "<style scoped>\n",
       "    .dataframe tbody tr th:only-of-type {\n",
       "        vertical-align: middle;\n",
       "    }\n",
       "\n",
       "    .dataframe tbody tr th {\n",
       "        vertical-align: top;\n",
       "    }\n",
       "\n",
       "    .dataframe thead th {\n",
       "        text-align: right;\n",
       "    }\n",
       "</style>\n",
       "<table border=\"1\" class=\"dataframe\">\n",
       "  <thead>\n",
       "    <tr style=\"text-align: right;\">\n",
       "      <th></th>\n",
       "      <th>Do Not Email</th>\n",
       "      <th>Do Not Call</th>\n",
       "      <th>TotalVisits</th>\n",
       "      <th>Total Time Spent on Website</th>\n",
       "      <th>Page Views Per Visit</th>\n",
       "      <th>A free copy of Mastering The Interview</th>\n",
       "      <th>Lead Origin_Landing Page Submission</th>\n",
       "      <th>Lead Origin_Lead Add Form</th>\n",
       "      <th>Lead Origin_Lead Import</th>\n",
       "      <th>Lead Source_Direct Traffic</th>\n",
       "      <th>...</th>\n",
       "      <th>Country_Sri Lanka</th>\n",
       "      <th>Country_Sweden</th>\n",
       "      <th>Country_Switzerland</th>\n",
       "      <th>Country_Tanzania</th>\n",
       "      <th>Country_Uganda</th>\n",
       "      <th>Country_United Arab Emirates</th>\n",
       "      <th>Country_United Kingdom</th>\n",
       "      <th>Country_United States</th>\n",
       "      <th>Country_Vietnam</th>\n",
       "      <th>Country_unknown</th>\n",
       "    </tr>\n",
       "  </thead>\n",
       "  <tbody>\n",
       "    <tr>\n",
       "      <th>3271</th>\n",
       "      <td>0</td>\n",
       "      <td>0</td>\n",
       "      <td>0.102194</td>\n",
       "      <td>-0.600595</td>\n",
       "      <td>0.773206</td>\n",
       "      <td>0</td>\n",
       "      <td>0</td>\n",
       "      <td>0</td>\n",
       "      <td>0</td>\n",
       "      <td>0</td>\n",
       "      <td>...</td>\n",
       "      <td>0</td>\n",
       "      <td>0</td>\n",
       "      <td>0</td>\n",
       "      <td>0</td>\n",
       "      <td>0</td>\n",
       "      <td>0</td>\n",
       "      <td>0</td>\n",
       "      <td>0</td>\n",
       "      <td>0</td>\n",
       "      <td>0</td>\n",
       "    </tr>\n",
       "    <tr>\n",
       "      <th>1490</th>\n",
       "      <td>0</td>\n",
       "      <td>0</td>\n",
       "      <td>0.295588</td>\n",
       "      <td>1.887326</td>\n",
       "      <td>1.249642</td>\n",
       "      <td>1</td>\n",
       "      <td>1</td>\n",
       "      <td>0</td>\n",
       "      <td>0</td>\n",
       "      <td>1</td>\n",
       "      <td>...</td>\n",
       "      <td>0</td>\n",
       "      <td>0</td>\n",
       "      <td>0</td>\n",
       "      <td>0</td>\n",
       "      <td>0</td>\n",
       "      <td>0</td>\n",
       "      <td>0</td>\n",
       "      <td>0</td>\n",
       "      <td>0</td>\n",
       "      <td>0</td>\n",
       "    </tr>\n",
       "    <tr>\n",
       "      <th>7936</th>\n",
       "      <td>0</td>\n",
       "      <td>0</td>\n",
       "      <td>-0.284595</td>\n",
       "      <td>-0.752879</td>\n",
       "      <td>-0.179666</td>\n",
       "      <td>0</td>\n",
       "      <td>0</td>\n",
       "      <td>0</td>\n",
       "      <td>0</td>\n",
       "      <td>0</td>\n",
       "      <td>...</td>\n",
       "      <td>0</td>\n",
       "      <td>0</td>\n",
       "      <td>0</td>\n",
       "      <td>0</td>\n",
       "      <td>0</td>\n",
       "      <td>0</td>\n",
       "      <td>0</td>\n",
       "      <td>0</td>\n",
       "      <td>0</td>\n",
       "      <td>0</td>\n",
       "    </tr>\n",
       "  </tbody>\n",
       "</table>\n",
       "<p>3 rows × 157 columns</p>\n",
       "</div>"
      ],
      "text/plain": [
       "      Do Not Email  Do Not Call  TotalVisits  Total Time Spent on Website  \\\n",
       "3271             0            0     0.102194                    -0.600595   \n",
       "1490             0            0     0.295588                     1.887326   \n",
       "7936             0            0    -0.284595                    -0.752879   \n",
       "\n",
       "      Page Views Per Visit  A free copy of Mastering The Interview  \\\n",
       "3271              0.773206                                       0   \n",
       "1490              1.249642                                       1   \n",
       "7936             -0.179666                                       0   \n",
       "\n",
       "      Lead Origin_Landing Page Submission  Lead Origin_Lead Add Form  \\\n",
       "3271                                    0                          0   \n",
       "1490                                    1                          0   \n",
       "7936                                    0                          0   \n",
       "\n",
       "      Lead Origin_Lead Import  Lead Source_Direct Traffic       ...         \\\n",
       "3271                        0                           0       ...          \n",
       "1490                        0                           1       ...          \n",
       "7936                        0                           0       ...          \n",
       "\n",
       "      Country_Sri Lanka  Country_Sweden  Country_Switzerland  \\\n",
       "3271                  0               0                    0   \n",
       "1490                  0               0                    0   \n",
       "7936                  0               0                    0   \n",
       "\n",
       "      Country_Tanzania  Country_Uganda  Country_United Arab Emirates  \\\n",
       "3271                 0               0                             0   \n",
       "1490                 0               0                             0   \n",
       "7936                 0               0                             0   \n",
       "\n",
       "      Country_United Kingdom  Country_United States  Country_Vietnam  \\\n",
       "3271                       0                      0                0   \n",
       "1490                       0                      0                0   \n",
       "7936                       0                      0                0   \n",
       "\n",
       "      Country_unknown  \n",
       "3271                0  \n",
       "1490                0  \n",
       "7936                0  \n",
       "\n",
       "[3 rows x 157 columns]"
      ]
     },
     "execution_count": 104,
     "metadata": {},
     "output_type": "execute_result"
    }
   ],
   "source": [
    "#Standardizing the data\n",
    "X_test[['TotalVisits','Total Time Spent on Website','Page Views Per Visit']] = scaler.transform(X_test[['TotalVisits','Total Time Spent on Website','Page Views Per Visit']])\n",
    "X_test.head(3)"
   ]
  },
  {
   "cell_type": "code",
   "execution_count": 105,
   "metadata": {},
   "outputs": [
    {
     "data": {
      "text/html": [
       "<div>\n",
       "<style scoped>\n",
       "    .dataframe tbody tr th:only-of-type {\n",
       "        vertical-align: middle;\n",
       "    }\n",
       "\n",
       "    .dataframe tbody tr th {\n",
       "        vertical-align: top;\n",
       "    }\n",
       "\n",
       "    .dataframe thead th {\n",
       "        text-align: right;\n",
       "    }\n",
       "</style>\n",
       "<table border=\"1\" class=\"dataframe\">\n",
       "  <thead>\n",
       "    <tr style=\"text-align: right;\">\n",
       "      <th></th>\n",
       "      <th>Do Not Email</th>\n",
       "      <th>Lead Source_Welingak Website</th>\n",
       "      <th>Last Activity_SMS Sent</th>\n",
       "      <th>What is your current occupation_Uneployed</th>\n",
       "      <th>Tags_Busy</th>\n",
       "      <th>Tags_Closed by Horizzon</th>\n",
       "      <th>Tags_Lost to EINS</th>\n",
       "      <th>Tags_Ringing</th>\n",
       "      <th>Tags_Unknown</th>\n",
       "      <th>Tags_Will revert after reading the email</th>\n",
       "      <th>Tags_switched off</th>\n",
       "      <th>Lead Quality_Worst</th>\n",
       "      <th>Last Notable Activity_Modified</th>\n",
       "    </tr>\n",
       "  </thead>\n",
       "  <tbody>\n",
       "    <tr>\n",
       "      <th>3271</th>\n",
       "      <td>0</td>\n",
       "      <td>0</td>\n",
       "      <td>0</td>\n",
       "      <td>1</td>\n",
       "      <td>0</td>\n",
       "      <td>0</td>\n",
       "      <td>0</td>\n",
       "      <td>0</td>\n",
       "      <td>1</td>\n",
       "      <td>0</td>\n",
       "      <td>0</td>\n",
       "      <td>0</td>\n",
       "      <td>0</td>\n",
       "    </tr>\n",
       "    <tr>\n",
       "      <th>1490</th>\n",
       "      <td>0</td>\n",
       "      <td>0</td>\n",
       "      <td>0</td>\n",
       "      <td>0</td>\n",
       "      <td>0</td>\n",
       "      <td>0</td>\n",
       "      <td>0</td>\n",
       "      <td>0</td>\n",
       "      <td>0</td>\n",
       "      <td>1</td>\n",
       "      <td>0</td>\n",
       "      <td>0</td>\n",
       "      <td>0</td>\n",
       "    </tr>\n",
       "    <tr>\n",
       "      <th>7936</th>\n",
       "      <td>0</td>\n",
       "      <td>0</td>\n",
       "      <td>0</td>\n",
       "      <td>1</td>\n",
       "      <td>0</td>\n",
       "      <td>0</td>\n",
       "      <td>0</td>\n",
       "      <td>0</td>\n",
       "      <td>1</td>\n",
       "      <td>0</td>\n",
       "      <td>0</td>\n",
       "      <td>0</td>\n",
       "      <td>0</td>\n",
       "    </tr>\n",
       "  </tbody>\n",
       "</table>\n",
       "</div>"
      ],
      "text/plain": [
       "      Do Not Email  Lead Source_Welingak Website  Last Activity_SMS Sent  \\\n",
       "3271             0                             0                       0   \n",
       "1490             0                             0                       0   \n",
       "7936             0                             0                       0   \n",
       "\n",
       "      What is your current occupation_Uneployed  Tags_Busy  \\\n",
       "3271                                          1          0   \n",
       "1490                                          0          0   \n",
       "7936                                          1          0   \n",
       "\n",
       "      Tags_Closed by Horizzon  Tags_Lost to EINS  Tags_Ringing  Tags_Unknown  \\\n",
       "3271                        0                  0             0             1   \n",
       "1490                        0                  0             0             0   \n",
       "7936                        0                  0             0             1   \n",
       "\n",
       "      Tags_Will revert after reading the email  Tags_switched off  \\\n",
       "3271                                         0                  0   \n",
       "1490                                         1                  0   \n",
       "7936                                         0                  0   \n",
       "\n",
       "      Lead Quality_Worst  Last Notable Activity_Modified  \n",
       "3271                   0                               0  \n",
       "1490                   0                               0  \n",
       "7936                   0                               0  "
      ]
     },
     "execution_count": 105,
     "metadata": {},
     "output_type": "execute_result"
    }
   ],
   "source": [
    "#Selecting the necessary columns\n",
    "X_test = X_test[list(X_train_sm.drop('const', axis = 1))]\n",
    "X_test.head(3)"
   ]
  },
  {
   "cell_type": "code",
   "execution_count": 106,
   "metadata": {},
   "outputs": [],
   "source": [
    "#Adding constant\n",
    "X_test_sm = sm.add_constant(X_test)"
   ]
  },
  {
   "cell_type": "code",
   "execution_count": 107,
   "metadata": {},
   "outputs": [],
   "source": [
    "#Making prediction\n",
    "y_test_pred = res.predict(X_test_sm)"
   ]
  },
  {
   "cell_type": "code",
   "execution_count": 108,
   "metadata": {},
   "outputs": [
    {
     "data": {
      "text/html": [
       "<div>\n",
       "<style scoped>\n",
       "    .dataframe tbody tr th:only-of-type {\n",
       "        vertical-align: middle;\n",
       "    }\n",
       "\n",
       "    .dataframe tbody tr th {\n",
       "        vertical-align: top;\n",
       "    }\n",
       "\n",
       "    .dataframe thead th {\n",
       "        text-align: right;\n",
       "    }\n",
       "</style>\n",
       "<table border=\"1\" class=\"dataframe\">\n",
       "  <thead>\n",
       "    <tr style=\"text-align: right;\">\n",
       "      <th></th>\n",
       "      <th>0</th>\n",
       "    </tr>\n",
       "  </thead>\n",
       "  <tbody>\n",
       "    <tr>\n",
       "      <th>3271</th>\n",
       "      <td>0.110196</td>\n",
       "    </tr>\n",
       "    <tr>\n",
       "      <th>1490</th>\n",
       "      <td>0.972231</td>\n",
       "    </tr>\n",
       "    <tr>\n",
       "      <th>7936</th>\n",
       "      <td>0.110196</td>\n",
       "    </tr>\n",
       "  </tbody>\n",
       "</table>\n",
       "</div>"
      ],
      "text/plain": [
       "             0\n",
       "3271  0.110196\n",
       "1490  0.972231\n",
       "7936  0.110196"
      ]
     },
     "execution_count": 108,
     "metadata": {},
     "output_type": "execute_result"
    }
   ],
   "source": [
    "#Creating the dataframe of the prediction\n",
    "df_y_pred = pd.DataFrame(y_test_pred)\n",
    "df_y_pred.head(3)"
   ]
  },
  {
   "cell_type": "code",
   "execution_count": 109,
   "metadata": {},
   "outputs": [
    {
     "data": {
      "text/html": [
       "<div>\n",
       "<style scoped>\n",
       "    .dataframe tbody tr th:only-of-type {\n",
       "        vertical-align: middle;\n",
       "    }\n",
       "\n",
       "    .dataframe tbody tr th {\n",
       "        vertical-align: top;\n",
       "    }\n",
       "\n",
       "    .dataframe thead th {\n",
       "        text-align: right;\n",
       "    }\n",
       "</style>\n",
       "<table border=\"1\" class=\"dataframe\">\n",
       "  <thead>\n",
       "    <tr style=\"text-align: right;\">\n",
       "      <th></th>\n",
       "      <th>Converted</th>\n",
       "      <th>Index</th>\n",
       "    </tr>\n",
       "  </thead>\n",
       "  <tbody>\n",
       "    <tr>\n",
       "      <th>3271</th>\n",
       "      <td>0</td>\n",
       "      <td>3271</td>\n",
       "    </tr>\n",
       "    <tr>\n",
       "      <th>1490</th>\n",
       "      <td>1</td>\n",
       "      <td>1490</td>\n",
       "    </tr>\n",
       "    <tr>\n",
       "      <th>7936</th>\n",
       "      <td>0</td>\n",
       "      <td>7936</td>\n",
       "    </tr>\n",
       "  </tbody>\n",
       "</table>\n",
       "</div>"
      ],
      "text/plain": [
       "      Converted  Index\n",
       "3271          0   3271\n",
       "1490          1   1490\n",
       "7936          0   7936"
      ]
     },
     "execution_count": 109,
     "metadata": {},
     "output_type": "execute_result"
    }
   ],
   "source": [
    "#Dataframe of the y_test\n",
    "df_y_test = pd.DataFrame(y_test)\n",
    "df_y_test['Index'] = df_y_test.index\n",
    "df_y_test.head(3)"
   ]
  },
  {
   "cell_type": "code",
   "execution_count": 110,
   "metadata": {},
   "outputs": [],
   "source": [
    "#Removing index for both the dataframes to append them \n",
    "df_y_pred.reset_index(drop=True, inplace=True)\n",
    "df_y_test.reset_index(drop=True, inplace=True)"
   ]
  },
  {
   "cell_type": "code",
   "execution_count": 111,
   "metadata": {},
   "outputs": [
    {
     "data": {
      "text/html": [
       "<div>\n",
       "<style scoped>\n",
       "    .dataframe tbody tr th:only-of-type {\n",
       "        vertical-align: middle;\n",
       "    }\n",
       "\n",
       "    .dataframe tbody tr th {\n",
       "        vertical-align: top;\n",
       "    }\n",
       "\n",
       "    .dataframe thead th {\n",
       "        text-align: right;\n",
       "    }\n",
       "</style>\n",
       "<table border=\"1\" class=\"dataframe\">\n",
       "  <thead>\n",
       "    <tr style=\"text-align: right;\">\n",
       "      <th></th>\n",
       "      <th>Converted</th>\n",
       "      <th>Index</th>\n",
       "      <th>0</th>\n",
       "    </tr>\n",
       "  </thead>\n",
       "  <tbody>\n",
       "    <tr>\n",
       "      <th>0</th>\n",
       "      <td>0</td>\n",
       "      <td>3271</td>\n",
       "      <td>0.110196</td>\n",
       "    </tr>\n",
       "    <tr>\n",
       "      <th>1</th>\n",
       "      <td>1</td>\n",
       "      <td>1490</td>\n",
       "      <td>0.972231</td>\n",
       "    </tr>\n",
       "    <tr>\n",
       "      <th>2</th>\n",
       "      <td>0</td>\n",
       "      <td>7936</td>\n",
       "      <td>0.110196</td>\n",
       "    </tr>\n",
       "  </tbody>\n",
       "</table>\n",
       "</div>"
      ],
      "text/plain": [
       "   Converted  Index         0\n",
       "0          0   3271  0.110196\n",
       "1          1   1490  0.972231\n",
       "2          0   7936  0.110196"
      ]
     },
     "execution_count": 111,
     "metadata": {},
     "output_type": "execute_result"
    }
   ],
   "source": [
    "#Final dataframe with the original 'Converted' column and the probability values\n",
    "df_y_pred_final = pd.concat([df_y_test, df_y_pred],axis=1)\n",
    "df_y_pred_final.head(3)"
   ]
  },
  {
   "cell_type": "code",
   "execution_count": 112,
   "metadata": {},
   "outputs": [
    {
     "data": {
      "text/html": [
       "<div>\n",
       "<style scoped>\n",
       "    .dataframe tbody tr th:only-of-type {\n",
       "        vertical-align: middle;\n",
       "    }\n",
       "\n",
       "    .dataframe tbody tr th {\n",
       "        vertical-align: top;\n",
       "    }\n",
       "\n",
       "    .dataframe thead th {\n",
       "        text-align: right;\n",
       "    }\n",
       "</style>\n",
       "<table border=\"1\" class=\"dataframe\">\n",
       "  <thead>\n",
       "    <tr style=\"text-align: right;\">\n",
       "      <th></th>\n",
       "      <th>Converted</th>\n",
       "      <th>Index</th>\n",
       "      <th>Converted_pred_prob</th>\n",
       "    </tr>\n",
       "  </thead>\n",
       "  <tbody>\n",
       "    <tr>\n",
       "      <th>0</th>\n",
       "      <td>0</td>\n",
       "      <td>3271</td>\n",
       "      <td>0.110196</td>\n",
       "    </tr>\n",
       "    <tr>\n",
       "      <th>1</th>\n",
       "      <td>1</td>\n",
       "      <td>1490</td>\n",
       "      <td>0.972231</td>\n",
       "    </tr>\n",
       "    <tr>\n",
       "      <th>2</th>\n",
       "      <td>0</td>\n",
       "      <td>7936</td>\n",
       "      <td>0.110196</td>\n",
       "    </tr>\n",
       "  </tbody>\n",
       "</table>\n",
       "</div>"
      ],
      "text/plain": [
       "   Converted  Index  Converted_pred_prob\n",
       "0          0   3271             0.110196\n",
       "1          1   1490             0.972231\n",
       "2          0   7936             0.110196"
      ]
     },
     "execution_count": 112,
     "metadata": {},
     "output_type": "execute_result"
    }
   ],
   "source": [
    "#Renaming the column 0\n",
    "df_y_pred_final= df_y_pred_final.rename(columns={ 0 : 'Converted_pred_prob'})\n",
    "df_y_pred_final.head(3)"
   ]
  },
  {
   "cell_type": "code",
   "execution_count": 113,
   "metadata": {},
   "outputs": [
    {
     "data": {
      "text/html": [
       "<div>\n",
       "<style scoped>\n",
       "    .dataframe tbody tr th:only-of-type {\n",
       "        vertical-align: middle;\n",
       "    }\n",
       "\n",
       "    .dataframe tbody tr th {\n",
       "        vertical-align: top;\n",
       "    }\n",
       "\n",
       "    .dataframe thead th {\n",
       "        text-align: right;\n",
       "    }\n",
       "</style>\n",
       "<table border=\"1\" class=\"dataframe\">\n",
       "  <thead>\n",
       "    <tr style=\"text-align: right;\">\n",
       "      <th></th>\n",
       "      <th>Converted</th>\n",
       "      <th>Index</th>\n",
       "      <th>Converted_pred_prob</th>\n",
       "      <th>final_prediction</th>\n",
       "    </tr>\n",
       "  </thead>\n",
       "  <tbody>\n",
       "    <tr>\n",
       "      <th>0</th>\n",
       "      <td>0</td>\n",
       "      <td>3271</td>\n",
       "      <td>0.110196</td>\n",
       "      <td>0</td>\n",
       "    </tr>\n",
       "    <tr>\n",
       "      <th>1</th>\n",
       "      <td>1</td>\n",
       "      <td>1490</td>\n",
       "      <td>0.972231</td>\n",
       "      <td>1</td>\n",
       "    </tr>\n",
       "    <tr>\n",
       "      <th>2</th>\n",
       "      <td>0</td>\n",
       "      <td>7936</td>\n",
       "      <td>0.110196</td>\n",
       "      <td>0</td>\n",
       "    </tr>\n",
       "  </tbody>\n",
       "</table>\n",
       "</div>"
      ],
      "text/plain": [
       "   Converted  Index  Converted_pred_prob  final_prediction\n",
       "0          0   3271             0.110196                 0\n",
       "1          1   1490             0.972231                 1\n",
       "2          0   7936             0.110196                 0"
      ]
     },
     "execution_count": 113,
     "metadata": {},
     "output_type": "execute_result"
    }
   ],
   "source": [
    "#Final dataframe of prediction\n",
    "df_y_pred_final['final_prediction'] = df_y_pred_final.Converted_pred_prob.map(lambda x: 1 if x > 0.27 else 0)\n",
    "df_y_pred_final.head(3)"
   ]
  },
  {
   "cell_type": "code",
   "execution_count": 114,
   "metadata": {},
   "outputs": [
    {
     "data": {
      "text/plain": [
       "0.9283878075651855"
      ]
     },
     "execution_count": 114,
     "metadata": {},
     "output_type": "execute_result"
    }
   ],
   "source": [
    "#The overall accuracy in the test set\n",
    "metrics.accuracy_score(df_y_pred_final.Converted, df_y_pred_final.final_prediction)"
   ]
  },
  {
   "cell_type": "code",
   "execution_count": 115,
   "metadata": {},
   "outputs": [
    {
     "data": {
      "text/plain": [
       "array([[1614,  120],\n",
       "       [  75,  914]], dtype=int64)"
      ]
     },
     "execution_count": 115,
     "metadata": {},
     "output_type": "execute_result"
    }
   ],
   "source": [
    "#Generating confusion metrics, for test set\n",
    "conf2 = metrics.confusion_matrix(df_y_pred_final.Converted, df_y_pred_final.final_prediction)\n",
    "conf2"
   ]
  },
  {
   "cell_type": "code",
   "execution_count": 116,
   "metadata": {},
   "outputs": [],
   "source": [
    "TP = conf2[1,1] # true positive \n",
    "TN = conf2[0,0] # true negatives\n",
    "FP = conf2[0,1] # false positives\n",
    "FN = conf2[1,0] # false negatives"
   ]
  },
  {
   "cell_type": "code",
   "execution_count": 117,
   "metadata": {},
   "outputs": [
    {
     "data": {
      "text/plain": [
       "0.9241658240647118"
      ]
     },
     "execution_count": 117,
     "metadata": {},
     "output_type": "execute_result"
    }
   ],
   "source": [
    "#Sensitivity\n",
    "TP / float(TP+FN)"
   ]
  },
  {
   "cell_type": "code",
   "execution_count": 118,
   "metadata": {},
   "outputs": [
    {
     "data": {
      "text/plain": [
       "0.9307958477508651"
      ]
     },
     "execution_count": 118,
     "metadata": {},
     "output_type": "execute_result"
    }
   ],
   "source": [
    "#Specificity\n",
    "TN / float(TN+FP)"
   ]
  }
 ],
 "metadata": {
  "kernelspec": {
   "display_name": "Python 3",
   "language": "python",
   "name": "python3"
  },
  "language_info": {
   "codemirror_mode": {
    "name": "ipython",
    "version": 3
   },
   "file_extension": ".py",
   "mimetype": "text/x-python",
   "name": "python",
   "nbconvert_exporter": "python",
   "pygments_lexer": "ipython3",
   "version": "3.7.1"
  }
 },
 "nbformat": 4,
 "nbformat_minor": 2
}
